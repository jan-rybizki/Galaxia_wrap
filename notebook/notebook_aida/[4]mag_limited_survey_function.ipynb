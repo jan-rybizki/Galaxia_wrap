{
 "cells": [
  {
   "cell_type": "code",
   "execution_count": 1,
   "metadata": {},
   "outputs": [],
   "source": [
    "import numpy as np\n",
    "import os, sys\n",
    "path = os.path.abspath('../library/')\n",
    "if path not in sys.path:\n",
    "    sys.path.append(path)\n",
    "from convert_to_recarray import create_gdr2mock_mag_limited_survey\n",
    "import ebf, subprocess"
   ]
  },
  {
   "cell_type": "code",
   "execution_count": 2,
   "metadata": {},
   "outputs": [
    {
     "name": "stdout",
     "output_type": "stream",
     "text": [
      "Galaxia spawns new thin disk BHtree\n",
      "b'Galaxia-v0.81\\nCODEDATAPATH=/home/rybizki/Programme/GalaxiaData/\\nReading tabulated values from file- /home/rybizki/Programme/GalaxiaData/Model/vcirc.dat\\nThin disc sigma_v=[50, 32.3, 21, 0.33, 0.33]\\n    [feh, dfeh]=[0.01, -0.12], [0.01, 0.18]\\nThin Disk,ID=0:\\nMaking Tree\\nAge=7.5e+07 lAge=7.5e+07\\n Total Nodes=1948537 leafs=1704970\\nCompleted %  <1..11..21..31..41..51..61..71..81..91..>\\nMass=2.04123e+08 Leafs=1704970 Total Nodes=1948537 1.95068e+08 inf\\nWriting tree to file:               /home/rybizki/Programme/GalaxiaData/BHTree-2.3/bhtree_with_wf/bhtree_0_E1.ebf....Done\\nTime Tree generation/reading =      178.677     \\nThin disc sigma_v=[50, 32.3, 21, 0.33, 0.33]\\n    [feh, dfeh]=[0.01, -0.12], [0.01, 0.18]\\nThin Disk,ID=1:\\nMaking Tree\\nAge=5.75e+08 lAge=4.25e+08\\n Total Nodes=1847225 leafs=1616322\\nCompleted %  <1..10..20..30..40..50..60..70..80..90..100..>\\nMass=1.22831e+09 Leafs=1616322 Total Nodes=1847225 1.22745e+09 9.03297e+56\\nWriting tree to file:               /home/rybizki/Programme/GalaxiaData/BHTree-2.3/bhtree_with_wf/bhtree_1_E1.ebf....Done\\nTime Tree generation/reading =      204.587     \\nThin disc sigma_v=[50, 32.3, 21, 0.33, 0.33]\\n    [feh, dfeh]=[0.01, -0.12], [0.01, 0.18]\\nThin Disk,ID=2:\\nMaking Tree\\nAge=1.5e+09 lAge=5e+08\\n Total Nodes=2665961 leafs=2332716\\nCompleted %  <1..10..20..30..40..50..60..70..80..90..100..>\\nMass=1.61439e+09 Leafs=2332716 Total Nodes=2665961 1.61353e+09 6.2876e+18\\nWriting tree to file:               /home/rybizki/Programme/GalaxiaData/BHTree-2.3/bhtree_with_wf/bhtree_2_E1.ebf....Done\\nTime Tree generation/reading =      162.058     \\nThin disc sigma_v=[50, 32.3, 21, 0.33, 0.33]\\n    [feh, dfeh]=[0.01, -0.12], [0.01, 0.18]\\nThin Disk,ID=3:\\nMaking Tree\\nAge=2.5e+09 lAge=5e+08\\n Total Nodes=2603353 leafs=2277934\\nCompleted %  <1..10..20..30..40..50..60..70..80..90..100..>\\nMass=1.82022e+09 Leafs=2277934 Total Nodes=2603353 1.81978e+09 1.02351e+13\\nWriting tree to file:               /home/rybizki/Programme/GalaxiaData/BHTree-2.3/bhtree_with_wf/bhtree_3_E1.ebf....Done\\nTime Tree generation/reading =      124.872     \\nThin disc sigma_v=[50, 32.3, 21, 0.33, 0.33]\\n    [feh, dfeh]=[0.01, -0.12], [0.01, 0.18]\\nThin Disk,ID=4:\\nMaking Tree\\nAge=4e+09 lAge=1e+09\\n Total Nodes=3112681 leafs=2723596\\nCompleted %  <1..10..20..30..40..50..60..70..80..90..100..>\\nMass=4.35862e+09 Leafs=2723596 Total Nodes=3112681 4.35838e+09 5.31636e+21\\nWriting tree to file:               /home/rybizki/Programme/GalaxiaData/BHTree-2.3/bhtree_with_wf/bhtree_4_E1.ebf....Done\\nTime Tree generation/reading =      154.254     \\nThin disc sigma_v=[50, 32.3, 21, 0.33, 0.33]\\n    [feh, dfeh]=[0.01, -0.12], [0.01, 0.18]\\nThin Disk,ID=5:\\nMaking Tree\\nAge=6e+09 lAge=1e+09\\n Total Nodes=3237993 leafs=2833244\\nCompleted %  <1..10..20..30..40..50..60..70..80..90..100..>\\nMass=5.54068e+09 Leafs=2833244 Total Nodes=3237993 5.54058e+09 1.67724e+14\\nWriting tree to file:               /home/rybizki/Programme/GalaxiaData/BHTree-2.3/bhtree_with_wf/bhtree_5_E1.ebf....Done\\nTime Tree generation/reading =      146.591     \\nThin disc sigma_v=[50, 32.3, 21, 0.33, 0.33]\\n    [feh, dfeh]=[0.01, -0.12], [0.01, 0.18]\\nThin Disk,ID=6:\\nMaking Tree\\nAge=8.5e+09 lAge=1.5e+09\\n Total Nodes=5336377 leafs=4669330\\nCompleted %  <1..11..21..31..41..51..61..71..81..91..>\\nMass=1.12194e+10 Leafs=4669330 Total Nodes=5336377 1.12193e+10 4.06251e+13\\nWriting tree to file:               /home/rybizki/Programme/GalaxiaData/BHTree-2.3/bhtree_with_wf/bhtree_6_E1.ebf....Done\\nTime Tree generation/reading =      236.798     \\nfeh=-0.17 sig_feh=0.27\\nThick disc sigma_v=[67, 51, 42, 0.33, 0.33]\\n    [feh, dfeh, age, dage]=[-0.48, 0.3, 1.1e+10, 1e+09]\\nThickDisk:\\nMaking Tree\\nAge=1.1e+10 lAge=0\\n Total Nodes=315513 leafs=276074\\nCompleted %  <1..10..20..30..40..50..60..70..80..90..100..>\\nMass=9.32526e+09 Leafs=276074 Total Nodes=315513 9.33493e+09 20181.6\\nWriting tree to file:               /home/rybizki/Programme/GalaxiaData/BHTree-2.3/bhtree_with_wf/bhtree_7_E0.ebf....Done\\nTime Tree generation/reading =      15.6623     \\nSpheroid sigma_v=[131, 106, 85]\\n    [feh, dfeh, age, dage]=[-1.5, 0.5, 1.3e+10, 0]\\nSpheroid:\\nMaking Tree\\nAge=1.3e+10 lAge=0\\n Total Nodes=299785 leafs=262312\\nCompleted %  <1..10..20..30..40..50..60..70..80..90..100..>\\nMass=1.71905e+08 Leafs=262312 Total Nodes=299785 1.71905e+08 3.67911\\nWriting tree to file:               /home/rybizki/Programme/GalaxiaData/BHTree-2.3/bhtree_with_wf/bhtree_8_E0.ebf....Done\\nTime Tree generation/reading =      1.31875     \\nBulge sigma_v=[113, 115, 100, 71.62]\\n    [feh, dfeh, age, dage]=[0, 0.2, 1e+10, 0]\\nBulge:\\nMaking Tree\\nAge=1e+10 lAge=0\\n Total Nodes=3307769 leafs=2894298\\nCompleted %  <1..10..20..30..40..50..60..70..80..90..100..>\\nMass=1.9211e+10 Leafs=2894298 Total Nodes=3307769 1.9211e+10 2.37753\\nWriting tree to file:               /home/rybizki/Programme/GalaxiaData/BHTree-2.3/bhtree_with_wf/bhtree_9_E0.ebf....Done\\nTime Tree generation/reading =      15.7197     \\nTotal Time=                         1240.56     \\n'\n"
     ]
    }
   ],
   "source": [
    "modelFile = '/home/rybizki/Programme/GalaxiaData/Model/population_parameters_BGM_update.ebf'   \n",
    "ebf.update_ind(modelFile, '/popidstart', 0, ind=0)\n",
    "ebf.update_ind(modelFile, '/popidend', 10, ind=0)\n",
    "ebf.update_ind(modelFile, '/norm_thin_disk', 0.9, ind=0)\n",
    "ebf.update_ind(modelFile, '/norm_thick_disk', 0.8, ind=0)\n",
    "args = ['galaxia', '-s', 'warp']\n",
    "p = subprocess.Popen(args, stdout=subprocess.PIPE, stderr=subprocess.PIPE)\t\n",
    "print(\"Galaxia spawns new thin disk BHtree\")\n",
    "(output, err) = p.communicate()\n",
    "print(output)"
   ]
  },
  {
   "cell_type": "code",
   "execution_count": 3,
   "metadata": {
    "scrolled": false
   },
   "outputs": [
    {
     "name": "stderr",
     "output_type": "stream",
     "text": [
      "/home/rybizki/anaconda3/lib/python3.6/site-packages/astropy/extern/bundled/six.py:60: ResourceWarning: unclosed file <_io.TextIOWrapper name='/home/rybizki/anaconda3/lib/python3.6/site-packages/astropy/extern/bundled/six.py' mode='r' encoding='utf-8'>\n",
      "  class X(object):\n",
      "/home/rybizki/anaconda3/lib/python3.6/importlib/_bootstrap.py:205: ImportWarning: can't resolve package from __spec__ or __package__, falling back on __name__ and __path__\n",
      "  return f(*args, **kwds)\n",
      "/home/rybizki/anaconda3/lib/python3.6/importlib/_bootstrap.py:205: ImportWarning: can't resolve package from __spec__ or __package__, falling back on __name__ and __path__\n",
      "  return f(*args, **kwds)\n",
      "/home/rybizki/anaconda3/lib/python3.6/importlib/_bootstrap.py:205: ImportWarning: can't resolve package from __spec__ or __package__, falling back on __name__ and __path__\n",
      "  return f(*args, **kwds)\n",
      "/home/rybizki/anaconda3/lib/python3.6/importlib/_bootstrap.py:205: ImportWarning: can't resolve package from __spec__ or __package__, falling back on __name__ and __path__\n",
      "  return f(*args, **kwds)\n",
      "/home/rybizki/anaconda3/lib/python3.6/importlib/_bootstrap.py:205: ImportWarning: can't resolve package from __spec__ or __package__, falling back on __name__ and __path__\n",
      "  return f(*args, **kwds)\n",
      "/home/rybizki/anaconda3/lib/python3.6/importlib/_bootstrap.py:205: ImportWarning: can't resolve package from __spec__ or __package__, falling back on __name__ and __path__\n",
      "  return f(*args, **kwds)\n"
     ]
    },
    {
     "name": "stdout",
     "output_type": "stream",
     "text": [
      "Galaxia spawns catalogue\n",
      "########################################################################################\n",
      "############################# GALAXIA OUTPUT END ##################\n",
      "########################################################################################\n",
      "391087\n",
      "('rad', 'teff', 'vx', 'vy', 'vz', 'pz', 'px', 'py', 'feh', 'exbv_schlegel', 'lum', 'glon', 'glat', 'smass', 'age', 'grav', 'gaia_g', 'gaia_bpft', 'gaia_bpbr', 'gaia_rp', 'gaia_rvs', 'popid', 'mact')\n",
      "converting to npy and appending ra and dec took 2.2 sec\n",
      "0 391087\n",
      "converting time and applying extinction map for 391087 sources in nside = 512 took 1.7 sec\n",
      "indexing and remapping to isochrones took 3.4 sec\n",
      "calculating extinction curve for all bands took 10.6 sec\n",
      "391087\n",
      "391020\n",
      "calculated healpix\n",
      "calculated pmdec pmra and rv\n",
      "cleaning of data took 2.1 sec\n",
      "plotting time took 0.5 sec\n",
      "Total time in minutes: 0.6\n",
      "Galaxia spawns catalogue\n",
      "b'Galaxia-v0.81\\nCODEDATAPATH=/home/rybizki/Programme/GalaxiaData/\\nReading Parameter file-             ../output/final1_0.001/GDR2mock_20.7Gmag.log\\n--------------------------------------------------------\\noutputFile               GDR2mock_20.7Gmag       \\nmodelFile                Model/population_parameters_BGM_update.ebf\\ncodeDataDir              /home/rybizki/Programme/GalaxiaData\\noutputDir                ../output/final1_0.001  \\nphotoSys                 parsec1/GAIADR3         \\nmagcolorNames            gaia_g,gaia_bpft-gaia_rp\\nappMagLimits[0]          -1000.000000            \\nappMagLimits[1]          20.700000               \\nabsMagLimits[0]          -1000.000000            \\nabsMagLimits[1]          1000.000000             \\ncolorLimits[0]           -1000.000000            \\ncolorLimits[1]           1000.000000             \\ngeometryOption           0                       \\nlongitude                0.000000                \\nlatitude                 90.000000               \\nsurveyArea               1000.000000             \\nfSample                  0.001000                \\npopID                    -1                      \\nwarpFlareOn              1                       \\nseed                     1                       \\nr_max                    1000.000000             \\nstarType                 0                       \\nphotoError               0                       \\n--------------------------------------------------------\\nReading tabulated values from file- /home/rybizki/Programme/GalaxiaData/Model/vcirc.dat\\nUsing geometry:                     All Sky\\nReading Isochrones from dir-        /home/rybizki/Programme/GalaxiaData/Isochrones/padova/parsec1/GAIADR3\\nzsol=0.0152\\n/home/rybizki/Programme/GalaxiaData/Isochrones/padova/parsec1/GAIADR3\\n13275 75 177\\nIsochrone Grid Size:                (Age bins=177,Feh bins=75,Alpha bins=1)\\nTime Isochrone Reading              0.714702    \\nGenerating populations................\\n--------------------------------------------------------\\nThin disc sigma_v=[50, 32.3, 21, 0.33, 0.33]\\n    [feh, dfeh]=[0.01, -0.12], [0.01, 0.18]\\nThin Disk,ID=0:\\nReading tree from file-             /home/rybizki/Programme/GalaxiaData/BHTree-2.3/bhtree_with_wf/bhtree_0_E1.ebf\\nTime Tree generation/reading =      0.424743    \\nCompleted % <0..10..20..30..40..50..60..70..80..90..>\\nStars spawned =                     62446       \\nTime Spawning=                      13.2147     \\n--------------------------------------------------------\\nThin disc sigma_v=[50, 32.3, 21, 0.33, 0.33]\\n    [feh, dfeh]=[0.01, -0.12], [0.01, 0.18]\\nThin Disk,ID=1:\\nReading tree from file-             /home/rybizki/Programme/GalaxiaData/BHTree-2.3/bhtree_with_wf/bhtree_1_E1.ebf\\nTime Tree generation/reading =      0.397122    \\nCompleted % <0..9..19..29..39..49..59..69..79..89..99..>\\nStars spawned =                     341472      \\nTime Spawning=                      16.6258     \\n--------------------------------------------------------\\nThin disc sigma_v=[50, 32.3, 21, 0.33, 0.33]\\n    [feh, dfeh]=[0.01, -0.12], [0.01, 0.18]\\nThin Disk,ID=2:\\nReading tree from file-             /home/rybizki/Programme/GalaxiaData/BHTree-2.3/bhtree_with_wf/bhtree_2_E1.ebf\\nTime Tree generation/reading =      0.590767    \\nCompleted % <0..9..19..29..39..49..59..69..79..89..99..>\\nStars spawned =                     402130      \\nTime Spawning=                      17.9841     \\n--------------------------------------------------------\\nThin disc sigma_v=[50, 32.3, 21, 0.33, 0.33]\\n    [feh, dfeh]=[0.01, -0.12], [0.01, 0.18]\\nThin Disk,ID=3:\\nReading tree from file-             /home/rybizki/Programme/GalaxiaData/BHTree-2.3/bhtree_with_wf/bhtree_3_E1.ebf\\nTime Tree generation/reading =      0.560163    \\nCompleted % <0..9..19..29..39..49..59..69..79..89..99..>\\nStars spawned =                     393857      \\nTime Spawning=                      16.1547     \\n--------------------------------------------------------\\nThin disc sigma_v=[50, 32.3, 21, 0.33, 0.33]\\n    [feh, dfeh]=[0.01, -0.12], [0.01, 0.18]\\nThin Disk,ID=4:\\nReading tree from file-             /home/rybizki/Programme/GalaxiaData/BHTree-2.3/bhtree_with_wf/bhtree_4_E1.ebf\\nTime Tree generation/reading =      0.683416    \\nCompleted % <0..9..19..29..39..49..59..69..79..89..99..>\\nStars spawned =                     792155      \\nTime Spawning=                      23.3877     \\n--------------------------------------------------------\\nThin disc sigma_v=[50, 32.3, 21, 0.33, 0.33]\\n    [feh, dfeh]=[0.01, -0.12], [0.01, 0.18]\\nThin Disk,ID=5:\\nReading tree from file-             /home/rybizki/Programme/GalaxiaData/BHTree-2.3/bhtree_with_wf/bhtree_5_E1.ebf\\nTime Tree generation/reading =      0.729725    \\nCompleted % <0..9..19..29..39..49..59..69..79..89..99..>\\nStars spawned =                     846746      \\nTime Spawning=                      26.57       \\n--------------------------------------------------------\\nThin disc sigma_v=[50, 32.3, 21, 0.33, 0.33]\\n    [feh, dfeh]=[0.01, -0.12], [0.01, 0.18]\\nThin Disk,ID=6:\\nReading tree from file-             /home/rybizki/Programme/GalaxiaData/BHTree-2.3/bhtree_with_wf/bhtree_6_E1.ebf\\nTime Tree generation/reading =      1.21254     \\nCompleted % <0..10..20..30..40..50..60..70..80..90..>\\nStars spawned =                     1469099     \\nTime Spawning=                      51.8327     \\n--------------------------------------------------------\\nfeh=-0.17 sig_feh=0.27\\nThick disc sigma_v=[67, 51, 42, 0.33, 0.33]\\n    [feh, dfeh, age, dage]=[-0.48, 0.3, 1.1e+10, 1e+09]\\nThickDisk:\\nReading tree from file-             /home/rybizki/Programme/GalaxiaData/BHTree-2.3/bhtree_with_wf/bhtree_7_E0.ebf\\nTime Tree generation/reading =      0.061928    \\nCompleted % <0..9..19..29..39..49..59..69..79..89..99..>\\nStars spawned =                     810421      \\nTime Spawning=                      8.67471     \\n--------------------------------------------------------\\nSpheroid sigma_v=[131, 106, 85]\\n    [feh, dfeh, age, dage]=[-1.5, 0.5, 1.3e+10, 0]\\nSpheroid:\\nReading tree from file-             /home/rybizki/Programme/GalaxiaData/BHTree-2.3/bhtree_with_wf/bhtree_8_E0.ebf\\nTime Tree generation/reading =      0.057675    \\nCompleted % <0..9..19..29..39..49..59..69..79..89..99..>\\nStars spawned =                     1974        \\nTime Spawning=                      3.95999     \\n--------------------------------------------------------\\nBulge sigma_v=[113, 115, 100, 71.62]\\n    [feh, dfeh, age, dage]=[0, 0.2, 1e+10, 0]\\nBulge:\\nReading tree from file-             /home/rybizki/Programme/GalaxiaData/BHTree-2.3/bhtree_with_wf/bhtree_9_E0.ebf\\nTime Tree generation/reading =      0.703309    \\nCompleted % <0..9..19..29..39..49..59..69..79..89..99..>\\nStars spawned =                     1191701     \\nTime Spawning=                      31.8059     \\n--------------------------------------------------------\\nTotal stars written                 6312001                 \\nFile written-                       ../output/final1_0.001//GDR2mock_20.7Gmag.ebf\\nCalulating magnitudes................\\nReading Isochrones from dir-        /home/rybizki/Programme/GalaxiaData/Isochrones/padova/parsec1/GAIADR3\\nzsol=0.0152\\n/home/rybizki/Programme/GalaxiaData/Isochrones/padova/parsec1/GAIADR3\\n13275 75 177\\nIsochrone Grid Size:                (Age bins=177,Feh bins=75,Alpha bins=1)\\nTime Isochrone Reading              1.10757     \\ngaia_g\\ngaia_bpbr\\ngaia_bpft\\ngaia_rp\\ngaia_rvs\\nCalulating Extinction................\\nTime for extinction calculation     1.84178     \\nTotal Time=                         222.215     \\n'\n",
      "########################################################################################\n",
      "############################# GALAXIA OUTPUT END ##################\n",
      "########################################################################################\n"
     ]
    },
    {
     "name": "stdout",
     "output_type": "stream",
     "text": [
      "6312001\n",
      "('rad', 'teff', 'vx', 'vy', 'vz', 'pz', 'px', 'py', 'feh', 'exbv_schlegel', 'lum', 'glon', 'glat', 'smass', 'age', 'grav', 'gaia_g', 'gaia_bpft', 'gaia_bpbr', 'gaia_rp', 'gaia_rvs', 'popid', 'mact')\n",
      "converting to npy and appending ra and dec took 34.0 sec\n",
      "0 6312001\n",
      "1000000 6312001\n",
      "2000000 6312001\n",
      "3000000 6312001\n",
      "4000000 6312001\n",
      "5000000 6312001\n",
      "6000000 6312001\n",
      "converting time and applying extinction map for 6312001 sources in nside = 512 took 23.2 sec\n",
      "indexing and remapping to isochrones took 34.3 sec\n",
      "calculating extinction curve for all bands took 177.0 sec\n",
      "6312001\n",
      "1544693\n",
      "calculated healpix\n",
      "calculated pmdec pmra and rv\n",
      "cleaning of data took 9.6 sec\n"
     ]
    },
    {
     "name": "stderr",
     "output_type": "stream",
     "text": [
      "/home/rybizki/anaconda3/lib/python3.6/site-packages/matplotlib/__init__.py:1405: UserWarning: \n",
      "This call to matplotlib.use() has no effect because the backend has already\n",
      "been chosen; matplotlib.use() must be called *before* pylab, matplotlib.pyplot,\n",
      "or matplotlib.backends is imported for the first time.\n",
      "\n",
      "  warnings.warn(_use_error_msg)\n"
     ]
    },
    {
     "name": "stdout",
     "output_type": "stream",
     "text": [
      "total number of stars = 1544693000\n",
      "0.0\n",
      "1544693000.01\n",
      "117789833989.0\n",
      "plotting time took 3.4 sec\n",
      "Total time in minutes: 8.4\n"
     ]
    }
   ],
   "source": [
    "name = 'final1'\n",
    "create_gdr2mock_mag_limited_survey(nside = 512, outputDir = '../output/%s_100pc' %(name),\n",
    "                                   use_previous = False, delete_ebf = True,\n",
    "                                  fSample = 1, make_likelihood_asessment=False, r_max = 0.1,\n",
    "                                  verbose = False)\n",
    "create_gdr2mock_mag_limited_survey(nside = 512, outputDir = '../output/%s_0.001' %(name),\n",
    "                                   use_previous = False, delete_ebf = True,\n",
    "                                  fSample = 0.001, make_likelihood_asessment=False)"
   ]
  },
  {
   "cell_type": "code",
   "execution_count": null,
   "metadata": {
    "collapsed": true
   },
   "outputs": [],
   "source": []
  }
 ],
 "metadata": {
  "kernelspec": {
   "display_name": "Python 3",
   "language": "python",
   "name": "python3"
  },
  "language_info": {
   "codemirror_mode": {
    "name": "ipython",
    "version": 3
   },
   "file_extension": ".py",
   "mimetype": "text/x-python",
   "name": "python",
   "nbconvert_exporter": "python",
   "pygments_lexer": "ipython3",
   "version": "3.6.2"
  }
 },
 "nbformat": 4,
 "nbformat_minor": 2
}
