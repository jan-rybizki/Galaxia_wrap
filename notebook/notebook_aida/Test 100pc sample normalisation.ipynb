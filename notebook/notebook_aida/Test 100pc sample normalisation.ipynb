{
 "cells": [
  {
   "cell_type": "code",
   "execution_count": 2,
   "metadata": {},
   "outputs": [
    {
     "name": "stdout",
     "output_type": "stream",
     "text": [
      "Populating the interactive namespace from numpy and matplotlib\n"
     ]
    }
   ],
   "source": [
    "%pylab inline\n",
    "from astropy.io import fits"
   ]
  },
  {
   "cell_type": "code",
   "execution_count": 21,
   "metadata": {},
   "outputs": [
    {
     "name": "stdout",
     "output_type": "stream",
     "text": [
      "## Local normalisation, compare to Czekaj+14 table 7 ##\n",
      "popid= 0  2.0 Msun/pc^3*10^-3\n",
      "popid= 1  5.6 Msun/pc^3*10^-3\n",
      "popid= 2  4.3 Msun/pc^3*10^-3\n",
      "popid= 3  3.5 Msun/pc^3*10^-3\n",
      "popid= 4  6.1 Msun/pc^3*10^-3\n",
      "popid= 5  5.9 Msun/pc^3*10^-3\n",
      "popid= 6  11.1 Msun/pc^3*10^-3\n",
      "popid= 7  2.5 Msun/pc^3*10^-3\n",
      "popid= 8  8.2 Msun/pc^3*10^-6\n",
      "thindisc WD  13.2 Msun/pc^3*10^-3 4.4 mact\n",
      "thick disc WD  5.9 Msun/pc^3*10^-3 2.0 mact\n"
     ]
    }
   ],
   "source": [
    "print('## Local normalisation, compare to Czekaj+14 table 7 ##')\n",
    "outputDir = '../output/more_bulge_100pc'\n",
    "#outputDir = '../output/mockcat_new_SFR_new_IMF_100pc_more_thick'\n",
    "x = fits.getdata(outputDir + '/' + 'GDR2mock_20.7Gmag.fits')\n",
    "smaller_sphere = 50\n",
    "sphere = (4/3)*np.pi*smaller_sphere**3\n",
    "for popid in np.arange(9):\n",
    "    selection = (x.popid==popid) & (x.logg < 7) & (np.divide(1,x.parallax)<smaller_sphere/1000)\n",
    "    if (popid!=8):\n",
    "        print('popid=',popid,' %.1f Msun/pc^3*10^-3' %(sum(x.smass[selection])/sphere*1000))\n",
    "    else:\n",
    "        print('popid=',popid,' %.1f Msun/pc^3*10^-6' %(sum(x.smass[selection])/sphere*1e6))\n",
    "\n",
    "selection = (x.popid<=6) & (x.logg > 7)& (np.divide(1,x.parallax)<smaller_sphere/1000)\n",
    "print('thindisc WD',' %.1f Msun/pc^3*10^-3 %.1f mact' %(sum(x.smass[selection])/sphere*1000,sum(x.mact[selection])/sphere*1000))\n",
    "selection = (x.popid==7) & (x.logg > 7)& (np.divide(1,x.parallax)<smaller_sphere/1000)\n",
    "print('thick disc WD',' %.1f Msun/pc^3*10^-3 %.1f mact' %(sum(x.smass[selection])/sphere*1000,sum(x.mact[selection])/sphere*1000))"
   ]
  },
  {
   "cell_type": "code",
   "execution_count": 3,
   "metadata": {},
   "outputs": [
    {
     "name": "stdout",
     "output_type": "stream",
     "text": [
      "0.0027708133222434112\n",
      "0.004343076162318837\n",
      "1 0.005873594806356947\n",
      "2 0.006563124916674242\n",
      "3 0.007399902693398728\n",
      "4 0.008859291998717789\n",
      "5 0.011262367425990327\n",
      "6 0.015202605832178794\n",
      "5980956.0\n"
     ]
    }
   ],
   "source": [
    "# Galaxia parametrization\n",
    "sfrv = np.array([1.60552043, 1.79400035, 2.02272975, 2.42164718,3.07851692, 4.15556317])\n",
    "#thindisk0\n",
    "hr1=5.0;\n",
    "hr2=3.0;\n",
    "rho0=1.5120222/(5.5683282*(hr1*hr1*hr1-hr2*hr2*hr2))\n",
    "print(rho0)\n",
    "rho0=2.37/(5.5683282*(hr1*hr1*hr1-hr2*hr2*hr2))\n",
    "print(rho0)\n",
    "\n",
    "#thindisk1        \n",
    "hr1=2.400#the value now is used in Czekaj+2014, 2.200; used in Reyle+2009//2.530; used in Robin+ 2003, Galaxia original \n",
    "hr2=1.320#;\n",
    "for i,sfr in enumerate(sfrv):\n",
    "    rho0=sfr/(23.719602*(hr1*hr1*hr1-hr2*hr2*hr2))\n",
    "    print(i+1, rho0)\n",
    "#thickdisc        \n",
    "hr1=2.5;\n",
    "hr2=0.8;\n",
    "xl=0.4;\n",
    "c1=1/((hr2*xl)*(2+xl/hr2));\n",
    "c2=np.exp(xl/hr2)/(1+0.5*xl/hr2);\n",
    "rho0=1.34e6*4.4634;\n",
    "print(rho0)\n",
    "#Halo:\n",
    "ac=0.5;\n",
    "rho0=9.32e3*6.4159*1.1;\n",
    "\n",
    "        \n",
    "        \n",
    "#Bulge:\n",
    "rho0=0.255*13.7e9;\n",
    "a=78.9 ; b=3.5; g=91.3;\n",
    "x0=1.59; y0=0.424; z0=0.424;\n",
    "Rc=2.54;\n"
   ]
  },
  {
   "cell_type": "code",
   "execution_count": 4,
   "metadata": {
    "collapsed": true
   },
   "outputs": [],
   "source": [
    "agev = np.array([0.075e9, 0.575e9 ,1.5e9, 2.5e9, 4e9,   6e9,   8.5e9])\n",
    "agev = np.divide(agev,1e9)\n",
    "dagev = np.array([0.075e9, 0.425e9, 0.5e9, 0.5e9, 1e9,   1e9,   1.5e9])\n",
    "dagev = np.divide(dagev,1e9)"
   ]
  },
  {
   "cell_type": "code",
   "execution_count": 5,
   "metadata": {},
   "outputs": [
    {
     "name": "stdout",
     "output_type": "stream",
     "text": [
      "## Local normalisation, compare to Czekaj+14 table 7 ##\n",
      "popid= 0  2.9 Msun/pc^3*10^-3\n",
      "popid= 1  7.6 Msun/pc^3*10^-3\n",
      "popid= 2  5.3 Msun/pc^3*10^-3\n",
      "popid= 3  3.8 Msun/pc^3*10^-3\n",
      "popid= 4  5.7 Msun/pc^3*10^-3\n",
      "popid= 5  4.6 Msun/pc^3*10^-3\n",
      "popid= 6  5.0 Msun/pc^3*10^-3\n",
      "thick disc  1.2 Msun/pc^3*10^-3\n",
      "halo  10.2 Msun/pc^3*10^-6\n"
     ]
    }
   ],
   "source": [
    "print('## Local normalisation, compare to Czekaj+14 table 7 ##')\n",
    "outputDir = '../output/GDR2mock_207'\n",
    "#outputDir = '../output/mockcat_new_SFR_new_IMF_100pc_more_thick'\n",
    "x = fits.getdata(outputDir + '/' + 'GDR2mock_50pc.fits')\n",
    "smaller_sphere = 50\n",
    "sphere = (4/3)*np.pi*smaller_sphere**3\n",
    "for i in np.arange(7):\n",
    "    selection = (x.age<agev[i]+dagev[i]) & (x.age > agev[i]-dagev[i]) \n",
    "    print('popid=',i,' %.1f Msun/pc^3*10^-3' %(sum(x.mass[selection])/sphere*1e3))\n",
    "\n",
    "selection = (x.age>=10) & (x.age <= 11)\n",
    "print('thick disc',' %.1f Msun/pc^3*10^-3' %(sum(x.mass[selection])/sphere*1000))\n",
    "selection = (x.age>11)\n",
    "print('halo',' %.1f Msun/pc^3*10^-6' %(sum(x.mass[selection])/sphere*1e6))"
   ]
  },
  {
   "cell_type": "code",
   "execution_count": null,
   "metadata": {
    "collapsed": true
   },
   "outputs": [],
   "source": []
  }
 ],
 "metadata": {
  "kernelspec": {
   "display_name": "Python 3",
   "language": "python",
   "name": "python3"
  },
  "language_info": {
   "codemirror_mode": {
    "name": "ipython",
    "version": 3
   },
   "file_extension": ".py",
   "mimetype": "text/x-python",
   "name": "python",
   "nbconvert_exporter": "python",
   "pygments_lexer": "ipython3",
   "version": "3.6.3"
  }
 },
 "nbformat": 4,
 "nbformat_minor": 2
}
