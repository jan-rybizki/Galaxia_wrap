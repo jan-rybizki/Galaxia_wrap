{
 "cells": [
  {
   "cell_type": "code",
   "execution_count": null,
   "metadata": {
    "collapsed": true
   },
   "outputs": [],
   "source": [
    "import numpy as np\n",
    "import os, sys\n",
    "path = os.path.abspath('../library/')\n",
    "if path not in sys.path:\n",
    "    sys.path.append(path)\n",
    "from convert_to_recarray import create_gdr2mock_mag_limited_survey\n",
    "import ebf, subprocess\n",
    "from cumhpx import do_likelihood, local_normalisation"
   ]
  },
  {
   "cell_type": "code",
   "execution_count": null,
   "metadata": {
    "scrolled": false
   },
   "outputs": [],
   "source": [
    "'''\n",
    "default start = 0\n",
    "default end = 10\n",
    "0-6 == thin disk\n",
    "7 = thick disk\n",
    "8 = halo\n",
    "9 = bulge\n",
    "what can be changed:\n",
    "/norm_thin_disk\n",
    "/norm_thick_disk\n",
    "/norm_halo\n",
    "/norm_bulge\n",
    "'''\n",
    "modelFile = '/home/rybizki/Programme/GalaxiaData/Model/population_parameters_BGM_update.ebf'   \n",
    "thin_norms = [0.6,0.7,0.8,0.9,1.0]\n",
    "thick_norms = [1.0,1.5,2.0]\n",
    "result = np.zeros(shape = (len(thin_norms),len(thick_norms),7))\n",
    "for i,thin_norm in enumerate(thin_norms):\n",
    "    print(thin_norm)\n",
    "    print('#######################################')\n",
    "    ebf.update_ind(modelFile, '/popidstart', 0, ind=0)\n",
    "    ebf.update_ind(modelFile, '/popidend', 7, ind=0)\n",
    "    ebf.update_ind(modelFile, '/norm_thin_disk', thin_norm, ind=0)\n",
    "    ### make new bhtree\n",
    "    args = ['galaxia', '-s', 'warp']\n",
    "    p = subprocess.Popen(args, stdout=subprocess.PIPE, stderr=subprocess.PIPE)\t\n",
    "    print(\"Galaxia spawns new thin disk BHtree\")\n",
    "    (output, err) = p.communicate()\n",
    "    if True:\n",
    "        print(output)\n",
    "\n",
    "    for j,thick_norm in enumerate(thick_norms):\n",
    "        print(thick_norm)\n",
    "        print('#######################################')\n",
    "        ebf.update_ind(modelFile, '/popidstart', 7, ind=0)\n",
    "        ebf.update_ind(modelFile, '/popidend', 8, ind=0)\n",
    "        ebf.update_ind(modelFile, '/norm_thick_disk', thick_norm, ind=0)\n",
    "        ### make new bhtree\n",
    "        args = ['galaxia', '-s', 'warp']\n",
    "        p = subprocess.Popen(args, stdout=subprocess.PIPE, stderr=subprocess.PIPE)\t\n",
    "        print(\"Galaxia spawns new thick disk BHtree\")\n",
    "        (output, err) = p.communicate()\n",
    "        if True:\n",
    "            print(output)\n",
    "\n",
    "        ### calculate mock catalogue\n",
    "        name = 'raster_%.1f_%.1f' %(thin_norm,thick_norm)\n",
    "        create_gdr2mock_mag_limited_survey(nside = 512, outputDir = '../output/%s_100pc' %(name),\n",
    "                                           use_previous = False, delete_ebf = True,\n",
    "                                          fSample = 1, make_likelihood_asessment=False, r_max = 0.1,\n",
    "                                          verbose = False)\n",
    "        create_gdr2mock_mag_limited_survey(nside = 512, outputDir = '../output/%s_0.001' %(name),\n",
    "                                           use_previous = False, delete_ebf = True,\n",
    "                                          fSample = 0.001, make_likelihood_asessment=False)\n",
    "        ### get likelihoods\n",
    "        stellardiskmass,wddiskmass,totalcount = local_normalisation(name, verbose = False)\n",
    "        outputDir = '../output/%s_0.001' %name\n",
    "        fSample = 0.001\n",
    "        starcounts,likelihood,diffplus,diffminus = do_likelihood(outputDir,fSample= fSample)\n",
    "        result[i,j,0] = stellardiskmass\n",
    "        result[i,j,1] = wddiskmass\n",
    "        result[i,j,2] = totalcount\n",
    "        result[i,j,3] = starcounts\n",
    "        result[i,j,4] = likelihood\n",
    "        result[i,j,5] = diffplus\n",
    "        result[i,j,6] = diffminus"
   ]
  },
  {
   "cell_type": "code",
   "execution_count": null,
   "metadata": {},
   "outputs": [],
   "source": [
    "np.save('resultall,npy',result)\n"
   ]
  }
 ],
 "metadata": {
  "kernelspec": {
   "display_name": "Python 3",
   "language": "python",
   "name": "python3"
  },
  "language_info": {
   "codemirror_mode": {
    "name": "ipython",
    "version": 3
   },
   "file_extension": ".py",
   "mimetype": "text/x-python",
   "name": "python",
   "nbconvert_exporter": "python",
   "pygments_lexer": "ipython3",
   "version": "3.6.3"
  }
 },
 "nbformat": 4,
 "nbformat_minor": 2
}
