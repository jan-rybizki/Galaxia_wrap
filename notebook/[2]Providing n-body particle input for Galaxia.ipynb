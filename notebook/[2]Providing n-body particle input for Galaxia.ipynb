{
 "cells": [
  {
   "cell_type": "markdown",
   "metadata": {},
   "source": [
    "Here we illustrate how to sample n-body particles with Galaxia.\n",
    "\n",
    "A simple application is to provide a flat starformation history with reasonable age-metallicity relation in order to sample a colour magnitude diagram and look at the occupation of CMD space by the different stellar populations and look at their astrophysical parameters. Like that we can for example sample the age distribution of RGB stars. The technique was first described here: http://adsabs.harvard.edu/abs/2016AN....337..880J"
   ]
  },
  {
   "cell_type": "code",
   "execution_count": 1,
   "metadata": {},
   "outputs": [
    {
     "name": "stdout",
     "output_type": "stream",
     "text": [
      "Populating the interactive namespace from numpy and matplotlib\n"
     ]
    }
   ],
   "source": [
    "%pylab inline\n",
    "import ebf\n",
    "import shutil\n",
    "import subprocess\n",
    "from astropy.io import fits\n",
    "import os"
   ]
  },
  {
   "cell_type": "code",
   "execution_count": 2,
   "metadata": {
    "collapsed": true
   },
   "outputs": [],
   "source": [
    "# Need to specify where the GalaxiaData folder is and how to name the new simulation\n",
    "\n",
    "nbody_folder = '/home/rybizki/Programme/GalaxiaData/'\n",
    "folder = 'flat_sfr/'\n",
    "filename = 'flat_sfr_selection_down_to_5'\n",
    "folder_cat = '../output/mock_cat'"
   ]
  },
  {
   "cell_type": "code",
   "execution_count": 3,
   "metadata": {
    "collapsed": true
   },
   "outputs": [],
   "source": [
    "def create_flat_sfr(nbody_folder,folder,filename):\n",
    "    \n",
    "    # 2 input files for Galaxia need to be created\n",
    "    folder_create = nbody_folder + 'nbody1/' + folder\n",
    "    if os.path.exists(folder_create):\n",
    "        shutil.rmtree(folder_create)\n",
    "        os.mkdir(folder_create)\n",
    "        print(folder_create, \"existed and was recreated\")\n",
    "    else:\n",
    "        os.mkdir(folder_create)\n",
    "\n",
    "    # Age metallicity distribution is specified in this input file, using Model A from Just&Jahreiß 2010\n",
    "    s = '../input/zevolv02.dat'\n",
    "    data1 = np.genfromtxt(s,skip_header=2, dtype=None, names = True)\n",
    "\n",
    "    age = data1['t']\n",
    "    age = age*13.5\n",
    "    zfe = data1['zfe']\n",
    "    zox = data1['zox']\n",
    "    #fehdex = np.log10(zfe)\n",
    "    # Here we can specify the AMR according to our needs\n",
    "    age = np.linspace(0,13.5,num = 1001)[1:]\n",
    "    fehdex = np.linspace(-1.8,-0.7,num = len(age))\n",
    "    #ohdex = np.log10(zox)\n",
    "    ohdex = np.ones(len(age))\n",
    "    enhancement = ohdex - fehdex\n",
    "    age = age[::-1]\n",
    "    mass = np.divide(np.ones(len(age)),len(age))\n",
    "    #################################\n",
    "\n",
    "    # Here the ebf nbody input file is created\n",
    "    pos = np.zeros((len(age),3))\n",
    "    vel = np.zeros((len(age),3))\n",
    "    for i in range(0,len(pos)):\n",
    "        fehdex[i] = fehdex[i]\n",
    "        pos[i] = np.array([ -8.00000000e+00,   0.00000000e+00,   1.50000000e-02])\n",
    "        vel[i] = np.array([ 1.11000000e+01,   2.39080000e+02,   7.25000000e+00])\n",
    "    ebf.write(nbody_folder + 'nbody1/' + folder + filename + '.ebf', '/mass', mass,'w')\t\n",
    "    ebf.write(nbody_folder + 'nbody1/' + folder + filename + '.ebf', '/feh', fehdex,'a')\n",
    "    ebf.write(nbody_folder + 'nbody1/' + folder + filename + '.ebf', '/id', 1,'a')\n",
    "    ebf.write(nbody_folder + 'nbody1/' + folder + filename + '.ebf', '/alpha', enhancement,'a')\n",
    "    ebf.write(nbody_folder + 'nbody1/' + folder + filename + '.ebf', '/age', age,'a')\n",
    "    ebf.write(nbody_folder + 'nbody1/' + folder + filename + '.ebf', '/pos3', pos,'a')\n",
    "    ebf.write(nbody_folder + 'nbody1/' + folder + filename + '.ebf', '/vel3', vel,'a')\n",
    "\n",
    "    ebf.write(nbody_folder + 'nbody1/' + folder + filename + '_d3n64_den.ebf', '/h_cubic', np.zeros(len(pos)), 'w')\n",
    "    ebf.write(nbody_folder + 'nbody1/' + folder + filename + '_d6n64_den.ebf', '/h_cubic', np.zeros((len(pos),2)), 'w')\n",
    "\n",
    "    # Here the file which tells Galaxia where to find the input file is created\n",
    "    filedata = 'nbody1/%s\\n         1       1\\n%s.ebf\\n' %(folder, filename)\n",
    "    file = open(nbody_folder + \"nbody1/filenames/\" + filename + \".txt\", \"w\")\n",
    "    file.write(filedata)\n",
    "    file.close()\n",
    "    return(fehdex,age)"
   ]
  },
  {
   "cell_type": "code",
   "execution_count": 4,
   "metadata": {},
   "outputs": [
    {
     "name": "stdout",
     "output_type": "stream",
     "text": [
      "/home/rybizki/Programme/GalaxiaData/nbody1/flat_sfr/ existed and was recreated\n"
     ]
    },
    {
     "data": {
      "text/plain": [
       "Text(0.5,1,'AMR')"
      ]
     },
     "execution_count": 4,
     "metadata": {},
     "output_type": "execute_result"
    },
    {
     "data": {
      "image/png": "[encoded data removed]",
      "text/plain": [
       "<Figure size 432x288 with 1 Axes>"
      ]
     },
     "metadata": {},
     "output_type": "display_data"
    }
   ],
   "source": [
    "fehdex,age = create_flat_sfr(nbody_folder,folder,filename)\n",
    "# Changing the AMR to something like fig.4 of https://ui.adsabs.harvard.edu/#abs/2014ApJ...786...44S/abstract\n",
    "# Just checking if it looks OK. Change the AMR if needed within the function create_flat_sfr\n",
    "plt.plot(age,fehdex)\n",
    "plt.xlabel(\"age\")\n",
    "plt.ylabel(\"[Fe/H]\")\n",
    "plt.title(\"AMR\")"
   ]
  },
  {
   "cell_type": "markdown",
   "metadata": {},
   "source": [
    "Preparing a CMD of constant SFR to see what the age distribution of a specific population is"
   ]
  },
  {
   "cell_type": "code",
   "execution_count": 5,
   "metadata": {},
   "outputs": [
    {
     "name": "stdout",
     "output_type": "stream",
     "text": [
      "../output/mock_cat/ existed and was recreated\n",
      "b'Galaxia-v0.81\\nCODEDATAPATH=/home/rybizki/Programme/GalaxiaData/\\nReading Parameter file-             ../output/mock_cat/myparameterfile\\n--------------------------------------------------------\\noutputFile               flat_sfr_selection_down_to_5\\nmodelFile                Model/population_parameters_BGM_update.ebf\\ncodeDataDir              /home/rybizki/Programme/GalaxiaData\\noutputDir                ../output/mock_cat      \\nphotoSys                 parsec1/GAIADR3         \\nmagcolorNames            gaia_g,gaia_bpft-gaia_rp\\nappMagLimits[0]          -100                    \\nappMagLimits[1]          1000                    \\nabsMagLimits[0]          -100.000000             \\nabsMagLimits[1]          5.000000                \\ncolorLimits[0]           -100.000000             \\ncolorLimits[1]           100.000000              \\ngeometryOption           0                       \\nlongitude                0                       \\nlatitude                 90                      \\nsurveyArea               1000                    \\nfSample                  1000000                 \\npopID                    -1                      \\nwarpFlareOn              1                       \\nseed                     1                       \\nr_max                    1000                    \\nstarType                 0                       \\nphotoError               0                       \\n--------------------------------------------------------\\nReading Halo Sat File=/home/rybizki/Programme/GalaxiaData/nbody1/filenames/flat_sfr_selection_down_to_5.txt\\nnbody1/flat_sfr/flat_sfr_selection_down_to_5.ebf 0\\nNo of Satellites   =1\\nReading tabulated values from file- /home/rybizki/Programme/GalaxiaData/Model/vcirc.dat\\nUsing geometry:                     All Sky\\nReading Isochrones from dir-        /home/rybizki/Programme/GalaxiaData/Isochrones/padova/parsec1/GAIADR3\\nzsol=0.0152\\n/home/rybizki/Programme/GalaxiaData/Isochrones/padova/parsec1/GAIADR3\\n13275 75 177\\nIsochrone Grid Size:                (Age bins=177,Feh bins=75,Alpha bins=1)\\nTime Isochrone Reading              1.31902     \\n------------------------------\\nnbody1/flat_sfr/flat_sfr_selection_down_to_5.ebf  Sat No=0\\nParticles=1000\\nSatellite Info\\nSatellite Initializing ....... Done\\nParticles=1000 Mass=2 0.548411\\nTotal Stars=552025 accepted=153375 rejected=398650\\n-----------Done---------------\\nTotal stars written                 153375                  \\nFile written-                       ../output/mock_cat//flat_sfr_selection_down_to_5.ebf\\nCalulating magnitudes................\\nReading Isochrones from dir-        /home/rybizki/Programme/GalaxiaData/Isochrones/padova/parsec1/GAIADR3\\nzsol=0.0152\\n/home/rybizki/Programme/GalaxiaData/Isochrones/padova/parsec1/GAIADR3\\n13275 75 177\\nIsochrone Grid Size:                (Age bins=177,Feh bins=75,Alpha bins=1)\\nTime Isochrone Reading              1.55606     \\ngaia_g\\ngaia_bpbr\\ngaia_bpft\\ngaia_rp\\ngaia_rvs\\nCalulating Extinction................\\nTime for extinction calculation     0.58294     \\nTotal Time=                         4.00362     \\n'\n",
      "b''\n"
     ]
    }
   ],
   "source": [
    "# Here we create the folder where Galaxia will write the mock catalogue\n",
    "\n",
    "folder_create = folder_cat + '/'\n",
    "if os.path.exists(folder_create):\n",
    "    shutil.rmtree(folder_create)\n",
    "    os.mkdir(folder_create)\n",
    "    print(folder_create, \"existed and was recreated\")\n",
    "else:\n",
    "    os.mkdir(folder_create)\n",
    "\n",
    "# Specifying the mag limits of that simulation\n",
    "magmin = -100\n",
    "magmax = 5\n",
    "colmin = -100\n",
    "colmax = 100\n",
    "# Oversampling and seed, \n",
    "# Try to fix that value to something reasonable such that the age of the stellar population is sampled well\n",
    "iterations = 1e6\n",
    "seed = 1\n",
    "\n",
    "# Creating the parameterfile\n",
    "filedata = 'outputFile                          %s\\nmodelFile       Model/population_parameters_BGM_update.ebf\\ncodeDataDir              /home/rybizki/Programme/GalaxiaData\\noutputDir                           %s\\nphotoSys                            parsec1/GAIADR3\\nmagcolorNames                       gaia_g,gaia_bpft-gaia_rp\\nappMagLimits[0]                     -100\\nappMagLimits[1]                     1000\\nabsMagLimits[0]                     %f\\nabsMagLimits[1]                     %f\\ncolorLimits[0]                      %f\\ncolorLimits[1]                      %f\\ngeometryOption                      0\\nlongitude                           0\\nlatitude                            90\\nsurveyArea                          1000\\nfSample                             %d\\npopID                               -1\\nwarpFlareOn                         1\\nseed                                %d\\nr_max                               1000\\nstarType                            0\\nphotoError                          0\\n' %(filename, folder_cat,magmin,magmax,colmin,colmax,iterations,seed)\n",
    "myparameterfile = folder_cat + '/myparameterfile'\n",
    "file = open(myparameterfile, \"w\")\n",
    "file.write(filedata)\n",
    "file.close()\n",
    "\n",
    "# Starting Galaxia\n",
    "p = subprocess.Popen(['galaxia', '-r', '--nfile=%s' %(filename), '--hdim=3', myparameterfile], stdout=subprocess.PIPE, stderr=subprocess.PIPE)\n",
    "out, err = p.communicate()\n",
    "print(out)\n",
    "print(err)"
   ]
  },
  {
   "cell_type": "code",
   "execution_count": 6,
   "metadata": {},
   "outputs": [
    {
     "name": "stdout",
     "output_type": "stream",
     "text": [
      "Galaxia adds Gaia bands\n",
      "b'Galaxia-v0.81\\nCODEDATAPATH=/home/rybizki/Programme/GalaxiaData/\\nReading tabulated values from file- /home/rybizki/Programme/GalaxiaData/Model/vcirc.dat\\nCalulating magnitudes................\\nReading Isochrones from dir-        /home/rybizki/Programme/GalaxiaData/Isochrones/padova/Gaia\\nIsocrhone File Descriptor \"/home/rybizki/Programme/GalaxiaData/Isochrones/padova//Gaia/IsoFileDescriptor.txt\" not found\\n'\n"
     ]
    }
   ],
   "source": [
    "# Adding other photometric bands\n",
    "args = ['galaxia', '-a', '--psys=Gaia' ,folder_cat + '/' + filename + '.ebf']\n",
    "p = subprocess.Popen(args, stdout=subprocess.PIPE, stderr=subprocess.PIPE)\t\n",
    "print(\"Galaxia adds Gaia bands\")\n",
    "(output, err) = p.communicate()\n",
    "#p_status = p.wait()\n",
    "print(output)"
   ]
  },
  {
   "cell_type": "code",
   "execution_count": 7,
   "metadata": {},
   "outputs": [
    {
     "name": "stdout",
     "output_type": "stream",
     "text": [
      "Galaxia adds SDSS bands\n",
      "b'Galaxia-v0.81\\nCODEDATAPATH=/home/rybizki/Programme/GalaxiaData/\\nReading tabulated values from file- /home/rybizki/Programme/GalaxiaData/Model/vcirc.dat\\nCalulating magnitudes................\\nReading Isochrones from dir-        /home/rybizki/Programme/GalaxiaData/Isochrones/padova/SDSS\\nIsocrhone File Descriptor \"/home/rybizki/Programme/GalaxiaData/Isochrones/padova//SDSS/IsoFileDescriptor.txt\" not found\\n'\n"
     ]
    }
   ],
   "source": [
    "# Adding other photometric bands\n",
    "args = ['galaxia', '-a', '--psys=SDSS' ,folder_cat + '/' + filename + '.ebf']\n",
    "p = subprocess.Popen(args, stdout=subprocess.PIPE, stderr=subprocess.PIPE)\t\n",
    "print(\"Galaxia adds SDSS bands\")\n",
    "(output, err) = p.communicate()\n",
    "#p_status = p.wait()\n",
    "print(output)"
   ]
  },
  {
   "cell_type": "code",
   "execution_count": 8,
   "metadata": {
    "collapsed": true
   },
   "outputs": [],
   "source": [
    "# Adding the library\n",
    "path = os.path.abspath('../library/')\n",
    "if path not in sys.path:\n",
    "    sys.path.append(path)\n",
    "from convert_to_recarray import convert\n"
   ]
  },
  {
   "cell_type": "code",
   "execution_count": 9,
   "metadata": {},
   "outputs": [
    {
     "name": "stdout",
     "output_type": "stream",
     "text": [
      "153375\n",
      "('rad', 'teff', 'vx', 'vy', 'vz', 'pz', 'px', 'py', 'feh', 'exbv_schlegel', 'lum', 'glon', 'glat', 'smass', 'age', 'grav', 'gaia_g', 'gaia_bpft', 'gaia_bpbr', 'gaia_rp', 'gaia_rvs', 'popid', 'mact')\n"
     ]
    }
   ],
   "source": [
    "# Reading in the Catalogue and converting it to npy file. (If you added photometric bands then you will have to edit the convert routine)\n",
    "bes = ebf.read(folder_cat + '/' + filename + '.ebf','/')\n",
    "x = convert(bes)\n",
    "x = x.view(np.recarray)\n",
    "x.age = np.divide(np.power(10,x.age),1e9)\n",
    "x.teff = np.power(10,x.teff)\n",
    "print(len(x))\n",
    "print(x.dtype.names)"
   ]
  },
  {
   "cell_type": "code",
   "execution_count": 10,
   "metadata": {
    "collapsed": true
   },
   "outputs": [],
   "source": [
    "# Writing into a fits file so that we can inspect the result in topcat\n",
    "fits_create = folder_cat + '/' + filename + '.fits'\n",
    "if os.path.isfile(fits_create):\n",
    "    os.remove(fits_create)\n",
    "    print(fits_create, \"existed and was deleted and respawned\")\n",
    "else:\n",
    "    pass\n",
    "fits.writeto(fits_create,x)\n",
    "#os.remove(folder_cat + '/' + filename + '.ebf')"
   ]
  },
  {
   "cell_type": "code",
   "execution_count": 11,
   "metadata": {},
   "outputs": [
    {
     "name": "stdout",
     "output_type": "stream",
     "text": [
      "153375 (numpy.record, [('rad', '>f8'), ('teff', '>f8'), ('vx', '>f8'), ('vy', '>f8'), ('vz', '>f8'), ('pz', '>f8'), ('px', '>f8'), ('py', '>f8'), ('feh', '>f8'), ('exbv_schlegel', '>f8'), ('lum', '>f8'), ('glon', '>f8'), ('glat', '>f8'), ('smass', '>f8'), ('age', '>f8'), ('grav', '>f8'), ('gaia_g', '>f8'), ('gaia_bpft', '>f8'), ('gaia_bpbr', '>f8'), ('gaia_rp', '>f8'), ('gaia_rvs', '>f8'), ('popid', '>i4'), ('mact', '>f8')])\n"
     ]
    },
    {
     "data": {
      "text/plain": [
       "(6, -7)"
      ]
     },
     "execution_count": 11,
     "metadata": {},
     "output_type": "execute_result"
    },
    {
     "data": {
      "image/png": "[encoded data removed]",
      "text/plain": [
       "<Figure size 432x288 with 1 Axes>"
      ]
     },
     "metadata": {},
     "output_type": "display_data"
    }
   ],
   "source": [
    "#Load mock catalogue\n",
    "x = fits.getdata(fits_create)\n",
    "print(len(x),x.dtype)\n",
    "x = x.view(np.recarray)\n",
    "plt.plot(x.gaia_bpft-x.gaia_rp,x.gaia_g,\".\")\n",
    "plt.ylim(6,-7)\n"
   ]
  },
  {
   "cell_type": "code",
   "execution_count": 12,
   "metadata": {},
   "outputs": [
    {
     "ename": "AttributeError",
     "evalue": "recarray has no attribute ubv_b",
     "output_type": "error",
     "traceback": [
      "\u001b[0;31m---------------------------------------------------------------------------\u001b[0m",
      "\u001b[0;31mKeyError\u001b[0m                                  Traceback (most recent call last)",
      "\u001b[0;32m~/anaconda3/lib/python3.6/site-packages/numpy/core/records.py\u001b[0m in \u001b[0;36m__getattribute__\u001b[0;34m(self, attr)\u001b[0m\n\u001b[1;32m    449\u001b[0m         \u001b[0;32mtry\u001b[0m\u001b[0;34m:\u001b[0m\u001b[0;34m\u001b[0m\u001b[0m\n\u001b[0;32m--> 450\u001b[0;31m             \u001b[0mres\u001b[0m \u001b[0;34m=\u001b[0m \u001b[0mfielddict\u001b[0m\u001b[0;34m[\u001b[0m\u001b[0mattr\u001b[0m\u001b[0;34m]\u001b[0m\u001b[0;34m[\u001b[0m\u001b[0;34m:\u001b[0m\u001b[0;36m2\u001b[0m\u001b[0;34m]\u001b[0m\u001b[0;34m\u001b[0m\u001b[0m\n\u001b[0m\u001b[1;32m    451\u001b[0m         \u001b[0;32mexcept\u001b[0m \u001b[0;34m(\u001b[0m\u001b[0mTypeError\u001b[0m\u001b[0;34m,\u001b[0m \u001b[0mKeyError\u001b[0m\u001b[0;34m)\u001b[0m\u001b[0;34m:\u001b[0m\u001b[0;34m\u001b[0m\u001b[0m\n",
      "\u001b[0;31mKeyError\u001b[0m: 'ubv_b'",
      "\nDuring handling of the above exception, another exception occurred:\n",
      "\u001b[0;31mAttributeError\u001b[0m                            Traceback (most recent call last)",
      "\u001b[0;32m<ipython-input-12-9e518381f98d>\u001b[0m in \u001b[0;36m<module>\u001b[0;34m()\u001b[0m\n\u001b[1;32m      1\u001b[0m \u001b[0mrgb\u001b[0m \u001b[0;34m=\u001b[0m \u001b[0mx\u001b[0m\u001b[0;34m[\u001b[0m\u001b[0;34m(\u001b[0m\u001b[0mx\u001b[0m\u001b[0;34m.\u001b[0m\u001b[0mgaia_g\u001b[0m \u001b[0;34m<\u001b[0m \u001b[0;34m-\u001b[0m\u001b[0;36m0.5\u001b[0m\u001b[0;34m)\u001b[0m \u001b[0;34m&\u001b[0m \u001b[0;34m(\u001b[0m\u001b[0mx\u001b[0m\u001b[0;34m.\u001b[0m\u001b[0mgaia_bpft\u001b[0m \u001b[0;34m-\u001b[0m \u001b[0mx\u001b[0m\u001b[0;34m.\u001b[0m\u001b[0mgaia_rp\u001b[0m \u001b[0;34m>\u001b[0m \u001b[0;36m0.8\u001b[0m\u001b[0;34m)\u001b[0m\u001b[0;34m]\u001b[0m\u001b[0;34m\u001b[0m\u001b[0m\n\u001b[0;32m----> 2\u001b[0;31m \u001b[0mplt\u001b[0m\u001b[0;34m.\u001b[0m\u001b[0mplot\u001b[0m\u001b[0;34m(\u001b[0m\u001b[0mrgb\u001b[0m\u001b[0;34m.\u001b[0m\u001b[0mubv_b\u001b[0m\u001b[0;34m-\u001b[0m\u001b[0mrgb\u001b[0m\u001b[0;34m.\u001b[0m\u001b[0mubv_v\u001b[0m\u001b[0;34m,\u001b[0m\u001b[0mrgb\u001b[0m\u001b[0;34m.\u001b[0m\u001b[0mubv_v\u001b[0m\u001b[0;34m,\u001b[0m\u001b[0;34m\".\"\u001b[0m\u001b[0;34m)\u001b[0m\u001b[0;34m\u001b[0m\u001b[0m\n\u001b[0m\u001b[1;32m      3\u001b[0m \u001b[0mplt\u001b[0m\u001b[0;34m.\u001b[0m\u001b[0mylim\u001b[0m\u001b[0;34m(\u001b[0m\u001b[0;34m-\u001b[0m\u001b[0;36m0.4\u001b[0m\u001b[0;34m,\u001b[0m\u001b[0;34m-\u001b[0m\u001b[0;36m7\u001b[0m\u001b[0;34m)\u001b[0m\u001b[0;34m\u001b[0m\u001b[0m\n",
      "\u001b[0;32m~/anaconda3/lib/python3.6/site-packages/numpy/core/records.py\u001b[0m in \u001b[0;36m__getattribute__\u001b[0;34m(self, attr)\u001b[0m\n\u001b[1;32m    450\u001b[0m             \u001b[0mres\u001b[0m \u001b[0;34m=\u001b[0m \u001b[0mfielddict\u001b[0m\u001b[0;34m[\u001b[0m\u001b[0mattr\u001b[0m\u001b[0;34m]\u001b[0m\u001b[0;34m[\u001b[0m\u001b[0;34m:\u001b[0m\u001b[0;36m2\u001b[0m\u001b[0;34m]\u001b[0m\u001b[0;34m\u001b[0m\u001b[0m\n\u001b[1;32m    451\u001b[0m         \u001b[0;32mexcept\u001b[0m \u001b[0;34m(\u001b[0m\u001b[0mTypeError\u001b[0m\u001b[0;34m,\u001b[0m \u001b[0mKeyError\u001b[0m\u001b[0;34m)\u001b[0m\u001b[0;34m:\u001b[0m\u001b[0;34m\u001b[0m\u001b[0m\n\u001b[0;32m--> 452\u001b[0;31m             \u001b[0;32mraise\u001b[0m \u001b[0mAttributeError\u001b[0m\u001b[0;34m(\u001b[0m\u001b[0;34m\"recarray has no attribute %s\"\u001b[0m \u001b[0;34m%\u001b[0m \u001b[0mattr\u001b[0m\u001b[0;34m)\u001b[0m\u001b[0;34m\u001b[0m\u001b[0m\n\u001b[0m\u001b[1;32m    453\u001b[0m         \u001b[0mobj\u001b[0m \u001b[0;34m=\u001b[0m \u001b[0mself\u001b[0m\u001b[0;34m.\u001b[0m\u001b[0mgetfield\u001b[0m\u001b[0;34m(\u001b[0m\u001b[0;34m*\u001b[0m\u001b[0mres\u001b[0m\u001b[0;34m)\u001b[0m\u001b[0;34m\u001b[0m\u001b[0m\n\u001b[1;32m    454\u001b[0m \u001b[0;34m\u001b[0m\u001b[0m\n",
      "\u001b[0;31mAttributeError\u001b[0m: recarray has no attribute ubv_b"
     ]
    }
   ],
   "source": [
    "rgb = x[(x.gaia_g < -0.5) & (x.gaia_bpft - x.gaia_rp > 0.8)]\n",
    "plt.plot(rgb.ubv_b-rgb.ubv_v,rgb.ubv_v,\".\")\n",
    "plt.ylim(-0.4,-7)"
   ]
  },
  {
   "cell_type": "code",
   "execution_count": null,
   "metadata": {},
   "outputs": [],
   "source": [
    "n,bins,patch =plt.hist(rgb.age, bins = 30, normed=True)\n",
    "plt.xlabel(\"age\")\n",
    "plt.ylabel('sampling of red clump star population')"
   ]
  },
  {
   "cell_type": "code",
   "execution_count": null,
   "metadata": {},
   "outputs": [],
   "source": [
    "new_bins= np.divide(bins[:-1] + bins [1:],2)\n",
    "rgb_time = new_bins[::-1]\n",
    "rgb_dist = n[::-1]\n",
    "plt.plot(rgb_time,rgb_dist)\n",
    "plt.xlabel(\"age\")\n",
    "plt.ylabel('sampling of RGB star population')\n",
    "np.save('../output/selection/rgb_time.npy',rgb_time)\n",
    "np.save('../output/selection/rgb.npy',rgb_dist)"
   ]
  },
  {
   "cell_type": "code",
   "execution_count": null,
   "metadata": {},
   "outputs": [],
   "source": [
    "# This format now looks similar to the Chempy input, \n",
    "# except that the time axis does not exactly start and end at 0 and 13.5Gyr\n",
    "# Might, but should not have an impact\n",
    "rc = np.load('../input/chempy_selection/red_clump_new.npy')\n",
    "rc_time = np.load('../input/chempy_selection/time_red_clump_new.npy')\n",
    "plt.plot(rc_time,rc)\n",
    "plt.xlabel(\"age\")\n",
    "plt.ylabel('sampling of red clump star population')"
   ]
  }
 ],
 "metadata": {
  "kernelspec": {
   "display_name": "Python 3",
   "language": "python",
   "name": "python3"
  },
  "language_info": {
   "codemirror_mode": {
    "name": "ipython",
    "version": 3
   },
   "file_extension": ".py",
   "mimetype": "text/x-python",
   "name": "python",
   "nbconvert_exporter": "python",
   "pygments_lexer": "ipython3",
   "version": "3.6.3"
  }
 },
 "nbformat": 4,
 "nbformat_minor": 1
}
