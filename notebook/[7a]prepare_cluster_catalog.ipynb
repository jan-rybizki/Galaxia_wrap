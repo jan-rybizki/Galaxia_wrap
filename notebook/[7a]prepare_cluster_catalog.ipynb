{
 "cells": [
  {
   "cell_type": "code",
   "execution_count": 1,
   "metadata": {},
   "outputs": [
    {
     "name": "stdout",
     "output_type": "stream",
     "text": [
      "Populating the interactive namespace from numpy and matplotlib\n"
     ]
    }
   ],
   "source": [
    "%pylab inline\n",
    "from numpy.lib.recfunctions import append_fields, drop_fields, rename_fields\n",
    "from astropy.io import fits\n",
    "import os"
   ]
  },
  {
   "cell_type": "code",
   "execution_count": 2,
   "metadata": {},
   "outputs": [
    {
     "name": "stdout",
     "output_type": "stream",
     "text": [
      "1118 ('clusterName', 'ra', 'dec', 'l', 'b', 'r50', 'nbstars', 'pmra', 'pmdec', 'par', 'd05', 'd16', 'dmode', 'd84', 'd95', 'Rgc', 'distance_Kharchenko', 'logt_Kharchenko', 'rc_Kharchenko', 'rt_Kharchenko', 'FeH_Kharchenko', 'FeH_synth')\n"
     ]
    },
    {
     "name": "stderr",
     "output_type": "stream",
     "text": [
      "/home/rybizki/anaconda3/lib/python3.6/site-packages/ipykernel_launcher.py:2: VisibleDeprecationWarning: Reading unicode strings without specifying the encoding argument is deprecated. Set the encoding, use None for the system default.\n",
      "  \n"
     ]
    }
   ],
   "source": [
    "x = np.genfromtxt('../input/fake_cluster/1118_real_clusters_withFeH.dat', dtype = None, names = True,\n",
    "                  missing_values='\"\"')\n",
    "print(len(x),x.dtype.names)\n",
    "x = append_fields(x, 'rvs', np.random.normal(0,10,len(x)), usemask=False, asrecarray=True)\n",
    "x = np.sort(x,order = 'nbstars')"
   ]
  },
  {
   "cell_type": "code",
   "execution_count": 3,
   "metadata": {},
   "outputs": [
    {
     "name": "stdout",
     "output_type": "stream",
     "text": [
      "200024\n",
      "690.0116629068492\n"
     ]
    }
   ],
   "source": [
    "print(sum(x.nbstars))\n",
    "# generate random mass (so that total number of stars < G18 is comparable to total number of generated stars)\n",
    "mass = 300+np.abs(np.random.normal(0,500,len(x)))\n",
    "print(np.mean(mass))\n",
    "mass = np.sort(mass)\n",
    "# Sort mass and vrot according to nbstars (more stars --> more mass --> higher vrot)\n",
    "x = append_fields(x,'mass',mass,usemask=False, asrecarray=True)\n",
    "# generate random speed at half light radius\n",
    "vrot = np.sort(np.random.uniform(0.1,0.7,len(x)))\n",
    "x = append_fields(x,'vrot',vrot,usemask=False, asrecarray=True)"
   ]
  },
  {
   "cell_type": "code",
   "execution_count": 4,
   "metadata": {},
   "outputs": [
    {
     "data": {
      "text/plain": [
       "[<matplotlib.lines.Line2D at 0x7f12786be7b8>]"
      ]
     },
     "execution_count": 4,
     "metadata": {},
     "output_type": "execute_result"
    },
    {
     "data": {
      "image/png": "[encoded data removed]",
      "text/plain": [
       "<Figure size 432x288 with 1 Axes>"
      ]
     },
     "metadata": {},
     "output_type": "display_data"
    }
   ],
   "source": [
    "plt.plot(x.mass,x.vrot,'.')"
   ]
  },
  {
   "cell_type": "code",
   "execution_count": 5,
   "metadata": {
    "collapsed": true
   },
   "outputs": [],
   "source": [
    "# creating distances\n",
    "distances = np.zeros(len(x))\n",
    "for i in range(len(x)):\n",
    "    distances[i] = x.dmode[i]\n",
    "    if x.dmode[i] > 5000:\n",
    "        distances[i] = x.distance_Kharchenko[i]"
   ]
  },
  {
   "cell_type": "code",
   "execution_count": 6,
   "metadata": {
    "collapsed": true
   },
   "outputs": [],
   "source": [
    "fields_to_drop = ['l', 'b', 'nbstars', 'par', 'd05', 'd16',\n",
    "                  'd84', 'd95','Rgc','rc_Kharchenko',\n",
    "                  'rt_Kharchenko', 'FeH_Kharchenko','distance_Kharchenko', 'dmode']\n",
    "\n",
    "x = drop_fields(x, fields_to_drop, usemask=False, asrecarray=True)\n",
    "x = append_fields(x, 'distance_pc', distances, usemask=False, asrecarray=True)"
   ]
  },
  {
   "cell_type": "code",
   "execution_count": 7,
   "metadata": {
    "collapsed": true
   },
   "outputs": [],
   "source": [
    "# reformatting ages\n",
    "x.logt_Kharchenko = np.power(10,x.logt_Kharchenko)/1e9\n",
    "x = rename_fields(x,{\"logt_Kharchenko\":\"age_gyr\"})\n",
    "# adding noise to synthetic feh\n",
    "x.FeH_synth = np.random.normal(x.FeH_synth,0.1)"
   ]
  },
  {
   "cell_type": "code",
   "execution_count": 8,
   "metadata": {
    "collapsed": true
   },
   "outputs": [],
   "source": [
    "# generate random rotation axis\n",
    "# random longitude\n",
    "rangle = np.random.uniform(0,2*np.pi,len(x))\n",
    "# random latitude\n",
    "rz = []\n",
    "count = False\n",
    "for i in range(3*len(x)):\n",
    "    uniform = np.random.uniform(-0.5*np.pi,0.5*np.pi)\n",
    "    th = np.random.sample(1)\n",
    "    if th < np.cos(uniform):\n",
    "        rz.append(uniform)\n",
    "rz = np.array(rz)[:len(x)] + np.pi/2\n",
    "# transforming to the normal spin vektor\n",
    "x0 = np.sin(rz) * np.cos(rangle)\n",
    "y0 = np.sin(rz) * np.sin(rangle)\n",
    "z0 = np.cos(rz)\n",
    "x = append_fields(x,'x0',x0,usemask=False, asrecarray=True)\n",
    "x = append_fields(x,'y0',y0,usemask=False, asrecarray=True)\n",
    "x = append_fields(x,'z0',z0,usemask=False, asrecarray=True)"
   ]
  },
  {
   "cell_type": "code",
   "execution_count": 9,
   "metadata": {},
   "outputs": [
    {
     "name": "stdout",
     "output_type": "stream",
     "text": [
      "0.121\n"
     ]
    }
   ],
   "source": [
    "print(x.r50[0])"
   ]
  },
  {
   "cell_type": "code",
   "execution_count": 10,
   "metadata": {
    "collapsed": true
   },
   "outputs": [],
   "source": [
    "# half mass radius in physical units (r50 is arcdegree)\n",
    "tan = np.tan(x.r50*(np.pi/180.))\n",
    "hmrad = tan * distances\n",
    "x.r50 = hmrad\n",
    "#hmrad = np.divide(distances,57.3) * x.r50"
   ]
  },
  {
   "cell_type": "code",
   "execution_count": 11,
   "metadata": {},
   "outputs": [
    {
     "name": "stdout",
     "output_type": "stream",
     "text": [
      "('clusterName', 'ra', 'dec', 'r50', 'pmra', 'pmdec', 'age_gyr', 'FeH_synth', 'rvs', 'mass', 'vrot', 'distance_pc', 'x0', 'y0', 'z0')\n"
     ]
    }
   ],
   "source": [
    "print(x.dtype.names)"
   ]
  },
  {
   "cell_type": "code",
   "execution_count": 12,
   "metadata": {
    "collapsed": true
   },
   "outputs": [],
   "source": [
    "name = '../input/fake_cluster/cluster_for_processing.fits'\n",
    "os.remove(name)\n",
    "fits.writeto(name,x)"
   ]
  },
  {
   "cell_type": "code",
   "execution_count": 13,
   "metadata": {},
   "outputs": [
    {
     "name": "stdout",
     "output_type": "stream",
     "text": [
      "3.627316195597982\n"
     ]
    }
   ],
   "source": [
    "print(x.r50[0])"
   ]
  },
  {
   "cell_type": "code",
   "execution_count": 14,
   "metadata": {},
   "outputs": [
    {
     "data": {
      "text/plain": [
       "array([0.02511886, 0.616595  , 0.06025596, ..., 0.82224265, 3.16227766,\n",
       "       1.840772  ])"
      ]
     },
     "execution_count": 14,
     "metadata": {},
     "output_type": "execute_result"
    }
   ],
   "source": [
    "x.age_gyr"
   ]
  },
  {
   "cell_type": "code",
   "execution_count": null,
   "metadata": {
    "collapsed": true
   },
   "outputs": [],
   "source": []
  }
 ],
 "metadata": {
  "kernelspec": {
   "display_name": "Python 3",
   "language": "python",
   "name": "python3"
  },
  "language_info": {
   "codemirror_mode": {
    "name": "ipython",
    "version": 3
   },
   "file_extension": ".py",
   "mimetype": "text/x-python",
   "name": "python",
   "nbconvert_exporter": "python",
   "pygments_lexer": "ipython3",
   "version": "3.6.3"
  }
 },
 "nbformat": 4,
 "nbformat_minor": 2
}
