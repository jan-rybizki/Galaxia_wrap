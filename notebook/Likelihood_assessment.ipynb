{
 "cells": [
  {
   "cell_type": "code",
   "execution_count": 5,
   "metadata": {
    "collapsed": true
   },
   "outputs": [],
   "source": [
    "import numpy as np\n",
    "import os, sys\n",
    "path = os.path.abspath('../library/')\n",
    "if path not in sys.path:\n",
    "    sys.path.append(path)\n",
    "from cumhpx import do_likelihood, local_normalisation\n",
    "name = 'raster_0.7_1.0'"
   ]
  },
  {
   "cell_type": "code",
   "execution_count": 6,
   "metadata": {
    "scrolled": false
   },
   "outputs": [
    {
     "name": "stdout",
     "output_type": "stream",
     "text": [
      "## Local normalisation, compare to Czekaj+14 table 7 ##\n",
      "popid= 0  1.4 Msun/pc^3*10^-3\n",
      "popid= 1  3.6 Msun/pc^3*10^-3\n",
      "popid= 2  2.7 Msun/pc^3*10^-3\n",
      "popid= 3  2.2 Msun/pc^3*10^-3\n",
      "popid= 4  3.8 Msun/pc^3*10^-3\n",
      "popid= 5  3.7 Msun/pc^3*10^-3\n",
      "popid= 6  7.1 Msun/pc^3*10^-3\n",
      "popid= 7  1.2 Msun/pc^3*10^-3\n",
      "popid= 8  13.8 Msun/pc^3*10^-6\n",
      "## total sum of stars: 25.6\n",
      "thindisc WD  10.7 Msun/pc^3*10^-3 3.3 mact\n",
      "thick disc WD  2.7 Msun/pc^3*10^-3 0.9 mact\n",
      "####################################\n",
      "(25.62421405098059, 4.2276952630326, 310064)\n",
      "GDR2mock\n",
      "nstar before cleaning: 1426412\n",
      "nstar after g-band cleaning: 1096050\n",
      "nstar before cleaning: 1096050\n",
      "nstar after rp-band cleaning: 799610\n",
      "799610\n",
      "after smc cut: 799299\n",
      "after lmc cut: 797728\n",
      "GDR2\n",
      "nstar before cleaning: 1253908\n",
      "nstar after g-band cleaning: 1105846\n",
      "nstar before cleaning: 1105846\n",
      "nstar after rp-band cleaning: 930066\n",
      "930066\n",
      "after smc cut: 928633\n",
      "after lmc cut: 919108\n",
      "hpx 2055 is empty\n",
      "hpx 2064 is empty\n",
      "hpx 2065 is empty\n",
      "hpx 2066 is empty\n",
      "hpx 2067 is empty\n",
      "hpx 2068 is empty\n",
      "hpx 2069 is empty\n",
      "hpx 2070 is empty\n",
      "hpx 2071 is empty\n",
      "hpx 2072 is empty\n",
      "hpx 2073 is empty\n",
      "hpx 2080 is empty\n",
      "hpx 2081 is empty\n",
      "hpx 2082 is empty\n",
      "hpx 2088 is empty\n",
      "hpx 2112 is empty\n",
      "hpx 2336 is empty\n",
      "hpx 2338 is empty\n",
      "hpx 2344 is empty\n",
      "hpx 2346 is empty\n",
      "likelihood:  -329392.34911536257\n",
      "total diff:  141726\n",
      "too many: 10173, too little: -131553\n",
      "hpx 2055 is empty\n",
      "hpx 2064 is empty\n",
      "hpx 2065 is empty\n",
      "hpx 2066 is empty\n",
      "hpx 2067 is empty\n",
      "hpx 2068 is empty\n",
      "hpx 2069 is empty\n",
      "hpx 2070 is empty\n",
      "hpx 2071 is empty\n",
      "hpx 2072 is empty\n",
      "hpx 2073 is empty\n",
      "hpx 2080 is empty\n",
      "hpx 2081 is empty\n",
      "hpx 2082 is empty\n",
      "hpx 2088 is empty\n",
      "hpx 2112 is empty\n",
      "hpx 2336 is empty\n",
      "hpx 2338 is empty\n",
      "hpx 2344 is empty\n",
      "hpx 2346 is empty\n",
      "hpx 2055 is empty\n",
      "hpx 2064 is empty\n",
      "hpx 2065 is empty\n",
      "hpx 2066 is empty\n",
      "hpx 2067 is empty\n",
      "hpx 2068 is empty\n",
      "hpx 2069 is empty\n",
      "hpx 2070 is empty\n",
      "hpx 2071 is empty\n",
      "hpx 2072 is empty\n",
      "hpx 2073 is empty\n",
      "hpx 2080 is empty\n",
      "hpx 2081 is empty\n",
      "hpx 2082 is empty\n",
      "hpx 2088 is empty\n",
      "hpx 2112 is empty\n",
      "hpx 2336 is empty\n",
      "hpx 2338 is empty\n",
      "hpx 2344 is empty\n",
      "hpx 2346 is empty\n",
      "797728 919108\n"
     ]
    },
    {
     "name": "stderr",
     "output_type": "stream",
     "text": [
      "/home/rybizki/anaconda3/lib/python3.6/site-packages/healpy/pixelfunc.py:304: RuntimeWarning: invalid value encountered in less_equal\n",
      "  return np.absolute(m - badval) <= atol + rtol * np.absolute(badval)\n",
      "/home/rybizki/anaconda3/lib/python3.6/site-packages/healpy/projaxes.py:1053: RuntimeWarning: invalid value encountered in less\n",
      "  result.data[result.data<0]=0.0\n",
      "/home/rybizki/anaconda3/lib/python3.6/site-packages/healpy/projaxes.py:1054: RuntimeWarning: invalid value encountered in greater\n",
      "  result.data[result.data>1]=1.0\n"
     ]
    },
    {
     "name": "stdout",
     "output_type": "stream",
     "text": [
      "(797728, -329392.34911536257, 10173, 131553)\n"
     ]
    },
    {
     "name": "stderr",
     "output_type": "stream",
     "text": [
      "/home/rybizki/anaconda3/lib/python3.6/site-packages/matplotlib/colors.py:1031: RuntimeWarning: invalid value encountered in less_equal\n",
      "  mask |= resdat <= 0\n"
     ]
    }
   ],
   "source": [
    "print(local_normalisation(name, verbose = True))\n",
    "outputDir = '../output/%s_0.001' %name\n",
    "fSample = 0.001\n",
    "print(do_likelihood(outputDir,fSample= fSample))"
   ]
  },
  {
   "cell_type": "code",
   "execution_count": 4,
   "metadata": {
    "scrolled": false
   },
   "outputs": [
    {
     "name": "stdout",
     "output_type": "stream",
     "text": [
      "GDR2mock\n",
      "nstar before cleaning: 1506672\n",
      "nstar after g-band cleaning: 1161038\n",
      "nstar before cleaning: 1161038\n",
      "nstar after rp-band cleaning: 844364\n",
      "844364\n",
      "after smc cut: 844040\n",
      "after lmc cut: 842305\n",
      "GDR2\n",
      "nstar before cleaning: 1426412\n",
      "nstar after g-band cleaning: 1096050\n",
      "nstar before cleaning: 1096050\n",
      "nstar after rp-band cleaning: 799610\n",
      "799610\n",
      "after smc cut: 799299\n",
      "after lmc cut: 797728\n",
      "hpx 2055 is empty\n",
      "hpx 2064 is empty\n",
      "hpx 2065 is empty\n",
      "hpx 2066 is empty\n",
      "hpx 2067 is empty\n",
      "hpx 2068 is empty\n",
      "hpx 2069 is empty\n",
      "hpx 2070 is empty\n",
      "hpx 2071 is empty\n",
      "hpx 2072 is empty\n",
      "hpx 2073 is empty\n",
      "hpx 2080 is empty\n",
      "hpx 2081 is empty\n",
      "hpx 2082 is empty\n",
      "hpx 2088 is empty\n",
      "hpx 2112 is empty\n",
      "hpx 2336 is empty\n",
      "hpx 2338 is empty\n",
      "hpx 2344 is empty\n",
      "hpx 2346 is empty\n",
      "likelihood:  -2818.5104063285876\n",
      "total diff:  44683\n",
      "too many: 44630, too little: -53\n",
      "hpx 2055 is empty\n",
      "hpx 2064 is empty\n",
      "hpx 2065 is empty\n",
      "hpx 2066 is empty\n",
      "hpx 2067 is empty\n",
      "hpx 2068 is empty\n",
      "hpx 2069 is empty\n",
      "hpx 2070 is empty\n",
      "hpx 2071 is empty\n",
      "hpx 2072 is empty\n",
      "hpx 2073 is empty\n",
      "hpx 2080 is empty\n",
      "hpx 2081 is empty\n",
      "hpx 2082 is empty\n",
      "hpx 2088 is empty\n",
      "hpx 2112 is empty\n",
      "hpx 2336 is empty\n",
      "hpx 2338 is empty\n",
      "hpx 2344 is empty\n",
      "hpx 2346 is empty\n",
      "hpx 2055 is empty\n",
      "hpx 2064 is empty\n",
      "hpx 2065 is empty\n",
      "hpx 2066 is empty\n",
      "hpx 2067 is empty\n",
      "hpx 2068 is empty\n",
      "hpx 2069 is empty\n",
      "hpx 2070 is empty\n",
      "hpx 2071 is empty\n",
      "hpx 2072 is empty\n",
      "hpx 2073 is empty\n",
      "hpx 2080 is empty\n",
      "hpx 2081 is empty\n",
      "hpx 2082 is empty\n",
      "hpx 2088 is empty\n",
      "hpx 2112 is empty\n",
      "hpx 2336 is empty\n",
      "hpx 2338 is empty\n",
      "hpx 2344 is empty\n",
      "hpx 2346 is empty\n",
      "842305 797728\n"
     ]
    },
    {
     "name": "stderr",
     "output_type": "stream",
     "text": [
      "/home/rybizki/anaconda3/lib/python3.6/site-packages/healpy/pixelfunc.py:304: RuntimeWarning: invalid value encountered in less_equal\n",
      "  return np.absolute(m - badval) <= atol + rtol * np.absolute(badval)\n",
      "/home/rybizki/anaconda3/lib/python3.6/site-packages/healpy/projaxes.py:1053: RuntimeWarning: invalid value encountered in less\n",
      "  result.data[result.data<0]=0.0\n",
      "/home/rybizki/anaconda3/lib/python3.6/site-packages/healpy/projaxes.py:1054: RuntimeWarning: invalid value encountered in greater\n",
      "  result.data[result.data>1]=1.0\n"
     ]
    },
    {
     "data": {
      "image/png": "[encoded data removed]",
      "text/plain": [
       "<Figure size 612x388.8 with 2 Axes>"
      ]
     },
     "metadata": {},
     "output_type": "display_data"
    },
    {
     "name": "stderr",
     "output_type": "stream",
     "text": [
      "/home/rybizki/anaconda3/lib/python3.6/site-packages/matplotlib/colors.py:1031: RuntimeWarning: invalid value encountered in less_equal\n",
      "  mask |= resdat <= 0\n"
     ]
    },
    {
     "data": {
      "image/png": "[encoded data removed]",
      "text/plain": [
       "<Figure size 612x388.8 with 2 Axes>"
      ]
     },
     "metadata": {},
     "output_type": "display_data"
    },
    {
     "data": {
      "text/plain": [
       "(842305, -2818.5104063285876, 44630, 53)"
      ]
     },
     "execution_count": 4,
     "metadata": {},
     "output_type": "execute_result"
    }
   ],
   "source": [
    "name_comp = 'raster_0.7_1.0'\n",
    "compDir = '../output/%s_0.001/GDR2mock_20.7Gmag.fits' %name_comp\n",
    "fSample = 0.0025\n",
    "do_likelihood(outputDir,fSample= fSample, comp_file = compDir, savefile=False)"
   ]
  },
  {
   "cell_type": "code",
   "execution_count": null,
   "metadata": {
    "collapsed": true
   },
   "outputs": [],
   "source": []
  }
 ],
 "metadata": {
  "kernelspec": {
   "display_name": "Python 3",
   "language": "python",
   "name": "python3"
  },
  "language_info": {
   "codemirror_mode": {
    "name": "ipython",
    "version": 3
   },
   "file_extension": ".py",
   "mimetype": "text/x-python",
   "name": "python",
   "nbconvert_exporter": "python",
   "pygments_lexer": "ipython3",
   "version": "3.6.3"
  }
 },
 "nbformat": 4,
 "nbformat_minor": 2
}
