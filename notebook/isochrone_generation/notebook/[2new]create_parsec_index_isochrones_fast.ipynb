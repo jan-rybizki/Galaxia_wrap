{
 "cells": [
  {
   "cell_type": "code",
   "execution_count": 1,
   "metadata": {},
   "outputs": [
    {
     "name": "stdout",
     "output_type": "stream",
     "text": [
      "Populating the interactive namespace from numpy and matplotlib\n"
     ]
    }
   ],
   "source": [
    "%pylab inline\n",
    "from numpy.lib.recfunctions import append_fields\n"
   ]
  },
  {
   "cell_type": "code",
   "execution_count": 4,
   "metadata": {},
   "outputs": [
    {
     "name": "stdout",
     "output_type": "stream",
     "text": [
      "8102858 322023\n"
     ]
    }
   ],
   "source": [
    "### Excluding the AGB stars with dust spheres around.\n",
    "x = np.load(\"../data/GDR3/gaiadr3_0ext.npy\")\n",
    "cut = (x['log_lum'] <5.) & (x['log_lum'] >3.) & (x['log_teff'] <3.7) & (x['gaia_g'] > 0.5)\n",
    "print(len(x), len(x[cut]))"
   ]
  },
  {
   "cell_type": "code",
   "execution_count": 3,
   "metadata": {},
   "outputs": [
    {
     "name": "stdout",
     "output_type": "stream",
     "text": [
      "7780835 [('meh_ini', '<f8'), ('log_age', '<f8'), ('m_ini', '<f8'), ('m_act', '<f8'), ('log_lum', '<f8'), ('log_teff', '<f8'), ('log_grav', '<f8'), ('gaia_g', '<f8'), ('gaia_bpbr', '<f8'), ('gaia_bpft', '<f8'), ('gaia_rp', '<f8'), ('gaia_rvs', '<f8'), ('parsec_index', '<i4')]\n"
     ]
    }
   ],
   "source": [
    "avs = np.array([0,1,2,3,5,10,20])\n",
    "x = []\n",
    "for av in avs:\n",
    "    temp = np.load(\"../data/GDR3/gaiadr3_%dext.npy\" %(av))\n",
    "    # we exclude the AGB dust stars from the averaging\n",
    "    temp = temp[~cut]\n",
    "    temp = append_fields(temp,\"parsec_index\",np.zeros(shape = len(temp),dtype = np.int32),usemask=False)\n",
    "    x.append(temp)\n",
    "print(len(x[0]),x[0].dtype)"
   ]
  },
  {
   "cell_type": "code",
   "execution_count": 4,
   "metadata": {},
   "outputs": [
    {
     "name": "stdout",
     "output_type": "stream",
     "text": [
      "meh_ini [-1.49213 -1.49213 -1.49213 ...  0.33631  0.33631  0.33631] 75\n",
      "log_age [ 6.6      6.6      6.6     ... 10.12004 10.12004 10.12004] 177\n",
      "m_ini [0.09       0.0956148  0.1        ... 5.80000019 5.99999952 6.19999933] 6067091\n",
      "m_act [0.09  0.096 0.1   ... 0.94  0.961 0.962] 53226\n",
      "log_lum [-1.531 -1.502 -1.481 ... -4.601 -4.603 -4.604] 10836\n",
      "log_teff [3.5276 3.5305 3.5326 ... 3.6298 3.6321 3.6319] 25411\n",
      "log_grav [3.986 3.995 4.001 ... 8.484 8.505 8.505] 11069\n",
      "gaia_g [ 9.192  9.106  9.043 ... 16.513 16.507 16.51 ] 27405\n",
      "gaia_bpbr [10.284 10.181 10.108 ... 17.284 17.27  17.273] 28994\n",
      "gaia_bpft [10.319 10.217 10.143 ... 17.324 17.31  17.313] 29011\n",
      "gaia_rp [ 8.163  8.085  8.027 ... 15.66  15.66  15.662] 27053\n",
      "gaia_rvs [ 7.692  7.62   7.566 ... 15.318 15.323 15.325] 26948\n",
      "parsec_index [0 0 0 ... 0 0 0] 1\n"
     ]
    }
   ],
   "source": [
    "for name in x[0].dtype.names:\n",
    "    print(name,x[0][name],len(np.unique(x[0][name])))"
   ]
  },
  {
   "cell_type": "code",
   "execution_count": 5,
   "metadata": {},
   "outputs": [
    {
     "name": "stdout",
     "output_type": "stream",
     "text": [
      "teff values in parsec\n",
      "teff min max value:  -1.49213 0.33631\n",
      "teff min max index:  0 36\n",
      "dimension cut into 36 pieces\n",
      "teff values in parsec\n",
      "teff min max value:  2.4484 5.6843\n",
      "teff min max index:  122 284\n",
      "dimension cut into 162 pieces\n",
      "lum values in parsec\n",
      "lum min max value:  -4.604 6.24\n",
      "lum min max index:  7 224\n",
      "dimension cut into 217 pieces\n"
     ]
    }
   ],
   "source": [
    "def return_index_feh(feh):\n",
    "        dfeh = 0.05\n",
    "        offset = 1.5\n",
    "        return(int((feh+offset)/dfeh))\n",
    "min_value = min(x[0]['meh_ini'])\n",
    "max_value = max(x[0]['meh_ini'])\n",
    "min_index_feh = return_index_feh(min_value)\n",
    "max_index_feh = return_index_feh(max_value)\n",
    "stretch = max_index_feh - min_index_feh\n",
    "print('teff values in parsec')\n",
    "print('teff min max value: ', min_value, max_value )\n",
    "print('teff min max index: ', min_index_feh, max_index_feh)\n",
    "print('dimension cut into %d pieces' %(stretch))\n",
    "\n",
    "def return_index_teff(teff):\n",
    "        dteff = 0.02\n",
    "        return(int(teff/dteff))\n",
    "min_value = min(x[0]['log_teff'])\n",
    "max_value = max(x[0]['log_teff'])\n",
    "min_index_teff = return_index_teff(min_value)\n",
    "max_index_teff = return_index_teff(max_value)\n",
    "stretch = max_index_teff - min_index_teff\n",
    "print('teff values in parsec')\n",
    "print('teff min max value: ', min_value, max_value )\n",
    "print('teff min max index: ', min_index_teff, max_index_teff)\n",
    "print('dimension cut into %d pieces' %(stretch))\n",
    "\n",
    "def return_index_lum(lum):\n",
    "        dlum = 0.05\n",
    "        offset = 5.\n",
    "        return(int((lum+offset)/dlum))\n",
    "\n",
    "min_value = min(x[0]['log_lum'])\n",
    "max_value = max(x[0]['log_lum'])\n",
    "min_index_lum = return_index_lum(min_value)\n",
    "max_index_lum = return_index_lum(max_value)\n",
    "stretch = max_index_lum - min_index_lum\n",
    "print('lum values in parsec')\n",
    "print('lum min max value: ', min_value, max_value )\n",
    "print('lum min max index: ', min_index_lum, max_index_lum )\n",
    "print('dimension cut into %d pieces' %(stretch))\n",
    "\n",
    "def return_index(feh,teff,lum):\n",
    "        \"\"\"\n",
    "        feh given in dex\n",
    "        teff given in log teff\n",
    "        lum given in log lum\n",
    "        \"\"\"\n",
    "        index_feh = return_index_feh(feh)\n",
    "        if index_feh < min_index_feh:\n",
    "            index_feh = min_index_feh\n",
    "        elif index_feh > max_index_feh:\n",
    "            index_feh = max_index_feh\n",
    "\n",
    "        index_teff = return_index_teff(teff)\n",
    "        if index_teff < min_index_teff:\n",
    "            index_teff = min_index_teff\n",
    "        elif index_teff > max_index_teff:\n",
    "            index_teff = max_index_teff\n",
    "        index_teff *= 1000\n",
    "\n",
    "        index_lum = return_index_lum(lum)\n",
    "        if index_lum > max_index_lum:\n",
    "            index_lum = max_index_lum\n",
    "        elif index_lum < min_index_lum:\n",
    "            index_lum = min_index_lum\n",
    "        index_lum *= 1000 * 1000\n",
    "        assert(index_feh >= 0)\n",
    "        assert(index_teff >= 0)\n",
    "        assert(index_lum >= 0)\n",
    "        return (index_feh + index_teff + index_lum)"
   ]
  },
  {
   "cell_type": "code",
   "execution_count": 6,
   "metadata": {},
   "outputs": [
    {
     "name": "stdout",
     "output_type": "stream",
     "text": [
      "indexing isochrones\n"
     ]
    }
   ],
   "source": [
    "print('indexing isochrones')\n",
    "for i in range(len(x[0])):\n",
    "    x[0][\"parsec_index\"][i] = return_index(x[0][\"meh_ini\"][i],x[0][\"log_teff\"][i],x[0][\"log_lum\"][i])"
   ]
  },
  {
   "cell_type": "code",
   "execution_count": 7,
   "metadata": {
    "collapsed": true
   },
   "outputs": [],
   "source": [
    "# All need to be sorted by parsec_index\n",
    "sort_ind = np.argsort(x[0]['parsec_index'], kind = 'mergesort')\n",
    "for i in range(len(avs)):\n",
    "    x[i] = x[i][sort_ind]"
   ]
  },
  {
   "cell_type": "code",
   "execution_count": 8,
   "metadata": {},
   "outputs": [
    {
     "name": "stdout",
     "output_type": "stream",
     "text": [
      "0 (-0.625, 10.12004, 5.1476984, 0.979, -4.601, 3.6351, 8.522, 16.44, 17.124, 17.161, 15.641, 15.327, 7181017)\n",
      "1 (-0.625, 10.12004, 5.1476984, 0.979, -4.601, 3.6351, 8.522, 17.212, 18.125, 18.162, 16.267, 15.849, 0)\n",
      "2 (-0.625, 10.12004, 5.1476984, 0.979, -4.601, 3.6351, 8.522, 17.945, 19.102, 19.136, 16.88, 16.372, 0)\n",
      "3 (-0.625, 10.12004, 5.1476984, 0.979, -4.601, 3.6351, 8.522, 18.618, 20.042, 20.072, 17.466, 16.894, 0)\n",
      "4 (-0.625, 10.12004, 5.1476984, 0.979, -4.601, 3.6351, 8.522, 19.963, 21.922, 21.942, 18.638, 17.938, 0)\n",
      "5 (-0.625, 10.12004, 5.1476984, 0.979, -4.601, 3.6351, 8.522, 22.915, 26.399, 26.389, 21.341, 20.548, 0)\n",
      "6 (-0.625, 10.12004, 5.1476984, 0.979, -4.601, 3.6351, 8.522, 28.044, 34.993, 34.93, 26.218, 25.76, 0)\n"
     ]
    }
   ],
   "source": [
    "g_ext = np.zeros(shape=(len(x[0]),len(x)))\n",
    "bp_ext = np.zeros(shape=(len(x[0]),len(x)))\n",
    "bpbr_ext = np.zeros(shape=(len(x[0]),len(x)))\n",
    "rp_ext = np.zeros(shape=(len(x[0]),len(x)))\n",
    "rvs_ext = np.zeros(shape=(len(x[0]),len(x)))\n",
    "for i,item in enumerate(x):\n",
    "    print(i,item[0])\n",
    "    g_ext[:,i] = item[\"gaia_g\"]\n",
    "    bp_ext[:,i] = item[\"gaia_bpft\"]\n",
    "    bpbr_ext[:,i] = item[\"gaia_bpbr\"]\n",
    "    rp_ext[:,i] = item[\"gaia_rp\"]\n",
    "    rvs_ext[:,i] = item[\"gaia_rvs\"]"
   ]
  },
  {
   "cell_type": "code",
   "execution_count": 9,
   "metadata": {
    "collapsed": true
   },
   "outputs": [],
   "source": [
    "# show the extinction law and on which parameters it is dependent\n",
    "g_ext = g_ext - g_ext[:,0,None]\n",
    "rvs_ext = rvs_ext - rvs_ext[:,0,None]\n",
    "bp_ext = bp_ext - bp_ext[:,0,None]\n",
    "rp_ext = rp_ext - rp_ext[:,0,None]\n",
    "bpbr_ext = bpbr_ext - bpbr_ext[:,0,None]"
   ]
  },
  {
   "cell_type": "code",
   "execution_count": 10,
   "metadata": {
    "collapsed": true
   },
   "outputs": [],
   "source": [
    "ext = np.zeros(shape = (len(np.unique(x[0][\"parsec_index\"])),5,6),dtype = np.float32)\n",
    "ext_std = np.zeros_like(ext)\n",
    "parsec = np.zeros(shape =  (len(np.unique(x[0][\"parsec_index\"]))),dtype = x[0].dtype)\n",
    "parsec_std = np.zeros(shape =  (len(np.unique(x[0][\"parsec_index\"]))),dtype = x[0].dtype)"
   ]
  },
  {
   "cell_type": "code",
   "execution_count": 11,
   "metadata": {
    "collapsed": true
   },
   "outputs": [],
   "source": [
    "parsec[\"parsec_index\"] = np.unique(x[0][\"parsec_index\"])\n",
    "parsec_std[\"parsec_index\"] = np.unique(x[0][\"parsec_index\"])"
   ]
  },
  {
   "cell_type": "code",
   "execution_count": 12,
   "metadata": {},
   "outputs": [
    {
     "name": "stdout",
     "output_type": "stream",
     "text": [
      "[      0       1       4 ... 7780833 7780834 7780835]\n",
      "0 243239\n",
      "10000 243239\n",
      "20000 243239\n",
      "30000 243239\n",
      "40000 243239\n",
      "50000 243239\n",
      "60000 243239\n",
      "70000 243239\n",
      "80000 243239\n",
      "90000 243239\n",
      "100000 243239\n",
      "110000 243239\n",
      "120000 243239\n",
      "130000 243239\n",
      "140000 243239\n",
      "150000 243239\n",
      "160000 243239\n",
      "170000 243239\n",
      "180000 243239\n",
      "190000 243239\n",
      "200000 243239\n",
      "210000 243239\n",
      "220000 243239\n",
      "230000 243239\n",
      "240000 243239\n"
     ]
    }
   ],
   "source": [
    "indexing = np.hstack((0,np.searchsorted(x[0]['parsec_index'],parsec['parsec_index'], side='right')))\n",
    "print(indexing)\n",
    "for i in range(len(indexing)-1):\n",
    "    if i%10000==0:\n",
    "        print(i, len(indexing))\n",
    "    lower = indexing[i]\n",
    "    upper = indexing[i+1]\n",
    "    #parsec['parsec_index'][i]\n",
    "    #x[0]['parsec_index'][lower:upper]\n",
    "    temp = x[0][lower:upper]\n",
    "    g_temp = g_ext[lower:upper]\n",
    "    bp_temp = bp_ext[lower:upper]\n",
    "    bpbr_temp = bpbr_ext[lower:upper]\n",
    "    rp_temp = rp_ext[lower:upper]\n",
    "    rvs_temp = rvs_ext[lower:upper]\n",
    "    for jtem in parsec.dtype.names:\n",
    "        if jtem == \"parsec_index\":\n",
    "            assert(parsec[\"parsec_index\"][i] == temp[\"parsec_index\"][0])\n",
    "        else:\n",
    "            parsec[jtem][i] = np.median(temp[jtem])\n",
    "            parsec_std[jtem][i] = np.std(temp[jtem])\n",
    "    for t in np.arange(6):\n",
    "        ext[i,0,t] = np.median(g_temp[:,t+1])\n",
    "        ext[i,1,t] = np.median(bp_temp[:,t+1])\n",
    "        ext[i,2,t] = np.median(bpbr_temp[:,t+1])\n",
    "        ext[i,3,t] = np.median(rp_temp[:,t+1])\n",
    "        ext[i,4,t] = np.median(rvs_temp[:,t+1])\n",
    "        \n",
    "        ext_std[i,0,t] = np.std(g_temp[:,t+1])\n",
    "        ext_std[i,1,t] = np.std(bp_temp[:,t+1])\n",
    "        ext_std[i,2,t] = np.std(bpbr_temp[:,t+1])\n",
    "        ext_std[i,3,t] = np.std(rp_temp[:,t+1])\n",
    "        ext_std[i,4,t] = np.std(rvs_temp[:,t+1])\n"
   ]
  },
  {
   "cell_type": "code",
   "execution_count": 13,
   "metadata": {
    "collapsed": true
   },
   "outputs": [],
   "source": [
    "np.save('ext.npy',ext)\n",
    "np.save('ext_std.npy', ext_std)\n",
    "np.save('parsec.npy', parsec)\n",
    "np.save('parsec_std.npy', parsec_std)"
   ]
  },
  {
   "cell_type": "code",
   "execution_count": 14,
   "metadata": {
    "collapsed": true
   },
   "outputs": [],
   "source": [
    "# check that the stds are small and also that Galaxia falls onto those parsec indexes."
   ]
  }
 ],
 "metadata": {
  "kernelspec": {
   "display_name": "Python 3",
   "language": "python",
   "name": "python3"
  },
  "language_info": {
   "codemirror_mode": {
    "name": "ipython",
    "version": 3
   },
   "file_extension": ".py",
   "mimetype": "text/x-python",
   "name": "python",
   "nbconvert_exporter": "python",
   "pygments_lexer": "ipython3",
   "version": "3.6.3"
  }
 },
 "nbformat": 4,
 "nbformat_minor": 2
}
