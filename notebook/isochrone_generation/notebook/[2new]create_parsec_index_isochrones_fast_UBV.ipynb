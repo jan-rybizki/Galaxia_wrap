{
 "cells": [
  {
   "cell_type": "code",
   "execution_count": 1,
   "metadata": {},
   "outputs": [
    {
     "name": "stdout",
     "output_type": "stream",
     "text": [
      "Populating the interactive namespace from numpy and matplotlib\n"
     ]
    }
   ],
   "source": [
    "%pylab inline\n",
    "from numpy.lib.recfunctions import append_fields\n"
   ]
  },
  {
   "cell_type": "code",
   "execution_count": 2,
   "metadata": {},
   "outputs": [
    {
     "name": "stdout",
     "output_type": "stream",
     "text": [
      "8102858 322023\n"
     ]
    }
   ],
   "source": [
    "### Excluding the AGB stars with dust spheres around.\n",
    "x = np.load(\"../data/GDR3/gaiadr3_0ext.npy\")\n",
    "cut = (x['log_lum'] <5.) & (x['log_lum'] >3.) & (x['log_teff'] <3.7) & (x['gaia_g'] > 0.5)\n",
    "print(len(x), len(x[cut]))"
   ]
  },
  {
   "cell_type": "code",
   "execution_count": 3,
   "metadata": {},
   "outputs": [
    {
     "name": "stdout",
     "output_type": "stream",
     "text": [
      "('meh_ini', 'log_age', 'm_ini', 'm_act', 'log_lum', 'log_teff', 'log_grav', 'ubv_u', 'ubv_b', 'ubv_v', 'ubv_r', 'ubv_i', 'ubv_j', 'ubv_h', 'ubv_k', 'ubv_l', 'ubv_m')\n"
     ]
    }
   ],
   "source": [
    "x = np.load(\"../data/UBV/ubv_0ext.npy\")\n",
    "print(x.dtype.names)"
   ]
  },
  {
   "cell_type": "code",
   "execution_count": 4,
   "metadata": {},
   "outputs": [
    {
     "name": "stdout",
     "output_type": "stream",
     "text": [
      "7780835 [('meh_ini', '<f8'), ('log_age', '<f8'), ('m_ini', '<f8'), ('m_act', '<f8'), ('log_lum', '<f8'), ('log_teff', '<f8'), ('log_grav', '<f8'), ('ubv_u', '<f8'), ('ubv_b', '<f8'), ('ubv_v', '<f8'), ('ubv_r', '<f8'), ('ubv_i', '<f8'), ('ubv_j', '<f8'), ('ubv_h', '<f8'), ('ubv_k', '<f8'), ('ubv_l', '<f8'), ('ubv_m', '<f8'), ('parsec_index', '<i4')]\n"
     ]
    }
   ],
   "source": [
    "avs = np.array([0,1,2,3,5,10,20])\n",
    "x = []\n",
    "for av in avs:\n",
    "    temp = np.load(\"../data/UBV/ubv_%dext.npy\" %(av))\n",
    "    # we exclude the AGB dust stars from the averaging\n",
    "    temp = temp[~cut]\n",
    "    temp = append_fields(temp,\"parsec_index\",np.zeros(shape = len(temp),dtype = np.int32),usemask=False)\n",
    "    x.append(temp)\n",
    "print(len(x[0]),x[0].dtype)"
   ]
  },
  {
   "cell_type": "code",
   "execution_count": 5,
   "metadata": {},
   "outputs": [
    {
     "name": "stdout",
     "output_type": "stream",
     "text": [
      "meh_ini [-1.49213 -1.49213 -1.49213 ...  0.33631  0.33631  0.33631] 75\n",
      "log_age [ 6.6      6.6      6.6     ... 10.12004 10.12004 10.12004] 177\n",
      "m_ini [0.09       0.0956148  0.1        ... 5.80000019 5.99999952 6.19999933] 6067091\n",
      "m_act [0.09  0.096 0.1   ... 0.94  0.961 0.962] 53226\n",
      "log_lum [-1.531 -1.502 -1.481 ... -4.601 -4.603 -4.604] 10836\n",
      "log_teff [3.5276 3.5305 3.5326 ... 3.6298 3.6321 3.6319] 25411\n",
      "log_grav [3.986 3.995 4.001 ... 8.484 8.505 8.505] 11069\n",
      "ubv_u [13.125 12.983 12.885 ... 19.668 19.648 19.652] 33262\n",
      "ubv_b [11.713 11.594 11.511 ... 18.373 18.353 18.357] 30578\n",
      "ubv_v [10.087  9.985  9.911 ... 17.089 17.076 17.079] 28847\n",
      "ubv_r [ 8.972  8.88   8.813 ... 16.223 16.215 16.218] 27352\n",
      "ubv_i [ 7.977  7.902  7.847 ... 15.521 15.524 15.526] 26990\n",
      "ubv_j [ 6.845  6.781  6.733 ... 14.712 14.722 14.723] 26750\n",
      "ubv_h [ 6.263  6.196  6.146 ... 14.107 14.118 14.12 ] 26611\n",
      "ubv_k [ 6.031  5.966  5.917 ... 13.964 13.979 13.98 ] 26512\n",
      "ubv_l [ 5.754  5.695  5.65  ... 13.86  13.878 13.879] 26446\n",
      "ubv_m [ 5.619  5.563  5.519 ... 13.927 13.948 13.948] 26464\n",
      "parsec_index [0 0 0 ... 0 0 0] 1\n"
     ]
    }
   ],
   "source": [
    "for name in x[0].dtype.names:\n",
    "    print(name,x[0][name],len(np.unique(x[0][name])))"
   ]
  },
  {
   "cell_type": "code",
   "execution_count": 6,
   "metadata": {},
   "outputs": [
    {
     "name": "stdout",
     "output_type": "stream",
     "text": [
      "teff values in parsec\n",
      "teff min max value:  -1.49213 0.33631\n",
      "teff min max index:  0 36\n",
      "dimension cut into 36 pieces\n",
      "teff values in parsec\n",
      "teff min max value:  2.4484 5.6843\n",
      "teff min max index:  122 284\n",
      "dimension cut into 162 pieces\n",
      "lum values in parsec\n",
      "lum min max value:  -4.604 6.24\n",
      "lum min max index:  7 224\n",
      "dimension cut into 217 pieces\n"
     ]
    }
   ],
   "source": [
    "def return_index_feh(feh):\n",
    "        dfeh = 0.05\n",
    "        offset = 1.5\n",
    "        return(int((feh+offset)/dfeh))\n",
    "min_value = min(x[0]['meh_ini'])\n",
    "max_value = max(x[0]['meh_ini'])\n",
    "min_index_feh = return_index_feh(min_value)\n",
    "max_index_feh = return_index_feh(max_value)\n",
    "stretch = max_index_feh - min_index_feh\n",
    "print('teff values in parsec')\n",
    "print('teff min max value: ', min_value, max_value )\n",
    "print('teff min max index: ', min_index_feh, max_index_feh)\n",
    "print('dimension cut into %d pieces' %(stretch))\n",
    "\n",
    "def return_index_teff(teff):\n",
    "        dteff = 0.02\n",
    "        return(int(teff/dteff))\n",
    "min_value = min(x[0]['log_teff'])\n",
    "max_value = max(x[0]['log_teff'])\n",
    "min_index_teff = return_index_teff(min_value)\n",
    "max_index_teff = return_index_teff(max_value)\n",
    "stretch = max_index_teff - min_index_teff\n",
    "print('teff values in parsec')\n",
    "print('teff min max value: ', min_value, max_value )\n",
    "print('teff min max index: ', min_index_teff, max_index_teff)\n",
    "print('dimension cut into %d pieces' %(stretch))\n",
    "\n",
    "def return_index_lum(lum):\n",
    "        dlum = 0.05\n",
    "        offset = 5.\n",
    "        return(int((lum+offset)/dlum))\n",
    "\n",
    "min_value = min(x[0]['log_lum'])\n",
    "max_value = max(x[0]['log_lum'])\n",
    "min_index_lum = return_index_lum(min_value)\n",
    "max_index_lum = return_index_lum(max_value)\n",
    "stretch = max_index_lum - min_index_lum\n",
    "print('lum values in parsec')\n",
    "print('lum min max value: ', min_value, max_value )\n",
    "print('lum min max index: ', min_index_lum, max_index_lum )\n",
    "print('dimension cut into %d pieces' %(stretch))\n",
    "\n",
    "def return_index(feh,teff,lum):\n",
    "        \"\"\"\n",
    "        feh given in dex\n",
    "        teff given in log teff\n",
    "        lum given in log lum\n",
    "        \"\"\"\n",
    "        index_feh = return_index_feh(feh)\n",
    "        if index_feh < min_index_feh:\n",
    "            index_feh = min_index_feh\n",
    "        elif index_feh > max_index_feh:\n",
    "            index_feh = max_index_feh\n",
    "\n",
    "        index_teff = return_index_teff(teff)\n",
    "        if index_teff < min_index_teff:\n",
    "            index_teff = min_index_teff\n",
    "        elif index_teff > max_index_teff:\n",
    "            index_teff = max_index_teff\n",
    "        index_teff *= 1000\n",
    "\n",
    "        index_lum = return_index_lum(lum)\n",
    "        if index_lum > max_index_lum:\n",
    "            index_lum = max_index_lum\n",
    "        elif index_lum < min_index_lum:\n",
    "            index_lum = min_index_lum\n",
    "        index_lum *= 1000 * 1000\n",
    "        assert(index_feh >= 0)\n",
    "        assert(index_teff >= 0)\n",
    "        assert(index_lum >= 0)\n",
    "        return (index_feh + index_teff + index_lum)"
   ]
  },
  {
   "cell_type": "code",
   "execution_count": 7,
   "metadata": {},
   "outputs": [
    {
     "name": "stdout",
     "output_type": "stream",
     "text": [
      "indexing isochrones\n"
     ]
    }
   ],
   "source": [
    "print('indexing isochrones')\n",
    "for i in range(len(x[0])):\n",
    "    x[0][\"parsec_index\"][i] = return_index(x[0][\"meh_ini\"][i],x[0][\"log_teff\"][i],x[0][\"log_lum\"][i])"
   ]
  },
  {
   "cell_type": "code",
   "execution_count": 8,
   "metadata": {
    "collapsed": true
   },
   "outputs": [],
   "source": [
    "# All need to be sorted by parsec_index\n",
    "sort_ind = np.argsort(x[0]['parsec_index'], kind = 'mergesort')\n",
    "for i in range(len(avs)):\n",
    "    x[i] = x[i][sort_ind]"
   ]
  },
  {
   "cell_type": "code",
   "execution_count": 9,
   "metadata": {},
   "outputs": [
    {
     "name": "stdout",
     "output_type": "stream",
     "text": [
      "0 (-0.625, 10.12004, 5.1476984, 0.979, -4.601, 3.6351, 8.522, 19.002, 18.082, 16.94, 16.147, 15.53, 14.762, 14.198, 14.048, 13.931, 13.92, 7181017)\n",
      "1 (-0.625, 10.12004, 5.1476984, 0.979, -4.601, 3.6351, 8.522, 20.539, 19.357, 17.928, 16.946, 16.128, 15.052, 14.381, 14.163, 13.986, 13.953, 0)\n",
      "2 (-0.625, 10.12004, 5.1476984, 0.979, -4.601, 3.6351, 8.522, 22.068, 20.622, 18.91, 17.735, 16.723, 15.341, 14.564, 14.277, 14.041, 13.987, 0)\n",
      "3 (-0.625, 10.12004, 5.1476984, 0.979, -4.601, 3.6351, 8.522, 23.583, 21.867, 19.879, 18.505, 17.309, 15.629, 14.746, 14.392, 14.096, 14.02, 0)\n",
      "4 (-0.625, 10.12004, 5.1476984, 0.979, -4.601, 3.6351, 8.522, 26.613, 24.359, 21.818, 20.045, 18.482, 16.204, 15.111, 14.62, 14.205, 14.086, 0)\n",
      "5 (-0.625, 10.12004, 5.1476984, 0.979, -4.601, 3.6351, 8.522, 34.081, 30.39, 26.551, 23.692, 21.341, 17.628, 16.019, 15.19, 14.48, 14.253, 0)\n",
      "6 (-0.625, 10.12004, 5.1476984, 0.979, -4.601, 3.6351, 8.522, 48.775, 41.797, 35.636, 30.258, 26.828, 20.426, 17.818, 16.322, 15.027, 14.585, 0)\n"
     ]
    }
   ],
   "source": [
    "u_ext = np.zeros(shape=(len(x[0]),len(x)))\n",
    "b_ext = np.zeros(shape=(len(x[0]),len(x)))\n",
    "v_ext = np.zeros(shape=(len(x[0]),len(x)))\n",
    "r_ext = np.zeros(shape=(len(x[0]),len(x)))\n",
    "i_ext = np.zeros(shape=(len(x[0]),len(x)))\n",
    "j_ext = np.zeros(shape=(len(x[0]),len(x)))\n",
    "h_ext = np.zeros(shape=(len(x[0]),len(x)))\n",
    "k_ext = np.zeros(shape=(len(x[0]),len(x)))\n",
    "l_ext = np.zeros(shape=(len(x[0]),len(x)))\n",
    "m_ext = np.zeros(shape=(len(x[0]),len(x)))\n",
    "\n",
    "for i,item in enumerate(x):\n",
    "    print(i,item[0])\n",
    "    u_ext[:,i] = item[\"ubv_u\"]\n",
    "    b_ext[:,i] = item[\"ubv_b\"]\n",
    "    v_ext[:,i] = item[\"ubv_v\"]\n",
    "    r_ext[:,i] = item[\"ubv_r\"]\n",
    "    i_ext[:,i] = item[\"ubv_i\"]\n",
    "    j_ext[:,i] = item[\"ubv_j\"]\n",
    "    h_ext[:,i] = item[\"ubv_h\"]\n",
    "    k_ext[:,i] = item[\"ubv_k\"]\n",
    "    l_ext[:,i] = item[\"ubv_l\"]\n",
    "    m_ext[:,i] = item[\"ubv_m\"]"
   ]
  },
  {
   "cell_type": "code",
   "execution_count": 10,
   "metadata": {
    "collapsed": true
   },
   "outputs": [],
   "source": [
    "# show the extinction law and on which parameters it is dependent\n",
    "u_ext = u_ext - u_ext[:,0,None]\n",
    "b_ext = b_ext - b_ext[:,0,None]\n",
    "v_ext = v_ext - v_ext[:,0,None]\n",
    "r_ext = r_ext - r_ext[:,0,None]\n",
    "i_ext = i_ext - i_ext[:,0,None]\n",
    "j_ext = j_ext - j_ext[:,0,None]\n",
    "h_ext = h_ext - h_ext[:,0,None]\n",
    "k_ext = k_ext - k_ext[:,0,None]\n",
    "l_ext = l_ext - l_ext[:,0,None]\n",
    "m_ext = m_ext - m_ext[:,0,None]"
   ]
  },
  {
   "cell_type": "code",
   "execution_count": 11,
   "metadata": {
    "collapsed": true
   },
   "outputs": [],
   "source": [
    "ext = np.zeros(shape = (len(np.unique(x[0][\"parsec_index\"])),10,6),dtype = np.float32)\n",
    "ext_std = np.zeros_like(ext)\n",
    "parsec = np.zeros(shape =  (len(np.unique(x[0][\"parsec_index\"]))),dtype = x[0].dtype)\n",
    "parsec_std = np.zeros(shape =  (len(np.unique(x[0][\"parsec_index\"]))),dtype = x[0].dtype)"
   ]
  },
  {
   "cell_type": "code",
   "execution_count": 12,
   "metadata": {
    "collapsed": true
   },
   "outputs": [],
   "source": [
    "parsec[\"parsec_index\"] = np.unique(x[0][\"parsec_index\"])\n",
    "parsec_std[\"parsec_index\"] = np.unique(x[0][\"parsec_index\"])"
   ]
  },
  {
   "cell_type": "code",
   "execution_count": 13,
   "metadata": {},
   "outputs": [
    {
     "name": "stdout",
     "output_type": "stream",
     "text": [
      "[      0       1       4 ... 7780833 7780834 7780835]\n",
      "0 243239\n",
      "10000 243239\n",
      "20000 243239\n",
      "30000 243239\n",
      "40000 243239\n",
      "50000 243239\n",
      "60000 243239\n",
      "70000 243239\n",
      "80000 243239\n",
      "90000 243239\n",
      "100000 243239\n",
      "110000 243239\n",
      "120000 243239\n",
      "130000 243239\n",
      "140000 243239\n",
      "150000 243239\n",
      "160000 243239\n",
      "170000 243239\n",
      "180000 243239\n",
      "190000 243239\n",
      "200000 243239\n",
      "210000 243239\n",
      "220000 243239\n",
      "230000 243239\n",
      "240000 243239\n"
     ]
    }
   ],
   "source": [
    "indexing = np.hstack((0,np.searchsorted(x[0]['parsec_index'],parsec['parsec_index'], side='right')))\n",
    "print(indexing)\n",
    "for i in range(len(indexing)-1):\n",
    "    if i%10000==0:\n",
    "        print(i, len(indexing))\n",
    "    lower = indexing[i]\n",
    "    upper = indexing[i+1]\n",
    "    #parsec['parsec_index'][i]\n",
    "    #x[0]['parsec_index'][lower:upper]\n",
    "    temp = x[0][lower:upper]\n",
    "    u_temp = u_ext[lower:upper]\n",
    "    b_temp = b_ext[lower:upper]\n",
    "    v_temp = v_ext[lower:upper]\n",
    "    r_temp = r_ext[lower:upper]\n",
    "    i_temp = i_ext[lower:upper]\n",
    "    j_temp = j_ext[lower:upper]\n",
    "    h_temp = h_ext[lower:upper]\n",
    "    k_temp = k_ext[lower:upper]\n",
    "    l_temp = l_ext[lower:upper]\n",
    "    m_temp = m_ext[lower:upper]\n",
    "    for jtem in parsec.dtype.names:\n",
    "        if jtem == \"parsec_index\":\n",
    "            assert(parsec[\"parsec_index\"][i] == temp[\"parsec_index\"][0])\n",
    "        else:\n",
    "            parsec[jtem][i] = np.median(temp[jtem])\n",
    "            parsec_std[jtem][i] = np.std(temp[jtem])\n",
    "    for t in np.arange(6):\n",
    "        ext[i,0,t] = np.median(u_temp[:,t+1])\n",
    "        ext[i,1,t] = np.median(b_temp[:,t+1])\n",
    "        ext[i,2,t] = np.median(v_temp[:,t+1])\n",
    "        ext[i,3,t] = np.median(r_temp[:,t+1])\n",
    "        ext[i,4,t] = np.median(i_temp[:,t+1])\n",
    "        ext[i,5,t] = np.median(j_temp[:,t+1])\n",
    "        ext[i,6,t] = np.median(h_temp[:,t+1])\n",
    "        ext[i,7,t] = np.median(k_temp[:,t+1])\n",
    "        ext[i,8,t] = np.median(l_temp[:,t+1])\n",
    "        ext[i,9,t] = np.median(m_temp[:,t+1])\n",
    "        \n",
    "        ext_std[i,0,t] = np.std(u_temp[:,t+1])\n",
    "        ext_std[i,1,t] = np.std(b_temp[:,t+1])\n",
    "        ext_std[i,2,t] = np.std(v_temp[:,t+1])\n",
    "        ext_std[i,3,t] = np.std(r_temp[:,t+1])\n",
    "        ext_std[i,4,t] = np.std(i_temp[:,t+1])\n",
    "        ext_std[i,5,t] = np.std(j_temp[:,t+1])\n",
    "        ext_std[i,6,t] = np.std(h_temp[:,t+1])\n",
    "        ext_std[i,7,t] = np.std(k_temp[:,t+1])\n",
    "        ext_std[i,8,t] = np.std(l_temp[:,t+1])\n",
    "        ext_std[i,9,t] = np.std(m_temp[:,t+1])\n"
   ]
  },
  {
   "cell_type": "code",
   "execution_count": 14,
   "metadata": {
    "collapsed": true
   },
   "outputs": [],
   "source": [
    "np.save('ext_ubv.npy',ext)\n",
    "np.save('ext_std_ubv.npy', ext_std)\n",
    "np.save('parsec_ubv.npy', parsec)\n",
    "np.save('parsec_std_ubv.npy', parsec_std)"
   ]
  },
  {
   "cell_type": "code",
   "execution_count": 15,
   "metadata": {
    "collapsed": true
   },
   "outputs": [],
   "source": [
    "# check that the stds are small and also that Galaxia falls onto those parsec indexes."
   ]
  }
 ],
 "metadata": {
  "kernelspec": {
   "display_name": "Python 3",
   "language": "python",
   "name": "python3"
  },
  "language_info": {
   "codemirror_mode": {
    "name": "ipython",
    "version": 3
   },
   "file_extension": ".py",
   "mimetype": "text/x-python",
   "name": "python",
   "nbconvert_exporter": "python",
   "pygments_lexer": "ipython3",
   "version": "3.6.3"
  }
 },
 "nbformat": 4,
 "nbformat_minor": 2
}
