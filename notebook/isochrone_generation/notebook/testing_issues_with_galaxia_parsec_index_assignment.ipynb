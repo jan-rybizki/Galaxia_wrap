{
 "cells": [
  {
   "cell_type": "code",
   "execution_count": 1,
   "metadata": {},
   "outputs": [
    {
     "name": "stdout",
     "output_type": "stream",
     "text": [
      "Populating the interactive namespace from numpy and matplotlib\n"
     ]
    }
   ],
   "source": [
    "%pylab inline"
   ]
  },
  {
   "cell_type": "code",
   "execution_count": 2,
   "metadata": {},
   "outputs": [
    {
     "name": "stdout",
     "output_type": "stream",
     "text": [
      "8102858 [('meh_ini', '<f8'), ('log_age', '<f8'), ('m_ini', '<f8'), ('m_act', '<f8'), ('log_lum', '<f8'), ('log_teff', '<f8'), ('log_grav', '<f8'), ('gaia_g', '<f8'), ('gaia_bpbr', '<f8'), ('gaia_bpft', '<f8'), ('gaia_rp', '<f8'), ('gaia_rvs', '<f8')]\n"
     ]
    }
   ],
   "source": [
    "avs = np.array([0,1,2,3,5,10,20])\n",
    "x = []\n",
    "for av in avs:\n",
    "    x.append(np.load(\"../data/GDR3/gaiadr3_%dext.npy\" %(av)))\n",
    "print(len(x[0]),x[0].dtype)"
   ]
  },
  {
   "cell_type": "code",
   "execution_count": 3,
   "metadata": {},
   "outputs": [
    {
     "name": "stdout",
     "output_type": "stream",
     "text": [
      "meh_ini [-1.49213 -1.49213 -1.49213 ...  0.33631  0.33631  0.33631] 75\n",
      "log_age [ 6.6      6.6      6.6     ... 10.12004 10.12004 10.12004] 177\n",
      "m_ini [0.09       0.0956148  0.1        ... 5.80000019 5.99999952 6.19999933] 6276478\n",
      "m_act [0.09  0.096 0.1   ... 0.94  0.961 0.962] 53226\n",
      "log_lum [-1.531 -1.502 -1.481 ... -4.601 -4.603 -4.604] 10836\n",
      "log_teff [3.5276 3.5305 3.5326 ... 3.6298 3.6321 3.6319] 27662\n",
      "log_grav [3.986 3.995 4.001 ... 8.484 8.505 8.505] 12072\n",
      "gaia_g [ 9.192  9.106  9.043 ... 16.513 16.507 16.51 ] 52080\n",
      "gaia_bpbr [10.284 10.181 10.108 ... 17.284 17.27  17.273] 67368\n",
      "gaia_bpft [10.319 10.217 10.143 ... 17.324 17.31  17.313] 67036\n",
      "gaia_rp [ 8.163  8.085  8.027 ... 15.66  15.66  15.662] 49227\n",
      "gaia_rvs [ 7.692  7.62   7.566 ... 15.318 15.323 15.325] 43937\n"
     ]
    }
   ],
   "source": [
    "for name in x[0].dtype.names:\n",
    "    print(name,x[0][name],len(np.unique(x[0][name])))"
   ]
  },
  {
   "cell_type": "code",
   "execution_count": 4,
   "metadata": {},
   "outputs": [
    {
     "name": "stdout",
     "output_type": "stream",
     "text": [
      "teff values in parsec\n",
      "teff min max value:  -1.49213 0.33631\n",
      "teff min max index:  0 36\n",
      "dimension cut into 36 pieces\n",
      "teff values in parsec\n",
      "teff min max value:  1.666 5.6843\n",
      "teff min max index:  166 568\n",
      "dimension cut into 402 pieces\n",
      "lum values in parsec\n",
      "lum min max value:  -4.604 6.24\n",
      "lum min max index:  19 562\n",
      "dimension cut into 543 pieces\n"
     ]
    }
   ],
   "source": [
    "def return_index_feh(feh):\n",
    "        dfeh = 0.05\n",
    "        offset = 1.5\n",
    "        return(int((feh+offset)/dfeh))\n",
    "min_value = min(x[0]['meh_ini'])\n",
    "max_value = max(x[0]['meh_ini'])\n",
    "min_index_feh = return_index_feh(min_value)\n",
    "max_index_feh = return_index_feh(max_value)\n",
    "stretch = max_index_feh - min_index_feh\n",
    "print('teff values in parsec')\n",
    "print('teff min max value: ', min_value, max_value )\n",
    "print('teff min max index: ', min_index_feh, max_index_feh)\n",
    "print('dimension cut into %d pieces' %(stretch))\n",
    "\n",
    "def return_index_teff(teff):\n",
    "        dteff = 0.01\n",
    "        return(int(teff/dteff))\n",
    "min_value = min(x[0]['log_teff'])\n",
    "max_value = max(x[0]['log_teff'])\n",
    "min_index_teff = return_index_teff(min_value)\n",
    "max_index_teff = return_index_teff(max_value)\n",
    "stretch = max_index_teff - min_index_teff\n",
    "print('teff values in parsec')\n",
    "print('teff min max value: ', min_value, max_value )\n",
    "print('teff min max index: ', min_index_teff, max_index_teff)\n",
    "print('dimension cut into %d pieces' %(stretch))\n",
    "\n",
    "def return_index_lum(lum):\n",
    "        dlum = 0.02\n",
    "        offset = 5.\n",
    "        return(int((lum+offset)/dlum))\n",
    "\n",
    "min_value = min(x[0]['log_lum'])\n",
    "max_value = max(x[0]['log_lum'])\n",
    "min_index_lum = return_index_lum(min_value)\n",
    "max_index_lum = return_index_lum(max_value)\n",
    "stretch = max_index_lum - min_index_lum\n",
    "print('lum values in parsec')\n",
    "print('lum min max value: ', min_value, max_value )\n",
    "print('lum min max index: ', min_index_lum, max_index_lum )\n",
    "print('dimension cut into %d pieces' %(stretch))\n",
    "\n",
    "def return_index(feh,teff,lum):\n",
    "        \"\"\"\n",
    "        feh given in dex\n",
    "        teff given in log teff\n",
    "        lum given in log lum\n",
    "        \"\"\"\n",
    "        index_feh = return_index_feh(feh)\n",
    "        if index_feh < min_index_feh:\n",
    "            index_feh = min_index_feh\n",
    "        elif index_feh > max_index_feh:\n",
    "            index_feh = max_index_feh\n",
    "\n",
    "        index_teff = return_index_teff(teff)\n",
    "        if index_teff < min_index_teff:\n",
    "            index_teff = min_index_teff\n",
    "        elif index_teff > max_index_teff:\n",
    "            index_teff = max_index_teff\n",
    "        index_teff *= 1000\n",
    "\n",
    "        index_lum = return_index_lum(lum)\n",
    "        if index_lum > max_index_lum:\n",
    "            index_lum = max_index_lum\n",
    "        elif index_lum < min_index_lum:\n",
    "            index_lum = min_index_lum\n",
    "        index_lum *= 1000 * 1000\n",
    "        assert(index_feh >= 0)\n",
    "        assert(index_teff >= 0)\n",
    "        assert(index_lum >= 0)\n",
    "        return (index_feh + index_teff + index_lum)"
   ]
  },
  {
   "cell_type": "code",
   "execution_count": 5,
   "metadata": {},
   "outputs": [
    {
     "name": "stdout",
     "output_type": "stream",
     "text": [
      "indexing isochrones\n"
     ]
    }
   ],
   "source": [
    "print('indexing isochrones')\n",
    "indizes = np.zeros(shape=(len(x[0])),dtype = np.int32)\n",
    "for i in range(len(x[0])):\n",
    "    indizes[i] = return_index(x[0][\"meh_ini\"][i],x[0][\"log_teff\"][i],x[0][\"log_lum\"][i])"
   ]
  },
  {
   "cell_type": "code",
   "execution_count": 6,
   "metadata": {},
   "outputs": [
    {
     "name": "stdout",
     "output_type": "stream",
     "text": [
      "157747\n",
      "indexing galaxia\n",
      "how many unique indizes in galaxia:  26594\n",
      "independent volume elements in parsec isochrones:  893259\n",
      "Are all galaxia indizes covered by the isochrones?\n"
     ]
    }
   ],
   "source": [
    "from astropy.io import fits\n",
    "y = fits.getdata(\"../../../Galaxia_wrap-master/output/mock_cat_old_gdr3_isochrones/GDR2mock_20.7Gmag.fits\")\n",
    "print(len(y))\n",
    "print('indexing galaxia')\n",
    "indizes_g = np.zeros(len(y),dtype = np.int32)\n",
    "for i in range(len(y)):\n",
    "    indizes_g[i] = return_index(y['feh'][i],np.log10(y['teff'][i]),y['lum'][i])\n",
    "\n",
    "print('how many unique indizes in galaxia: ',len(np.unique(indizes_g)))\n",
    "print('independent volume elements in parsec isochrones: ',len(np.unique(indizes)))\n",
    "\n",
    "print('Are all galaxia indizes covered by the isochrones?')"
   ]
  },
  {
   "cell_type": "code",
   "execution_count": 10,
   "metadata": {
    "scrolled": false
   },
   "outputs": [
    {
     "name": "stdout",
     "output_type": "stream",
     "text": [
      "0 26424\n",
      "1000 26424\n",
      "2000 26424\n",
      "3000 26424\n",
      "4000 26424\n",
      "5000 26424\n",
      "6000 26424\n",
      "7000 26424\n",
      "8000 26424\n",
      "9000 26424\n",
      "10000 26424\n",
      "11000 26424\n",
      "12000 26424\n",
      "13000 26424\n",
      "14000 26424\n",
      "15000 26424\n",
      "16000 26424\n",
      "17000 26424\n",
      "18000 26424\n",
      "19000 26424\n",
      "20000 26424\n",
      "21000 26424\n",
      "22000 26424\n",
      "23000 26424\n",
      "24000 26424\n",
      "25000 26424\n",
      "26000 26424\n",
      "Problems with 0 cells in galaxia with a total of 0 stars\n"
     ]
    }
   ],
   "source": [
    "problems = 0\n",
    "total_fail=0\n",
    "distances = []\n",
    "unique = np.unique(indizes)\n",
    "for i,item in enumerate(np.unique(indizes_g)):\n",
    "    if i % 1000 == 0:\n",
    "        print(i, len(np.unique(indizes_g)))\n",
    "    try:\n",
    "        assert(item in unique)\n",
    "    except:\n",
    "        problems += 1\n",
    "        temp = y[np.where(indizes_g == item)]\n",
    "        #We are staying with the same metallicity\n",
    "        temp_cut = np.where(indizes%1000==item%1000)\n",
    "        temp_x = x[0][temp_cut]\n",
    "        temp_indizes = indizes[temp_cut]\n",
    "        total_fail += len(temp)\n",
    "        distance = (np.median(np.log10(temp['teff']))-temp_x['log_teff'])**2 + (np.median(temp['lum']) - temp_x['log_lum'])**2\n",
    "        min_distance = min(distance)\n",
    "        print(i,np.sqrt(min_distance))\n",
    "        distances.append(np.sqrt(min_distance))\n",
    "        indizes_g[np.where(indizes_g == item)] = temp_indizes[np.where(distance == min_distance)][0]\n",
    "\n",
    "        \n",
    "print(\"Problems with %d cells in galaxia with a total of %d stars\" %(problems,total_fail))\n",
    "        "
   ]
  }
 ],
 "metadata": {
  "kernelspec": {
   "display_name": "Python 3",
   "language": "python",
   "name": "python3"
  },
  "language_info": {
   "codemirror_mode": {
    "name": "ipython",
    "version": 3
   },
   "file_extension": ".py",
   "mimetype": "text/x-python",
   "name": "python",
   "nbconvert_exporter": "python",
   "pygments_lexer": "ipython3",
   "version": "3.6.3"
  }
 },
 "nbformat": 4,
 "nbformat_minor": 2
}
