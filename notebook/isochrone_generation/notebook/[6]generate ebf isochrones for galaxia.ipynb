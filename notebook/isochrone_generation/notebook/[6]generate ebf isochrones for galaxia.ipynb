{
 "cells": [
  {
   "cell_type": "code",
   "execution_count": 1,
   "metadata": {},
   "outputs": [
    {
     "name": "stdout",
     "output_type": "stream",
     "text": [
      "Populating the interactive namespace from numpy and matplotlib\n"
     ]
    }
   ],
   "source": [
    "%pylab inline\n",
    "# Now we want to convert the ebf file to numpy files\n",
    "import ebf\n",
    "import os\n",
    "import sys\n",
    "from astropy.io import fits"
   ]
  },
  {
   "cell_type": "code",
   "execution_count": 17,
   "metadata": {},
   "outputs": [
    {
     "name": "stdout",
     "output_type": "stream",
     "text": [
      "[('meh_ini', '<f8'), ('log_age', '<f8'), ('m_ini', '<f8'), ('m_act', '<f8'), ('log_lum', '<f8'), ('log_teff', '<f8'), ('log_grav', '<f8'), ('gaia_g', '<f8'), ('gaia_bpbr', '<f8'), ('gaia_bpft', '<f8'), ('gaia_rp', '<f8'), ('gaia_rvs', '<f8')]\n"
     ]
    }
   ],
   "source": [
    "x = np.load('../data/gaiadr3_0ext.npy')\n",
    "print(x.dtype)\n",
    "filename = \"../data/newdr3.ebf\"\n",
    "for i,item in enumerate(x.dtype.names):\n",
    "    if i == 0:\n",
    "        ebf.write(filename, '/' + item, x[item], \"w\")\n",
    "    else:\n",
    "        ebf.write(filename, '/' + item, x[item], \"a\")"
   ]
  },
  {
   "cell_type": "code",
   "execution_count": 19,
   "metadata": {},
   "outputs": [
    {
     "data": {
      "text/plain": [
       "{'gaia_bpbr': array([10.284, 10.181, 10.108, ..., 17.284, 17.27 , 17.273]),\n",
       " 'gaia_bpft': array([10.319, 10.217, 10.143, ..., 17.324, 17.31 , 17.313]),\n",
       " 'gaia_g': array([ 9.192,  9.106,  9.043, ..., 16.513, 16.507, 16.51 ]),\n",
       " 'gaia_rp': array([ 8.163,  8.085,  8.027, ..., 15.66 , 15.66 , 15.662]),\n",
       " 'gaia_rvs': array([ 7.692,  7.62 ,  7.566, ..., 15.318, 15.323, 15.325]),\n",
       " 'log_age': array([ 6.6    ,  6.6    ,  6.6    , ..., 10.12004, 10.12004, 10.12004]),\n",
       " 'log_grav': array([3.986, 3.995, 4.001, ..., 8.484, 8.505, 8.505]),\n",
       " 'log_lum': array([-1.531, -1.502, -1.481, ..., -4.601, -4.603, -4.604]),\n",
       " 'log_teff': array([3.5276, 3.5305, 3.5326, ..., 3.6298, 3.6321, 3.6319]),\n",
       " 'm_act': array([0.09 , 0.096, 0.1  , ..., 0.94 , 0.961, 0.962]),\n",
       " 'm_ini': array([0.09      , 0.0956148 , 0.1       , ..., 5.80000019, 5.99999952,\n",
       "        6.19999933]),\n",
       " 'meh_ini': array([-1.49213, -1.49213, -1.49213, ...,  0.33631,  0.33631,  0.33631])}"
      ]
     },
     "execution_count": 19,
     "metadata": {},
     "output_type": "execute_result"
    }
   ],
   "source": [
    "# Look at (new) dr3 file:\n",
    "dr3 = ebf.read('../data/newdr3.ebf','/')\n",
    "dr3"
   ]
  },
  {
   "cell_type": "code",
   "execution_count": 20,
   "metadata": {},
   "outputs": [
    {
     "data": {
      "text/plain": [
       "{'gaia_g': array([ 8.906,  8.821,  8.761, ..., -1.44 , -1.801, 30.283]),\n",
       " 'gaia_gbp': array([ 9.848,  9.749,  9.679, ...,  1.57 ,  0.878, 30.223]),\n",
       " 'gaia_grp': array([ 7.985,  7.907,  7.851, ..., -2.814, -3.148, 30.348]),\n",
       " 'label': array([0., 0., 0., ..., 8., 8., 9.]),\n",
       " 'log_age': array([ 6.6 ,  6.6 ,  6.6 , ..., 10.12, 10.12, 10.12]),\n",
       " 'log_grav': array([ 4.096,  4.104,  4.108, ..., -0.371, -0.336,  2.055]),\n",
       " 'log_lum': array([-1.475, -1.446, -1.425, ...,  3.54 ,  3.546, -9.999]),\n",
       " 'log_teff': array([3.5648, 3.5675, 3.5695, ..., 3.509 , 3.5215, 4.0706]),\n",
       " 'm_act': array([0.094, 0.1  , 0.104, ..., 0.554, 0.542, 0.542]),\n",
       " 'm_ini': array([0.09395929, 0.09973458, 0.10388859, ..., 0.99893647, 0.99893659,\n",
       "        0.99893725]),\n",
       " 'meh_act': array([-1.97663922, -1.97663922, -1.97663922, ...,  0.50488203,\n",
       "         0.50488203,  0.50488203]),\n",
       " 'meh_ini': array([-2. , -2. , -2. , ...,  0.5,  0.5,  0.5]),\n",
       " 'tmass_h': array([ 6.206,  6.142,  6.095, ..., -6.765, -6.708, 30.531]),\n",
       " 'tmass_j': array([ 6.77 ,  6.704,  6.657, ..., -5.909, -5.857, 30.476]),\n",
       " 'tmass_ks': array([ 6.006,  5.94 ,  5.893, ..., -7.281, -7.225, 30.557])}"
      ]
     },
     "execution_count": 20,
     "metadata": {},
     "output_type": "execute_result"
    }
   ],
   "source": [
    "# Look at (good) galaxia file:\n",
    "#dr3 = ebf.read('../data/working.ebf','/')\n",
    "#dr3"
   ]
  },
  {
   "cell_type": "code",
   "execution_count": null,
   "metadata": {
    "collapsed": true
   },
   "outputs": [],
   "source": []
  }
 ],
 "metadata": {
  "kernelspec": {
   "display_name": "Python 3",
   "language": "python",
   "name": "python3"
  },
  "language_info": {
   "codemirror_mode": {
    "name": "ipython",
    "version": 3
   },
   "file_extension": ".py",
   "mimetype": "text/x-python",
   "name": "python",
   "nbconvert_exporter": "python",
   "pygments_lexer": "ipython3",
   "version": "3.6.3"
  }
 },
 "nbformat": 4,
 "nbformat_minor": 2
}
