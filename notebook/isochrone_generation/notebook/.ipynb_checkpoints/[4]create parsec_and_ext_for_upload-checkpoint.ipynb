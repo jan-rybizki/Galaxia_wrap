{
 "cells": [
  {
   "cell_type": "code",
   "execution_count": 1,
   "metadata": {
    "collapsed": true
   },
   "outputs": [],
   "source": [
    "import numpy as np\n",
    "from astropy.io import fits\n",
    "from numpy.lib.recfunctions import append_fields, drop_fields"
   ]
  },
  {
   "cell_type": "code",
   "execution_count": 2,
   "metadata": {},
   "outputs": [
    {
     "name": "stdout",
     "output_type": "stream",
     "text": [
      "('meh_ini', 'log_age', 'm_ini', 'm_act', 'log_lum', 'log_teff', 'log_grav', 'gaia_g', 'gaia_bpbr', 'gaia_bpft', 'gaia_rp', 'gaia_rvs', 'parsec_index', 'sloan_u', 'sloan_g', 'sloan_r', 'sloan_i', 'sloan_z', 'tmass_j', 'tmass_h', 'tmass_ks', 'ubv_u', 'ubv_b', 'ubv_v', 'ubv_r', 'ubv_i', 'ubv_j', 'ubv_h', 'ubv_k', 'ubv_l', 'ubv_m')\n"
     ]
    }
   ],
   "source": [
    "#Load all tables\n",
    "iso = np.load('parsec.npy')\n",
    "iso1 = np.load('parsec_sloan.npy')\n",
    "iso2 = np.load('parsec_2mass.npy')\n",
    "iso3 = np.load('parsec_ubv.npy')\n",
    "# make sure they have the same structure and are sorted by parsec index\n",
    "assert np.all(np.equal(iso['parsec_index'],np.sort(iso['parsec_index'])))\n",
    "assert np.all(np.equal(iso1['parsec_index'],np.sort(iso['parsec_index'])))\n",
    "assert np.all(np.equal(iso2['parsec_index'],np.sort(iso['parsec_index'])))\n",
    "assert np.all(np.equal(iso3['parsec_index'],np.sort(iso['parsec_index'])))\n",
    "# write out the bands\n",
    "sloan_bands = iso1.dtype.names[7:-1]\n",
    "tmass_bands = iso2.dtype.names[7:-1]\n",
    "ubv_bands = iso3.dtype.names[7:-1]\n",
    "for band in sloan_bands:\n",
    "    iso = append_fields(iso,band,iso1[band], usemask=False,asrecarray=True)\n",
    "for band in tmass_bands:\n",
    "    iso = append_fields(iso,band,iso2[band], usemask=False,asrecarray=True)\n",
    "for band in ubv_bands:\n",
    "    iso = append_fields(iso,band,iso3[band], usemask=False,asrecarray=True)\n",
    "print(iso.dtype.names)\n",
    "fits.writeto('parsec.fits', iso)"
   ]
  },
  {
   "cell_type": "code",
   "execution_count": 3,
   "metadata": {},
   "outputs": [
    {
     "data": {
      "text/plain": [
       "('ubv_u',\n",
       " 'ubv_b',\n",
       " 'ubv_v',\n",
       " 'ubv_r',\n",
       " 'ubv_i',\n",
       " 'ubv_j',\n",
       " 'ubv_h',\n",
       " 'ubv_k',\n",
       " 'ubv_l',\n",
       " 'ubv_m')"
      ]
     },
     "execution_count": 3,
     "metadata": {},
     "output_type": "execute_result"
    }
   ],
   "source": [
    "ubv_bands"
   ]
  },
  {
   "cell_type": "code",
   "execution_count": 4,
   "metadata": {
    "collapsed": true
   },
   "outputs": [],
   "source": [
    "ext = np.load('ext.npy')\n",
    "ext1 = np.load(\"ext_sloan.npy\")\n",
    "ext2 = np.load(\"ext_2mass.npy\")\n",
    "ext3 = np.load('ext_ubv.npy')"
   ]
  },
  {
   "cell_type": "code",
   "execution_count": 5,
   "metadata": {
    "collapsed": true
   },
   "outputs": [],
   "source": [
    "gaia_bands = ['gaia_g','gaia_bpft','gaia_bpbr','gaia_rp','gaia_rvs']\n",
    "avs = [1,2,3,5,10,20]"
   ]
  },
  {
   "cell_type": "code",
   "execution_count": 6,
   "metadata": {
    "collapsed": true
   },
   "outputs": [],
   "source": [
    "for i,band in enumerate(gaia_bands):\n",
    "    for j,av in enumerate(avs):\n",
    "        iso = append_fields(iso,\"A0_%d_%s\" %(av,band),ext[:,i,j], usemask=False)"
   ]
  },
  {
   "cell_type": "code",
   "execution_count": 7,
   "metadata": {},
   "outputs": [],
   "source": [
    "for i,band in enumerate(sloan_bands):\n",
    "    for j,av in enumerate(avs):\n",
    "        iso = append_fields(iso,\"A0_%d_%s\" %(av,band),ext1[:,i,j], usemask=False)\n",
    "for i,band in enumerate(tmass_bands):\n",
    "    for j,av in enumerate(avs):\n",
    "        iso = append_fields(iso,\"A0_%d_%s\" %(av,band),ext2[:,i,j], usemask=False)\n",
    "for i,band in enumerate(ubv_bands):\n",
    "    for j,av in enumerate(avs):\n",
    "        iso = append_fields(iso,\"A0_%d_%s\" %(av,band),ext3[:,i,j], usemask=False)"
   ]
  },
  {
   "cell_type": "code",
   "execution_count": 8,
   "metadata": {},
   "outputs": [
    {
     "name": "stdout",
     "output_type": "stream",
     "text": [
      "('meh_ini', 'log_age', 'm_ini', 'm_act', 'log_lum', 'log_teff', 'log_grav', 'gaia_g', 'gaia_bpbr', 'gaia_bpft', 'gaia_rp', 'gaia_rvs', 'parsec_index', 'sloan_u', 'sloan_g', 'sloan_r', 'sloan_i', 'sloan_z', 'tmass_j', 'tmass_h', 'tmass_ks', 'ubv_u', 'ubv_b', 'ubv_v', 'ubv_r', 'ubv_i', 'ubv_j', 'ubv_h', 'ubv_k', 'ubv_l', 'ubv_m', 'A0_1_gaia_g', 'A0_2_gaia_g', 'A0_3_gaia_g', 'A0_5_gaia_g', 'A0_10_gaia_g', 'A0_20_gaia_g', 'A0_1_gaia_bpft', 'A0_2_gaia_bpft', 'A0_3_gaia_bpft', 'A0_5_gaia_bpft', 'A0_10_gaia_bpft', 'A0_20_gaia_bpft', 'A0_1_gaia_bpbr', 'A0_2_gaia_bpbr', 'A0_3_gaia_bpbr', 'A0_5_gaia_bpbr', 'A0_10_gaia_bpbr', 'A0_20_gaia_bpbr', 'A0_1_gaia_rp', 'A0_2_gaia_rp', 'A0_3_gaia_rp', 'A0_5_gaia_rp', 'A0_10_gaia_rp', 'A0_20_gaia_rp', 'A0_1_gaia_rvs', 'A0_2_gaia_rvs', 'A0_3_gaia_rvs', 'A0_5_gaia_rvs', 'A0_10_gaia_rvs', 'A0_20_gaia_rvs', 'A0_1_sloan_u', 'A0_2_sloan_u', 'A0_3_sloan_u', 'A0_5_sloan_u', 'A0_10_sloan_u', 'A0_20_sloan_u', 'A0_1_sloan_g', 'A0_2_sloan_g', 'A0_3_sloan_g', 'A0_5_sloan_g', 'A0_10_sloan_g', 'A0_20_sloan_g', 'A0_1_sloan_r', 'A0_2_sloan_r', 'A0_3_sloan_r', 'A0_5_sloan_r', 'A0_10_sloan_r', 'A0_20_sloan_r', 'A0_1_sloan_i', 'A0_2_sloan_i', 'A0_3_sloan_i', 'A0_5_sloan_i', 'A0_10_sloan_i', 'A0_20_sloan_i', 'A0_1_sloan_z', 'A0_2_sloan_z', 'A0_3_sloan_z', 'A0_5_sloan_z', 'A0_10_sloan_z', 'A0_20_sloan_z', 'A0_1_tmass_j', 'A0_2_tmass_j', 'A0_3_tmass_j', 'A0_5_tmass_j', 'A0_10_tmass_j', 'A0_20_tmass_j', 'A0_1_tmass_h', 'A0_2_tmass_h', 'A0_3_tmass_h', 'A0_5_tmass_h', 'A0_10_tmass_h', 'A0_20_tmass_h', 'A0_1_tmass_ks', 'A0_2_tmass_ks', 'A0_3_tmass_ks', 'A0_5_tmass_ks', 'A0_10_tmass_ks', 'A0_20_tmass_ks', 'A0_1_ubv_u', 'A0_2_ubv_u', 'A0_3_ubv_u', 'A0_5_ubv_u', 'A0_10_ubv_u', 'A0_20_ubv_u', 'A0_1_ubv_b', 'A0_2_ubv_b', 'A0_3_ubv_b', 'A0_5_ubv_b', 'A0_10_ubv_b', 'A0_20_ubv_b', 'A0_1_ubv_v', 'A0_2_ubv_v', 'A0_3_ubv_v', 'A0_5_ubv_v', 'A0_10_ubv_v', 'A0_20_ubv_v', 'A0_1_ubv_r', 'A0_2_ubv_r', 'A0_3_ubv_r', 'A0_5_ubv_r', 'A0_10_ubv_r', 'A0_20_ubv_r', 'A0_1_ubv_i', 'A0_2_ubv_i', 'A0_3_ubv_i', 'A0_5_ubv_i', 'A0_10_ubv_i', 'A0_20_ubv_i', 'A0_1_ubv_j', 'A0_2_ubv_j', 'A0_3_ubv_j', 'A0_5_ubv_j', 'A0_10_ubv_j', 'A0_20_ubv_j', 'A0_1_ubv_h', 'A0_2_ubv_h', 'A0_3_ubv_h', 'A0_5_ubv_h', 'A0_10_ubv_h', 'A0_20_ubv_h', 'A0_1_ubv_k', 'A0_2_ubv_k', 'A0_3_ubv_k', 'A0_5_ubv_k', 'A0_10_ubv_k', 'A0_20_ubv_k', 'A0_1_ubv_l', 'A0_2_ubv_l', 'A0_3_ubv_l', 'A0_5_ubv_l', 'A0_10_ubv_l', 'A0_20_ubv_l', 'A0_1_ubv_m', 'A0_2_ubv_m', 'A0_3_ubv_m', 'A0_5_ubv_m', 'A0_10_ubv_m', 'A0_20_ubv_m')\n"
     ]
    }
   ],
   "source": [
    "fits.writeto('external_photometry_lookup.fits',iso)\n",
    "print(iso.dtype.names)"
   ]
  }
 ],
 "metadata": {
  "kernelspec": {
   "display_name": "Python 3",
   "language": "python",
   "name": "python3"
  },
  "language_info": {
   "codemirror_mode": {
    "name": "ipython",
    "version": 3
   },
   "file_extension": ".py",
   "mimetype": "text/x-python",
   "name": "python",
   "nbconvert_exporter": "python",
   "pygments_lexer": "ipython3",
   "version": "3.6.3"
  }
 },
 "nbformat": 4,
 "nbformat_minor": 2
}
