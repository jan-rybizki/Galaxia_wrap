{
 "cells": [
  {
   "cell_type": "code",
   "execution_count": 9,
   "metadata": {},
   "outputs": [
    {
     "name": "stdout",
     "output_type": "stream",
     "text": [
      "Populating the interactive namespace from numpy and matplotlib\n"
     ]
    }
   ],
   "source": [
    "%pylab inline\n",
    "import ebf"
   ]
  },
  {
   "cell_type": "code",
   "execution_count": 10,
   "metadata": {
    "collapsed": true
   },
   "outputs": [],
   "source": [
    "bad_ids = np.load(\"exclude_ids.npy\")"
   ]
  },
  {
   "cell_type": "code",
   "execution_count": 13,
   "metadata": {},
   "outputs": [
    {
     "name": "stdout",
     "output_type": "stream",
     "text": [
      "../../../../Programme/GalaxiaData/Isochrones/padova/parsec1/SLOAN/output.ebf\n",
      "8102988\n",
      "8102858\n",
      "../../../../Programme/GalaxiaData/Isochrones/padova/parsec1/SLOAN/output.ebf\n",
      "8102988\n",
      "8102858\n",
      "../../../../Programme/GalaxiaData/Isochrones/padova/parsec1/TMASS/output.ebf\n",
      "8102988\n",
      "8102858\n"
     ]
    }
   ],
   "source": [
    "# Has already been applied\n",
    "\"\"\"\n",
    "for folder in [\"SLOAN\",\"TMASS\",\"UBV\",\"GAIADR3\"]:\n",
    "    print(filename)\n",
    "    filename = '../../../../Programme/GalaxiaData/Isochrones/padova/parsec1/%s/output.ebf' %(folder)\n",
    "    isochrones = ebf.read(filename,'/')\n",
    "    x = ebf.dict2npstruct(isochrones, basekey='log_age', keylist=None)\n",
    "    print(len(x))\n",
    "    x = np.delete(x,bad_ids)\n",
    "    print(len(x))\n",
    "    ebf.write(filename,'/',x,'w')\n",
    "\"\"\""
   ]
  },
  {
   "cell_type": "code",
   "execution_count": 15,
   "metadata": {},
   "outputs": [
    {
     "name": "stdout",
     "output_type": "stream",
     "text": [
      "2mass_0ext.npy\n",
      "8102858\n",
      "8102858\n",
      "gaiadr3_0ext.npy\n",
      "8102858\n",
      "8102858\n",
      "sloan_0ext.npy\n",
      "8102858\n",
      "8102858\n",
      "ubv_0ext.npy\n",
      "8102858\n",
      "8102858\n",
      "2mass_1ext.npy\n",
      "8102858\n",
      "8102858\n",
      "gaiadr3_1ext.npy\n",
      "8102858\n",
      "8102858\n",
      "sloan_1ext.npy\n",
      "8102858\n",
      "8102858\n",
      "ubv_1ext.npy\n",
      "8102858\n",
      "8102858\n",
      "2mass_2ext.npy\n",
      "8102858\n",
      "8102858\n",
      "gaiadr3_2ext.npy\n",
      "8102858\n",
      "8102858\n",
      "sloan_2ext.npy\n",
      "8102858\n",
      "8102858\n",
      "ubv_2ext.npy\n",
      "8102858\n",
      "8102858\n",
      "2mass_3ext.npy\n",
      "8102858\n",
      "8102858\n",
      "gaiadr3_3ext.npy\n",
      "8102858\n",
      "8102858\n",
      "sloan_3ext.npy\n",
      "8102858\n",
      "8102858\n",
      "ubv_3ext.npy\n",
      "8102858\n",
      "8102858\n",
      "2mass_5ext.npy\n",
      "8102858\n",
      "8102858\n",
      "gaiadr3_5ext.npy\n",
      "8102858\n",
      "8102858\n",
      "sloan_5ext.npy\n",
      "8102858\n",
      "8102858\n",
      "ubv_5ext.npy\n",
      "8102858\n",
      "8102858\n",
      "2mass_10ext.npy\n",
      "8102858\n",
      "8102858\n",
      "gaiadr3_10ext.npy\n",
      "8102858\n",
      "8102858\n",
      "sloan_10ext.npy\n",
      "8102858\n",
      "8102858\n",
      "ubv_10ext.npy\n",
      "8102858\n",
      "8102858\n",
      "2mass_20ext.npy\n",
      "8102858\n",
      "8102858\n",
      "gaiadr3_20ext.npy\n",
      "8102858\n",
      "8102858\n",
      "sloan_20ext.npy\n",
      "8102858\n",
      "8102858\n",
      "ubv_20ext.npy\n",
      "8102858\n",
      "8102858\n"
     ]
    }
   ],
   "source": [
    "# Has already been applied\n",
    "\"\"\"\n",
    "avs = np.array([0,1,2,3,5,10,20])\n",
    "names = [\"2mass\",\"gaiadr3\",\"sloan\",\"ubv\"]\n",
    "for av in avs:\n",
    "    for name in names:\n",
    "        filename = \"%s_%dext.npy\" %(name,av)\n",
    "        print(filename)\n",
    "        x = np.load(filename)\n",
    "        print(len(x))\n",
    "        x = np.delete(x,bad_ids)\n",
    "        np.save(filename,x)\n",
    "        print(len(x))\n",
    "\"\"\""
   ]
  },
  {
   "cell_type": "code",
   "execution_count": 16,
   "metadata": {},
   "outputs": [
    {
     "data": {
      "text/plain": [
       "array([  53932,   53952,   57078,   57094,   57098,   57824,   57844,\n",
       "         59266,   59279,   59286,   59992,   60738,   60758,   63787,\n",
       "        147324,  150466,  150482,  150486,  151210,  152654,  152667,\n",
       "        153381,  153401,  153414,  154128,  154913,  157181,  240684,\n",
       "        240705,  243891,  243907,  243911,  244657,  246099,  246857,\n",
       "        247560,  247570,  247590,  247603,  248353,  250621,  334124,\n",
       "        334128,  334149,  337339,  337355,  341024,  341044,  341807,\n",
       "        344085,  427597,  427622,  434502,  437564,  520242,  520986,\n",
       "        521007,  521011,  524235,  530987,  613316,  614061,  614066,\n",
       "        614082,  614086,  614889,  614890,  617318,  706471,  707215,\n",
       "        707220,  707236,  707240,  708042,  708043,  799651,  800395,\n",
       "        800400,  800416,  800420,  801221,  801222,  810376,  892922,\n",
       "        893652,  894421,  894422,  903551,  986166,  986857,  987626,\n",
       "        987627,  988326,  996757, 1079355, 1080038, 1080813, 1080814,\n",
       "       1080815, 1081491, 1081511, 1081527, 1090026, 1172783, 1173468,\n",
       "       1174243, 1174244, 1174921, 1174941, 1174957, 1174961, 1174981,\n",
       "       1183415, 1265110, 1266542, 1267254, 1267955, 1270841, 1270941,\n",
       "       1270942, 1362470, 1362471, 1362472, 1364619, 1459856, 1459857,\n",
       "       1459858, 1556954, 1556955, 6842812])"
      ]
     },
     "execution_count": 16,
     "metadata": {},
     "output_type": "execute_result"
    }
   ],
   "source": [
    "bad_ids"
   ]
  },
  {
   "cell_type": "code",
   "execution_count": null,
   "metadata": {
    "collapsed": true
   },
   "outputs": [],
   "source": []
  }
 ],
 "metadata": {
  "kernelspec": {
   "display_name": "Python 3",
   "language": "python",
   "name": "python3"
  },
  "language_info": {
   "codemirror_mode": {
    "name": "ipython",
    "version": 3
   },
   "file_extension": ".py",
   "mimetype": "text/x-python",
   "name": "python",
   "nbconvert_exporter": "python",
   "pygments_lexer": "ipython3",
   "version": "3.6.3"
  }
 },
 "nbformat": 4,
 "nbformat_minor": 2
}
