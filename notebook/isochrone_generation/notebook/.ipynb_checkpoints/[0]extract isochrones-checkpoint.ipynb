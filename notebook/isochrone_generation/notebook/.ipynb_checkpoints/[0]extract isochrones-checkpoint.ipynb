{
 "cells": [
  {
   "cell_type": "code",
   "execution_count": 1,
   "metadata": {},
   "outputs": [
    {
     "name": "stdout",
     "output_type": "stream",
     "text": [
      "Populating the interactive namespace from numpy and matplotlib\n"
     ]
    }
   ],
   "source": [
    "%pylab inline\n",
    "from numpy.lib.recfunctions import drop_fields,stack_arrays,rename_fields\n",
    "import ebf"
   ]
  },
  {
   "cell_type": "code",
   "execution_count": 2,
   "metadata": {},
   "outputs": [
    {
     "data": {
      "text/plain": [
       "'\\nfor av in [1,2,3,5,10,20]:\\n    print(av)\\n    x = np.genfromtxt(\"../data/isoc_gaiaDR3sim/isoc_gaiaDR3sim_av%d.0a.dat\" %(av), names = True, dtype = None)\\n    x = drop_fields(x, fields_to_drop,usemask = False)\\n    print(len(x), x.dtype)\\n    #for i,item in enumerate(x.dtype.names):\\n    #    print(i,item)\\n    #    print(np.unique(x[item],return_counts=True))\\n    y = np.genfromtxt(\"../data/isoc_gaiaDR3sim/isoc_gaiaDR3sim_av%d.0b.dat\" %(av), names = True, dtype = None)\\n    y = drop_fields(y, fields_to_drop,usemask = False)\\n    iso = stack_arrays([x,y],usemask=False,asrecarray=True)\\n    print(len(iso), iso.dtype)\\n    iso = rename_fields(iso, {\\'MH\\':\\'meh_ini\\', \\'logAge\\':\\'log_age\\', \\'Mini\\':\\'m_ini\\', \\'Mass\\':\\'m_act\\',\\n                     \\'logL\\':\\'log_lum\\', \\'logTe\\':\\'log_teff\\', \\'logg\\':\\'log_grav\\', \\'Gmag\\':\\'gaia_g\\',\\n                      \\'G_BPbrmag\\':\\'gaia_bpbr\\', \\'G_BPftmag\\':\\'gaia_bpft\\', \\'G_RPmag\\':\\'gaia_rp\\',\\n                      \\'G_RVSmag\\':\\'gaia_rvs\\'})\\n    iso = np.sort(iso, kind = \"mergesort\", order = [\"meh_ini\",\"log_age\"])\\n    np.save(\\'gaiadr3_%dext.npy\\' %(av),iso)\\n    if av == 0:\\n        ebf.write(\\'output_gaiadr3.ebf\\',\\'/\\',iso,\\'w\\')\\n    print(len(iso),iso.dtype)\\n'"
      ]
     },
     "execution_count": 2,
     "metadata": {},
     "output_type": "execute_result"
    }
   ],
   "source": [
    "# Reads in all Gaia Isochrones and converts them to npy or ebf files that are useful for galaxia or extinction calculation\n",
    "\n",
    "fields_to_drop = ['Zini','int_IMF','McoreTP','C_O','period0','period1','pmode','Mloss','tau1m',\n",
    "                  'X','Y','Xc','Xn','Xo','Cexcess','Z','mbolmag','label']\n",
    "\"\"\"\n",
    "for av in [1,2,3,5,10,20]:\n",
    "    print(av)\n",
    "    x = np.genfromtxt(\"../data/isoc_gaiaDR3sim/isoc_gaiaDR3sim_av%d.0a.dat\" %(av), names = True, dtype = None)\n",
    "    x = drop_fields(x, fields_to_drop,usemask = False)\n",
    "    print(len(x), x.dtype)\n",
    "    #for i,item in enumerate(x.dtype.names):\n",
    "    #    print(i,item)\n",
    "    #    print(np.unique(x[item],return_counts=True))\n",
    "    y = np.genfromtxt(\"../data/isoc_gaiaDR3sim/isoc_gaiaDR3sim_av%d.0b.dat\" %(av), names = True, dtype = None)\n",
    "    y = drop_fields(y, fields_to_drop,usemask = False)\n",
    "    iso = stack_arrays([x,y],usemask=False,asrecarray=True)\n",
    "    print(len(iso), iso.dtype)\n",
    "    iso = rename_fields(iso, {'MH':'meh_ini', 'logAge':'log_age', 'Mini':'m_ini', 'Mass':'m_act',\n",
    "                     'logL':'log_lum', 'logTe':'log_teff', 'logg':'log_grav', 'Gmag':'gaia_g',\n",
    "                      'G_BPbrmag':'gaia_bpbr', 'G_BPftmag':'gaia_bpft', 'G_RPmag':'gaia_rp',\n",
    "                      'G_RVSmag':'gaia_rvs'})\n",
    "    iso = np.sort(iso, kind = \"mergesort\", order = [\"meh_ini\",\"log_age\"])\n",
    "    np.save('gaiadr3_%dext.npy' %(av),iso)\n",
    "    if av == 0:\n",
    "        ebf.write('output_gaiadr3.ebf','/',iso,'w')\n",
    "    print(len(iso),iso.dtype)\n",
    "\"\"\""
   ]
  },
  {
   "cell_type": "code",
   "execution_count": 3,
   "metadata": {},
   "outputs": [
    {
     "data": {
      "text/plain": [
       "'\\nfor av in [0,1,2,3,5,10,20]:\\n    print(av)\\n    x = np.genfromtxt(\"../data/2mass/isoc_2mass_av%d.0a.dat\" %(av), names = True, dtype = None)\\n    x = drop_fields(x, fields_to_drop,usemask = False)\\n    print(len(x), x.dtype)\\n    y = np.genfromtxt(\"../data/2mass/isoc_2mass_av%d.0b.dat\" %(av), names = True, dtype = None)\\n    y = drop_fields(y, fields_to_drop,usemask = False)\\n    iso = stack_arrays([x,y],usemask=False,asrecarray=True)\\n    print(len(iso), iso.dtype)\\n    iso = rename_fields(iso, {\\'MH\\':\\'meh_ini\\', \\'logAge\\':\\'log_age\\', \\'Mini\\':\\'m_ini\\', \\'Mass\\':\\'m_act\\',\\n                     \\'logL\\':\\'log_lum\\', \\'logTe\\':\\'log_teff\\', \\'logg\\':\\'log_grav\\', \\'Jmag\\':\\'tmass_j\\',\\n                      \\'Hmag\\':\\'tmass_h\\', \\'Ksmag\\':\\'tmass_ks\\'})\\n    iso = np.sort(iso, kind = \"mergesort\", order = [\"meh_ini\",\"log_age\"])\\n    np.save(\\'2mass_%dext.npy\\' %(av),iso)\\n    if av == 0:\\n        ebf.write(\\'output_2mass.ebf\\',\\'/\\',iso,\\'w\\')\\n    print(len(iso),iso.dtype)\\n'"
      ]
     },
     "execution_count": 3,
     "metadata": {},
     "output_type": "execute_result"
    }
   ],
   "source": [
    "# Reads in all 2MASS\n",
    "\"\"\"\n",
    "for av in [0,1,2,3,5,10,20]:\n",
    "    print(av)\n",
    "    x = np.genfromtxt(\"../data/2mass/isoc_2mass_av%d.0a.dat\" %(av), names = True, dtype = None)\n",
    "    x = drop_fields(x, fields_to_drop,usemask = False)\n",
    "    print(len(x), x.dtype)\n",
    "    y = np.genfromtxt(\"../data/2mass/isoc_2mass_av%d.0b.dat\" %(av), names = True, dtype = None)\n",
    "    y = drop_fields(y, fields_to_drop,usemask = False)\n",
    "    iso = stack_arrays([x,y],usemask=False,asrecarray=True)\n",
    "    print(len(iso), iso.dtype)\n",
    "    iso = rename_fields(iso, {'MH':'meh_ini', 'logAge':'log_age', 'Mini':'m_ini', 'Mass':'m_act',\n",
    "                     'logL':'log_lum', 'logTe':'log_teff', 'logg':'log_grav', 'Jmag':'tmass_j',\n",
    "                      'Hmag':'tmass_h', 'Ksmag':'tmass_ks'})\n",
    "    iso = np.sort(iso, kind = \"mergesort\", order = [\"meh_ini\",\"log_age\"])\n",
    "    np.save('2mass_%dext.npy' %(av),iso)\n",
    "    if av == 0:\n",
    "        ebf.write('output_2mass.ebf','/',iso,'w')\n",
    "    print(len(iso),iso.dtype)\n",
    "\"\"\""
   ]
  },
  {
   "cell_type": "code",
   "execution_count": 4,
   "metadata": {},
   "outputs": [
    {
     "name": "stdout",
     "output_type": "stream",
     "text": [
      "0\n",
      "3420043 [('MH', '<f8'), ('logAge', '<f8'), ('Mini', '<f8'), ('Mass', '<f8'), ('logL', '<f8'), ('logTe', '<f8'), ('logg', '<f8'), ('umag', '<f8'), ('gmag', '<f8'), ('rmag', '<f8'), ('imag', '<f8'), ('zmag', '<f8')]\n",
      "8102988 (numpy.record, [('MH', '<f8'), ('logAge', '<f8'), ('Mini', '<f8'), ('Mass', '<f8'), ('logL', '<f8'), ('logTe', '<f8'), ('logg', '<f8'), ('umag', '<f8'), ('gmag', '<f8'), ('rmag', '<f8'), ('imag', '<f8'), ('zmag', '<f8')])\n",
      "8102988 (numpy.record, [('meh_ini', '<f8'), ('log_age', '<f8'), ('m_ini', '<f8'), ('m_act', '<f8'), ('log_lum', '<f8'), ('log_teff', '<f8'), ('log_grav', '<f8'), ('sloan_u', '<f8'), ('sloan_g', '<f8'), ('sloan_r', '<f8'), ('sloan_i', '<f8'), ('sloan_z', '<f8')])\n",
      "1\n",
      "3420043 [('MH', '<f8'), ('logAge', '<f8'), ('Mini', '<f8'), ('Mass', '<f8'), ('logL', '<f8'), ('logTe', '<f8'), ('logg', '<f8'), ('umag', '<f8'), ('gmag', '<f8'), ('rmag', '<f8'), ('imag', '<f8'), ('zmag', '<f8')]\n",
      "8102988 (numpy.record, [('MH', '<f8'), ('logAge', '<f8'), ('Mini', '<f8'), ('Mass', '<f8'), ('logL', '<f8'), ('logTe', '<f8'), ('logg', '<f8'), ('umag', '<f8'), ('gmag', '<f8'), ('rmag', '<f8'), ('imag', '<f8'), ('zmag', '<f8')])\n",
      "8102988 (numpy.record, [('meh_ini', '<f8'), ('log_age', '<f8'), ('m_ini', '<f8'), ('m_act', '<f8'), ('log_lum', '<f8'), ('log_teff', '<f8'), ('log_grav', '<f8'), ('sloan_u', '<f8'), ('sloan_g', '<f8'), ('sloan_r', '<f8'), ('sloan_i', '<f8'), ('sloan_z', '<f8')])\n",
      "2\n",
      "3420043 [('MH', '<f8'), ('logAge', '<f8'), ('Mini', '<f8'), ('Mass', '<f8'), ('logL', '<f8'), ('logTe', '<f8'), ('logg', '<f8'), ('umag', '<f8'), ('gmag', '<f8'), ('rmag', '<f8'), ('imag', '<f8'), ('zmag', '<f8')]\n",
      "8102988 (numpy.record, [('MH', '<f8'), ('logAge', '<f8'), ('Mini', '<f8'), ('Mass', '<f8'), ('logL', '<f8'), ('logTe', '<f8'), ('logg', '<f8'), ('umag', '<f8'), ('gmag', '<f8'), ('rmag', '<f8'), ('imag', '<f8'), ('zmag', '<f8')])\n",
      "8102988 (numpy.record, [('meh_ini', '<f8'), ('log_age', '<f8'), ('m_ini', '<f8'), ('m_act', '<f8'), ('log_lum', '<f8'), ('log_teff', '<f8'), ('log_grav', '<f8'), ('sloan_u', '<f8'), ('sloan_g', '<f8'), ('sloan_r', '<f8'), ('sloan_i', '<f8'), ('sloan_z', '<f8')])\n",
      "3\n",
      "3420043 [('MH', '<f8'), ('logAge', '<f8'), ('Mini', '<f8'), ('Mass', '<f8'), ('logL', '<f8'), ('logTe', '<f8'), ('logg', '<f8'), ('umag', '<f8'), ('gmag', '<f8'), ('rmag', '<f8'), ('imag', '<f8'), ('zmag', '<f8')]\n",
      "8102988 (numpy.record, [('MH', '<f8'), ('logAge', '<f8'), ('Mini', '<f8'), ('Mass', '<f8'), ('logL', '<f8'), ('logTe', '<f8'), ('logg', '<f8'), ('umag', '<f8'), ('gmag', '<f8'), ('rmag', '<f8'), ('imag', '<f8'), ('zmag', '<f8')])\n",
      "8102988 (numpy.record, [('meh_ini', '<f8'), ('log_age', '<f8'), ('m_ini', '<f8'), ('m_act', '<f8'), ('log_lum', '<f8'), ('log_teff', '<f8'), ('log_grav', '<f8'), ('sloan_u', '<f8'), ('sloan_g', '<f8'), ('sloan_r', '<f8'), ('sloan_i', '<f8'), ('sloan_z', '<f8')])\n",
      "5\n",
      "3420043 [('MH', '<f8'), ('logAge', '<f8'), ('Mini', '<f8'), ('Mass', '<f8'), ('logL', '<f8'), ('logTe', '<f8'), ('logg', '<f8'), ('umag', '<f8'), ('gmag', '<f8'), ('rmag', '<f8'), ('imag', '<f8'), ('zmag', '<f8')]\n",
      "8102988 (numpy.record, [('MH', '<f8'), ('logAge', '<f8'), ('Mini', '<f8'), ('Mass', '<f8'), ('logL', '<f8'), ('logTe', '<f8'), ('logg', '<f8'), ('umag', '<f8'), ('gmag', '<f8'), ('rmag', '<f8'), ('imag', '<f8'), ('zmag', '<f8')])\n",
      "8102988 (numpy.record, [('meh_ini', '<f8'), ('log_age', '<f8'), ('m_ini', '<f8'), ('m_act', '<f8'), ('log_lum', '<f8'), ('log_teff', '<f8'), ('log_grav', '<f8'), ('sloan_u', '<f8'), ('sloan_g', '<f8'), ('sloan_r', '<f8'), ('sloan_i', '<f8'), ('sloan_z', '<f8')])\n",
      "10\n",
      "3420043 [('MH', '<f8'), ('logAge', '<f8'), ('Mini', '<f8'), ('Mass', '<f8'), ('logL', '<f8'), ('logTe', '<f8'), ('logg', '<f8'), ('umag', '<f8'), ('gmag', '<f8'), ('rmag', '<f8'), ('imag', '<f8'), ('zmag', '<f8')]\n",
      "8102988 (numpy.record, [('MH', '<f8'), ('logAge', '<f8'), ('Mini', '<f8'), ('Mass', '<f8'), ('logL', '<f8'), ('logTe', '<f8'), ('logg', '<f8'), ('umag', '<f8'), ('gmag', '<f8'), ('rmag', '<f8'), ('imag', '<f8'), ('zmag', '<f8')])\n",
      "8102988 (numpy.record, [('meh_ini', '<f8'), ('log_age', '<f8'), ('m_ini', '<f8'), ('m_act', '<f8'), ('log_lum', '<f8'), ('log_teff', '<f8'), ('log_grav', '<f8'), ('sloan_u', '<f8'), ('sloan_g', '<f8'), ('sloan_r', '<f8'), ('sloan_i', '<f8'), ('sloan_z', '<f8')])\n",
      "20\n",
      "3420043 [('MH', '<f8'), ('logAge', '<f8'), ('Mini', '<f8'), ('Mass', '<f8'), ('logL', '<f8'), ('logTe', '<f8'), ('logg', '<f8'), ('umag', '<f8'), ('gmag', '<f8'), ('rmag', '<f8'), ('imag', '<f8'), ('zmag', '<f8')]\n",
      "8102988 (numpy.record, [('MH', '<f8'), ('logAge', '<f8'), ('Mini', '<f8'), ('Mass', '<f8'), ('logL', '<f8'), ('logTe', '<f8'), ('logg', '<f8'), ('umag', '<f8'), ('gmag', '<f8'), ('rmag', '<f8'), ('imag', '<f8'), ('zmag', '<f8')])\n",
      "8102988 (numpy.record, [('meh_ini', '<f8'), ('log_age', '<f8'), ('m_ini', '<f8'), ('m_act', '<f8'), ('log_lum', '<f8'), ('log_teff', '<f8'), ('log_grav', '<f8'), ('sloan_u', '<f8'), ('sloan_g', '<f8'), ('sloan_r', '<f8'), ('sloan_i', '<f8'), ('sloan_z', '<f8')])\n"
     ]
    }
   ],
   "source": [
    "# Reads in all Sloan\n",
    "for av in [0,1,2,3,5,10,20]:\n",
    "    print(av)\n",
    "    x = np.genfromtxt(\"../data/isoc_sloan/isoc_sloan_av%d.0a.dat\" %(av), names = True, dtype = None)\n",
    "    x = drop_fields(x, fields_to_drop,usemask = False)\n",
    "    print(len(x), x.dtype)\n",
    "    y = np.genfromtxt(\"../data/isoc_sloan/isoc_sloan_av%d.0b.dat\" %(av), names = True, dtype = None)\n",
    "    y = drop_fields(y, fields_to_drop,usemask = False)\n",
    "    iso = stack_arrays([x,y],usemask=False,asrecarray=True)\n",
    "    print(len(iso), iso.dtype)\n",
    "    iso = rename_fields(iso, {'MH':'meh_ini', 'logAge':'log_age', 'Mini':'m_ini', 'Mass':'m_act',\n",
    "                     'logL':'log_lum', 'logTe':'log_teff', 'logg':'log_grav', 'umag':'sloan_u',\n",
    "                      'gmag':'sloan_g', 'rmag':'sloan_r', 'imag':'sloan_i', 'zmag':'sloan_z'})\n",
    "    iso = np.sort(iso, kind = \"mergesort\", order = [\"meh_ini\",\"log_age\"])\n",
    "    np.save('sloan_%dext.npy' %(av),iso)\n",
    "    if av == 0:\n",
    "        ebf.write('output_sloan.ebf','/',iso,'w')\n",
    "    print(len(iso),iso.dtype)"
   ]
  },
  {
   "cell_type": "code",
   "execution_count": 5,
   "metadata": {},
   "outputs": [
    {
     "name": "stdout",
     "output_type": "stream",
     "text": [
      "0\n",
      "3420043 [('MH', '<f8'), ('logAge', '<f8'), ('Mini', '<f8'), ('Mass', '<f8'), ('logL', '<f8'), ('logTe', '<f8'), ('logg', '<f8'), ('Umag', '<f8'), ('Bmag', '<f8'), ('Vmag', '<f8'), ('Rmag', '<f8'), ('Imag', '<f8'), ('Jmag', '<f8'), ('Hmag', '<f8'), ('Kmag', '<f8'), ('Lmag', '<f8'), ('Mmag', '<f8')]\n",
      "8102988 (numpy.record, [('MH', '<f8'), ('logAge', '<f8'), ('Mini', '<f8'), ('Mass', '<f8'), ('logL', '<f8'), ('logTe', '<f8'), ('logg', '<f8'), ('Umag', '<f8'), ('Bmag', '<f8'), ('Vmag', '<f8'), ('Rmag', '<f8'), ('Imag', '<f8'), ('Jmag', '<f8'), ('Hmag', '<f8'), ('Kmag', '<f8'), ('Lmag', '<f8'), ('Mmag', '<f8')])\n",
      "8102988 (numpy.record, [('meh_ini', '<f8'), ('log_age', '<f8'), ('m_ini', '<f8'), ('m_act', '<f8'), ('log_lum', '<f8'), ('log_teff', '<f8'), ('log_grav', '<f8'), ('ubv_u', '<f8'), ('ubv_b', '<f8'), ('ubv_v', '<f8'), ('ubv_r', '<f8'), ('ubv_i', '<f8'), ('ubv_j', '<f8'), ('ubv_h', '<f8'), ('ubv_k', '<f8'), ('ubv_l', '<f8'), ('ubv_m', '<f8')])\n",
      "1\n",
      "3420043 [('MH', '<f8'), ('logAge', '<f8'), ('Mini', '<f8'), ('Mass', '<f8'), ('logL', '<f8'), ('logTe', '<f8'), ('logg', '<f8'), ('Umag', '<f8'), ('Bmag', '<f8'), ('Vmag', '<f8'), ('Rmag', '<f8'), ('Imag', '<f8'), ('Jmag', '<f8'), ('Hmag', '<f8'), ('Kmag', '<f8'), ('Lmag', '<f8'), ('Mmag', '<f8')]\n",
      "8102988 (numpy.record, [('MH', '<f8'), ('logAge', '<f8'), ('Mini', '<f8'), ('Mass', '<f8'), ('logL', '<f8'), ('logTe', '<f8'), ('logg', '<f8'), ('Umag', '<f8'), ('Bmag', '<f8'), ('Vmag', '<f8'), ('Rmag', '<f8'), ('Imag', '<f8'), ('Jmag', '<f8'), ('Hmag', '<f8'), ('Kmag', '<f8'), ('Lmag', '<f8'), ('Mmag', '<f8')])\n",
      "8102988 (numpy.record, [('meh_ini', '<f8'), ('log_age', '<f8'), ('m_ini', '<f8'), ('m_act', '<f8'), ('log_lum', '<f8'), ('log_teff', '<f8'), ('log_grav', '<f8'), ('ubv_u', '<f8'), ('ubv_b', '<f8'), ('ubv_v', '<f8'), ('ubv_r', '<f8'), ('ubv_i', '<f8'), ('ubv_j', '<f8'), ('ubv_h', '<f8'), ('ubv_k', '<f8'), ('ubv_l', '<f8'), ('ubv_m', '<f8')])\n",
      "2\n",
      "3420043 [('MH', '<f8'), ('logAge', '<f8'), ('Mini', '<f8'), ('Mass', '<f8'), ('logL', '<f8'), ('logTe', '<f8'), ('logg', '<f8'), ('Umag', '<f8'), ('Bmag', '<f8'), ('Vmag', '<f8'), ('Rmag', '<f8'), ('Imag', '<f8'), ('Jmag', '<f8'), ('Hmag', '<f8'), ('Kmag', '<f8'), ('Lmag', '<f8'), ('Mmag', '<f8')]\n",
      "8102988 (numpy.record, [('MH', '<f8'), ('logAge', '<f8'), ('Mini', '<f8'), ('Mass', '<f8'), ('logL', '<f8'), ('logTe', '<f8'), ('logg', '<f8'), ('Umag', '<f8'), ('Bmag', '<f8'), ('Vmag', '<f8'), ('Rmag', '<f8'), ('Imag', '<f8'), ('Jmag', '<f8'), ('Hmag', '<f8'), ('Kmag', '<f8'), ('Lmag', '<f8'), ('Mmag', '<f8')])\n",
      "8102988 (numpy.record, [('meh_ini', '<f8'), ('log_age', '<f8'), ('m_ini', '<f8'), ('m_act', '<f8'), ('log_lum', '<f8'), ('log_teff', '<f8'), ('log_grav', '<f8'), ('ubv_u', '<f8'), ('ubv_b', '<f8'), ('ubv_v', '<f8'), ('ubv_r', '<f8'), ('ubv_i', '<f8'), ('ubv_j', '<f8'), ('ubv_h', '<f8'), ('ubv_k', '<f8'), ('ubv_l', '<f8'), ('ubv_m', '<f8')])\n",
      "3\n",
      "3420043 [('MH', '<f8'), ('logAge', '<f8'), ('Mini', '<f8'), ('Mass', '<f8'), ('logL', '<f8'), ('logTe', '<f8'), ('logg', '<f8'), ('Umag', '<f8'), ('Bmag', '<f8'), ('Vmag', '<f8'), ('Rmag', '<f8'), ('Imag', '<f8'), ('Jmag', '<f8'), ('Hmag', '<f8'), ('Kmag', '<f8'), ('Lmag', '<f8'), ('Mmag', '<f8')]\n",
      "8102988 (numpy.record, [('MH', '<f8'), ('logAge', '<f8'), ('Mini', '<f8'), ('Mass', '<f8'), ('logL', '<f8'), ('logTe', '<f8'), ('logg', '<f8'), ('Umag', '<f8'), ('Bmag', '<f8'), ('Vmag', '<f8'), ('Rmag', '<f8'), ('Imag', '<f8'), ('Jmag', '<f8'), ('Hmag', '<f8'), ('Kmag', '<f8'), ('Lmag', '<f8'), ('Mmag', '<f8')])\n",
      "8102988 (numpy.record, [('meh_ini', '<f8'), ('log_age', '<f8'), ('m_ini', '<f8'), ('m_act', '<f8'), ('log_lum', '<f8'), ('log_teff', '<f8'), ('log_grav', '<f8'), ('ubv_u', '<f8'), ('ubv_b', '<f8'), ('ubv_v', '<f8'), ('ubv_r', '<f8'), ('ubv_i', '<f8'), ('ubv_j', '<f8'), ('ubv_h', '<f8'), ('ubv_k', '<f8'), ('ubv_l', '<f8'), ('ubv_m', '<f8')])\n",
      "5\n",
      "3420043 [('MH', '<f8'), ('logAge', '<f8'), ('Mini', '<f8'), ('Mass', '<f8'), ('logL', '<f8'), ('logTe', '<f8'), ('logg', '<f8'), ('Umag', '<f8'), ('Bmag', '<f8'), ('Vmag', '<f8'), ('Rmag', '<f8'), ('Imag', '<f8'), ('Jmag', '<f8'), ('Hmag', '<f8'), ('Kmag', '<f8'), ('Lmag', '<f8'), ('Mmag', '<f8')]\n",
      "8102988 (numpy.record, [('MH', '<f8'), ('logAge', '<f8'), ('Mini', '<f8'), ('Mass', '<f8'), ('logL', '<f8'), ('logTe', '<f8'), ('logg', '<f8'), ('Umag', '<f8'), ('Bmag', '<f8'), ('Vmag', '<f8'), ('Rmag', '<f8'), ('Imag', '<f8'), ('Jmag', '<f8'), ('Hmag', '<f8'), ('Kmag', '<f8'), ('Lmag', '<f8'), ('Mmag', '<f8')])\n",
      "8102988 (numpy.record, [('meh_ini', '<f8'), ('log_age', '<f8'), ('m_ini', '<f8'), ('m_act', '<f8'), ('log_lum', '<f8'), ('log_teff', '<f8'), ('log_grav', '<f8'), ('ubv_u', '<f8'), ('ubv_b', '<f8'), ('ubv_v', '<f8'), ('ubv_r', '<f8'), ('ubv_i', '<f8'), ('ubv_j', '<f8'), ('ubv_h', '<f8'), ('ubv_k', '<f8'), ('ubv_l', '<f8'), ('ubv_m', '<f8')])\n",
      "10\n",
      "3420043 [('MH', '<f8'), ('logAge', '<f8'), ('Mini', '<f8'), ('Mass', '<f8'), ('logL', '<f8'), ('logTe', '<f8'), ('logg', '<f8'), ('Umag', '<f8'), ('Bmag', '<f8'), ('Vmag', '<f8'), ('Rmag', '<f8'), ('Imag', '<f8'), ('Jmag', '<f8'), ('Hmag', '<f8'), ('Kmag', '<f8'), ('Lmag', '<f8'), ('Mmag', '<f8')]\n",
      "8102988 (numpy.record, [('MH', '<f8'), ('logAge', '<f8'), ('Mini', '<f8'), ('Mass', '<f8'), ('logL', '<f8'), ('logTe', '<f8'), ('logg', '<f8'), ('Umag', '<f8'), ('Bmag', '<f8'), ('Vmag', '<f8'), ('Rmag', '<f8'), ('Imag', '<f8'), ('Jmag', '<f8'), ('Hmag', '<f8'), ('Kmag', '<f8'), ('Lmag', '<f8'), ('Mmag', '<f8')])\n",
      "8102988 (numpy.record, [('meh_ini', '<f8'), ('log_age', '<f8'), ('m_ini', '<f8'), ('m_act', '<f8'), ('log_lum', '<f8'), ('log_teff', '<f8'), ('log_grav', '<f8'), ('ubv_u', '<f8'), ('ubv_b', '<f8'), ('ubv_v', '<f8'), ('ubv_r', '<f8'), ('ubv_i', '<f8'), ('ubv_j', '<f8'), ('ubv_h', '<f8'), ('ubv_k', '<f8'), ('ubv_l', '<f8'), ('ubv_m', '<f8')])\n",
      "20\n",
      "3420043 [('MH', '<f8'), ('logAge', '<f8'), ('Mini', '<f8'), ('Mass', '<f8'), ('logL', '<f8'), ('logTe', '<f8'), ('logg', '<f8'), ('Umag', '<f8'), ('Bmag', '<f8'), ('Vmag', '<f8'), ('Rmag', '<f8'), ('Imag', '<f8'), ('Jmag', '<f8'), ('Hmag', '<f8'), ('Kmag', '<f8'), ('Lmag', '<f8'), ('Mmag', '<f8')]\n",
      "8102988 (numpy.record, [('MH', '<f8'), ('logAge', '<f8'), ('Mini', '<f8'), ('Mass', '<f8'), ('logL', '<f8'), ('logTe', '<f8'), ('logg', '<f8'), ('Umag', '<f8'), ('Bmag', '<f8'), ('Vmag', '<f8'), ('Rmag', '<f8'), ('Imag', '<f8'), ('Jmag', '<f8'), ('Hmag', '<f8'), ('Kmag', '<f8'), ('Lmag', '<f8'), ('Mmag', '<f8')])\n",
      "8102988 (numpy.record, [('meh_ini', '<f8'), ('log_age', '<f8'), ('m_ini', '<f8'), ('m_act', '<f8'), ('log_lum', '<f8'), ('log_teff', '<f8'), ('log_grav', '<f8'), ('ubv_u', '<f8'), ('ubv_b', '<f8'), ('ubv_v', '<f8'), ('ubv_r', '<f8'), ('ubv_i', '<f8'), ('ubv_j', '<f8'), ('ubv_h', '<f8'), ('ubv_k', '<f8'), ('ubv_l', '<f8'), ('ubv_m', '<f8')])\n"
     ]
    }
   ],
   "source": [
    "# Reads in all UBV\n",
    "for av in [0,1,2,3,5,10,20]:\n",
    "    print(av)\n",
    "    x = np.genfromtxt(\"../data/isoc_ubvrijklm/isoc_ubvrijklm_av%d.0a.dat\" %(av), names = True, dtype = None)\n",
    "    x = drop_fields(x, fields_to_drop,usemask = False)\n",
    "    print(len(x), x.dtype)\n",
    "    y = np.genfromtxt(\"../data/isoc_ubvrijklm/isoc_ubvrijklm_av%d.0b.dat\" %(av), names = True, dtype = None)\n",
    "    y = drop_fields(y, fields_to_drop,usemask = False)\n",
    "    iso = stack_arrays([x,y],usemask=False,asrecarray=True)\n",
    "    print(len(iso), iso.dtype)\n",
    "    iso = rename_fields(iso, {'MH':'meh_ini', 'logAge':'log_age', 'Mini':'m_ini', 'Mass':'m_act',\n",
    "                     'logL':'log_lum', 'logTe':'log_teff', 'logg':'log_grav', 'Umag':'ubv_u',\n",
    "                      'Bmag':'ubv_b', 'Vmag':'ubv_v', 'Rmag':'ubv_r', 'Imag':'ubv_i',\n",
    "                    'Jmag':'ubv_j', 'Hmag':'ubv_h', 'Kmag':'ubv_k', 'Lmag':'ubv_l',\n",
    "                    'Mmag':'ubv_m'})\n",
    "    iso = np.sort(iso, kind = \"mergesort\", order = [\"meh_ini\",\"log_age\"])\n",
    "    np.save('ubv_%dext.npy' %(av),iso)\n",
    "    if av == 0:\n",
    "        ebf.write('output_ubv.ebf','/',iso,'w')\n",
    "    print(len(iso),iso.dtype)"
   ]
  },
  {
   "cell_type": "code",
   "execution_count": 6,
   "metadata": {},
   "outputs": [
    {
     "data": {
      "text/plain": [
       "'\\nisochrones = ebf.read(\\'../working_isochrones/galaxia_update/output.ebf\\',\\'/\\')\\nprint(isochrones,isochrones.keys())\\nebf.write(\\'test.ebf\\',\\'/\\',x,\\'w\\')\\ndata = ebf.read(\\'test.ebf\\',\\'/\\')\\nx = ebf.dict2npstruct(isochrones, basekey=\\'gaia_g\\', keylist=None)\\nx = drop_fields(x,[\"meh_act\",\"label\",\"tmass_h\",\"tmass_j\",\"tmass_ks\"], usemask=False)\\nebf.write(\\'output.ebf\\',\\'/\\',x,\\'w\\')\\n'"
      ]
     },
     "execution_count": 6,
     "metadata": {},
     "output_type": "execute_result"
    }
   ],
   "source": [
    "# The ebf manipulation examples\n",
    "\"\"\"\n",
    "isochrones = ebf.read('../working_isochrones/galaxia_update/output.ebf','/')\n",
    "print(isochrones,isochrones.keys())\n",
    "ebf.write('test.ebf','/',x,'w')\n",
    "data = ebf.read('test.ebf','/')\n",
    "x = ebf.dict2npstruct(isochrones, basekey='gaia_g', keylist=None)\n",
    "x = drop_fields(x,[\"meh_act\",\"label\",\"tmass_h\",\"tmass_j\",\"tmass_ks\"], usemask=False)\n",
    "ebf.write('output.ebf','/',x,'w')\n",
    "\"\"\""
   ]
  }
 ],
 "metadata": {
  "kernelspec": {
   "display_name": "Python 3",
   "language": "python",
   "name": "python3"
  },
  "language_info": {
   "codemirror_mode": {
    "name": "ipython",
    "version": 3
   },
   "file_extension": ".py",
   "mimetype": "text/x-python",
   "name": "python",
   "nbconvert_exporter": "python",
   "pygments_lexer": "ipython3",
   "version": "3.6.3"
  }
 },
 "nbformat": 4,
 "nbformat_minor": 2
}
