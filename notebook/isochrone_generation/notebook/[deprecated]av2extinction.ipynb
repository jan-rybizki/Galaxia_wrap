{
 "cells": [
  {
   "cell_type": "code",
   "execution_count": 1,
   "metadata": {},
   "outputs": [
    {
     "name": "stdout",
     "output_type": "stream",
     "text": [
      "Populating the interactive namespace from numpy and matplotlib\n"
     ]
    },
    {
     "name": "stderr",
     "output_type": "stream",
     "text": [
      "/home/rybizki/anaconda3/lib/python3.6/importlib/_bootstrap.py:219: RuntimeWarning: numpy.dtype size changed, may indicate binary incompatibility. Expected 96, got 88\n",
      "  return f(*args, **kwds)\n",
      "/home/rybizki/anaconda3/lib/python3.6/importlib/_bootstrap.py:219: RuntimeWarning: numpy.dtype size changed, may indicate binary incompatibility. Expected 96, got 88\n",
      "  return f(*args, **kwds)\n",
      "/home/rybizki/anaconda3/lib/python3.6/site-packages/sklearn/ensemble/weight_boosting.py:29: DeprecationWarning: numpy.core.umath_tests is an internal NumPy module and should not be imported. It will be removed in a future NumPy release.\n",
      "  from numpy.core.umath_tests import inner1d\n"
     ]
    }
   ],
   "source": [
    "%pylab inline\n",
    "from sklearn.ensemble import ExtraTreesRegressor\n",
    "import pickle"
   ]
  },
  {
   "cell_type": "code",
   "execution_count": 2,
   "metadata": {},
   "outputs": [
    {
     "name": "stdout",
     "output_type": "stream",
     "text": [
      "8102858 [('meh_ini', '<f8'), ('log_age', '<f8'), ('m_ini', '<f8'), ('m_act', '<f8'), ('log_lum', '<f8'), ('log_teff', '<f8'), ('log_grav', '<f8'), ('gaia_g', '<f8'), ('gaia_bpbr', '<f8'), ('gaia_bpft', '<f8'), ('gaia_rp', '<f8'), ('gaia_rvs', '<f8')]\n"
     ]
    }
   ],
   "source": [
    "avs = np.array([0,1,2,3,5,10,20])\n",
    "x = []\n",
    "for av in avs:\n",
    "    x.append(np.load(\"../data/GDR3/gaiadr3_%dext.npy\" %(av)))\n",
    "print(len(x[0]),x[0].dtype)"
   ]
  },
  {
   "cell_type": "code",
   "execution_count": 3,
   "metadata": {},
   "outputs": [
    {
     "name": "stdout",
     "output_type": "stream",
     "text": [
      "0 (-1.49213, 6.6, 0.09, 0.09, -1.531, 3.5276, 3.986, 9.192, 10.284, 10.319, 8.163, 7.692)\n",
      "1 (-1.49213, 6.6, 0.09, 0.09, -1.531, 3.5276, 3.986, 9.901, 11.247, 11.278, 8.767, 8.215)\n",
      "2 (-1.49213, 6.6, 0.09, 0.09, -1.531, 3.5276, 3.986, 10.58, 12.192, 12.218, 9.358, 8.737)\n",
      "3 (-1.49213, 6.6, 0.09, 0.09, -1.531, 3.5276, 3.986, 11.213, 13.109, 13.13, 9.925, 9.259)\n",
      "4 (-1.49213, 6.6, 0.09, 0.09, -1.531, 3.5276, 3.986, 12.478, 14.944, 14.953, 11.06, 10.303)\n",
      "5 (-1.49213, 6.6, 0.09, 0.09, -1.531, 3.5276, 3.986, 15.318, 19.362, 19.34, 13.698, 12.912)\n",
      "6 (-1.49213, 6.6, 0.09, 0.09, -1.531, 3.5276, 3.986, 20.361, 27.904, 27.83, 18.514, 18.123)\n"
     ]
    }
   ],
   "source": [
    "g_ext = np.zeros(shape=(len(x[0]),len(x)))\n",
    "bp_ext = np.zeros(shape=(len(x[0]),len(x)))\n",
    "bpbr_ext = np.zeros(shape=(len(x[0]),len(x)))\n",
    "rp_ext = np.zeros(shape=(len(x[0]),len(x)))\n",
    "rvs_ext = np.zeros(shape=(len(x[0]),len(x)))\n",
    "for i,item in enumerate(x):\n",
    "    print(i,item[0])\n",
    "    g_ext[:,i] = item[\"gaia_g\"]\n",
    "    bp_ext[:,i] = item[\"gaia_bpft\"]\n",
    "    bpbr_ext[:,i] = item[\"gaia_bpbr\"]\n",
    "    rp_ext[:,i] = item[\"gaia_rp\"]\n",
    "    rvs_ext[:,i] = item[\"gaia_rvs\"]"
   ]
  },
  {
   "cell_type": "code",
   "execution_count": 4,
   "metadata": {
    "collapsed": true
   },
   "outputs": [],
   "source": [
    "# show the extinction law and on which parameters it is dependent\n",
    "g_ext = g_ext - g_ext[:,0,None]\n",
    "rvs_ext = rvs_ext - rvs_ext[:,0,None]\n",
    "bp_ext = bp_ext - bp_ext[:,0,None]\n",
    "rp_ext = rp_ext - rp_ext[:,0,None]\n",
    "bpbr_ext = bpbr_ext - bpbr_ext[:,0,None]"
   ]
  },
  {
   "cell_type": "code",
   "execution_count": 5,
   "metadata": {},
   "outputs": [
    {
     "data": {
      "text/plain": [
       "[<matplotlib.lines.Line2D at 0x7f9f9b703400>]"
      ]
     },
     "execution_count": 5,
     "metadata": {},
     "output_type": "execute_result"
    },
    {
     "data": {
      "image/png": "[encoded data removed]",
      "text/plain": [
       "<Figure size 432x288 with 1 Axes>"
      ]
     },
     "metadata": {},
     "output_type": "display_data"
    }
   ],
   "source": [
    "# We have a problem with a few outliers in extinction\n",
    "cat = x[0]\n",
    "cat = cat.view(np.recarray)\n",
    "plt.plot(cat.log_teff,g_ext[:,-1],'.')\n",
    "# THIS PROBLEM NO LONGER PERSISTS BECAUSE WE DELETED THOSE STARS"
   ]
  },
  {
   "cell_type": "code",
   "execution_count": 6,
   "metadata": {
    "collapsed": true
   },
   "outputs": [],
   "source": [
    "# Cleaning those outliers:\n",
    "\"\"\"\n",
    "exts = [g_ext,rvs_ext,bp_ext,rp_ext,bpbr_ext]\n",
    "cut = []\n",
    "for j,jtem in enumerate(exts):\n",
    "    for i,av in enumerate(avs):\n",
    "        if i == 0:\n",
    "            continue\n",
    "        cut.append(np.where(jtem[:,i]<0))\n",
    "        cut.append(np.where(jtem[:,i]>(av+1)))\n",
    "cut = np.hstack(cut) \n",
    "print(np.unique(cut,return_counts=True))\n",
    "exclude_ids = np.unique(cut)\n",
    "np.save(\"exclude_ids.npy\", exclude_ids)\n",
    "\"\"\"\n",
    "exclude_ids = np.load(\"exclude_ids.npy\")"
   ]
  },
  {
   "cell_type": "code",
   "execution_count": 7,
   "metadata": {},
   "outputs": [
    {
     "data": {
      "text/plain": [
       "'\\nprint(g_ext.shape)\\ng_ext = np.delete(g_ext,exclude_ids, axis = 0)\\nprint(g_ext.shape)\\nbp_ext = np.delete(bp_ext,exclude_ids, axis = 0)\\nbpbr_ext = np.delete(bpbr_ext,exclude_ids, axis = 0)\\nrp_ext = np.delete(rp_ext,exclude_ids, axis = 0)\\nrvs_ext = np.delete(rvs_ext,exclude_ids, axis = 0)\\n\\nfor i in range(len(avs)):\\n    x[i] = np.delete(x[i],exclude_ids)\\ncat = x[0]\\ncat = cat.view(np.recarray)\\n'"
      ]
     },
     "execution_count": 7,
     "metadata": {},
     "output_type": "execute_result"
    }
   ],
   "source": [
    "# Applying the cuts to the catalogs. They indeed eliminate all those outliers.\n",
    "\"\"\"\n",
    "print(g_ext.shape)\n",
    "g_ext = np.delete(g_ext,exclude_ids, axis = 0)\n",
    "print(g_ext.shape)\n",
    "bp_ext = np.delete(bp_ext,exclude_ids, axis = 0)\n",
    "bpbr_ext = np.delete(bpbr_ext,exclude_ids, axis = 0)\n",
    "rp_ext = np.delete(rp_ext,exclude_ids, axis = 0)\n",
    "rvs_ext = np.delete(rvs_ext,exclude_ids, axis = 0)\n",
    "\n",
    "for i in range(len(avs)):\n",
    "    x[i] = np.delete(x[i],exclude_ids)\n",
    "cat = x[0]\n",
    "cat = cat.view(np.recarray)\n",
    "\"\"\""
   ]
  },
  {
   "cell_type": "code",
   "execution_count": 8,
   "metadata": {},
   "outputs": [
    {
     "data": {
      "text/plain": [
       "<matplotlib.legend.Legend at 0x7f9f9b6b5da0>"
      ]
     },
     "execution_count": 8,
     "metadata": {},
     "output_type": "execute_result"
    },
    {
     "data": {
      "image/png": "[encoded data removed]",
      "text/plain": [
       "<Figure size 432x288 with 1 Axes>"
      ]
     },
     "metadata": {},
     "output_type": "display_data"
    }
   ],
   "source": [
    "i = 99999\n",
    "plt.plot(avs,g_ext[i], label = \"G\")\n",
    "plt.plot(avs,rvs_ext[i], label = \"RVS\")\n",
    "plt.plot(avs,bp_ext[i], label = \"BP\")\n",
    "plt.plot(avs,rp_ext[i], label = \"RP\")\n",
    "plt.plot(avs,avs,'k', label = \"1:1\", linestyle = \"--\", alpha = 0.5)\n",
    "plt.xlabel(\"Av\")\n",
    "plt.ylabel(\"extinction\")\n",
    "plt.legend(loc = \"best\")"
   ]
  },
  {
   "cell_type": "code",
   "execution_count": 9,
   "metadata": {},
   "outputs": [
    {
     "data": {
      "text/plain": [
       "<matplotlib.colorbar.Colorbar at 0x7f9f9ad782b0>"
      ]
     },
     "execution_count": 9,
     "metadata": {},
     "output_type": "execute_result"
    },
    {
     "data": {
      "image/png": "[encoded data removed]",
      "text/plain": [
       "<Figure size 1440x720 with 2 Axes>"
      ]
     },
     "metadata": {},
     "output_type": "display_data"
    }
   ],
   "source": [
    "field = 'log_teff'\n",
    "vmin = min(x[0][field])\n",
    "vmax = max(x[0][field])\n",
    "plt.figure(figsize=(20,10))\n",
    "for i in np.random.choice(np.arange(len(x[0])),size = 1000, replace = False):\n",
    "    plt.scatter(avs,g_ext[i],c = 7*[x[0][i][field]],s = 6, vmin = vmin, vmax = vmax, alpha = 1)\n",
    "plt.plot(avs,avs,'k', label = \"1:1\", linestyle = \"--\", alpha = 0.5)\n",
    "plt.xlabel(\"Av\")\n",
    "plt.ylabel(\"extinction\")\n",
    "plt.legend(loc = \"best\")\n",
    "plt.colorbar(label = field)"
   ]
  },
  {
   "cell_type": "code",
   "execution_count": 10,
   "metadata": {},
   "outputs": [],
   "source": [
    "# Cutting the catalog randomly in half for training and validation\n",
    "\n",
    "def train_ext(feature,labels,band_name):\n",
    "    \"\"\"\n",
    "    Training an extinction model from stellar parameters for a specific band\n",
    "    \"\"\"\n",
    "    # creating a subsample on which to train\n",
    "    test = np.random.choice(np.arange(len(feature)),size = int(len(feature)/100), replace = False)\n",
    "    training_feature = feature[test]\n",
    "    training_label = g_ext[test]\n",
    "    # the rest is stored for validation\n",
    "    test_feature = np.delete(feature, test)\n",
    "    test_label = np.delete(g_ext,test, axis = 0)\n",
    "    # prepare input for regression\n",
    "    X = np.vstack((training_feature[\"log_teff\"],training_feature[\"log_grav\"],training_feature[\"meh_ini\"],training_feature[\"log_lum\"])).T\n",
    "    y = training_label#[:,-1]\n",
    "    X_test = np.vstack((test_feature[\"log_teff\"],test_feature[\"log_grav\"],test_feature[\"meh_ini\"],test_feature[\"log_lum\"])).T\n",
    "    y_test = test_label#[:,-1]\n",
    "    # train the model\n",
    "    model = ExtraTreesRegressor(verbose = 1, n_jobs=-1, max_depth=20, criterion = 'mse',n_estimators=10, max_features = 4)\n",
    "    model.fit(X,y)\n",
    "    # validate\n",
    "    y_pred = model.predict(X_test)\n",
    "    print(\"90% of the validation set from Av = 1 has less than: \",np.percentile(np.abs(y_pred[:,1] - y_test[:,1]),90), \"error in Av\")\n",
    "    print(\"model feature importance in the order: teff, logg, metallicity, lum: \",model.feature_importances_)\n",
    "    # Save and reload model\n",
    "    filename = \"ext_model_\" + band_name\n",
    "    pickle.dump(model, open(filename, 'wb'))"
   ]
  },
  {
   "cell_type": "code",
   "execution_count": 11,
   "metadata": {},
   "outputs": [
    {
     "name": "stderr",
     "output_type": "stream",
     "text": [
      "[Parallel(n_jobs=-1)]: Done   6 out of  10 | elapsed:    0.3s remaining:    0.2s\n",
      "[Parallel(n_jobs=-1)]: Done  10 out of  10 | elapsed:    0.4s finished\n",
      "[Parallel(n_jobs=8)]: Done   6 out of  10 | elapsed:    3.7s remaining:    2.4s\n",
      "[Parallel(n_jobs=8)]: Done  10 out of  10 | elapsed:    5.6s finished\n"
     ]
    },
    {
     "name": "stdout",
     "output_type": "stream",
     "text": [
      "90% of the validation set from Av = 1 has less than:  0.0036008272566842247 error in Av\n",
      "model feature importance in the order: teff, logg, metallicity, lum:  [0.41340316 0.46519487 0.04840251 0.07299946]\n"
     ]
    },
    {
     "name": "stderr",
     "output_type": "stream",
     "text": [
      "[Parallel(n_jobs=-1)]: Done   6 out of  10 | elapsed:    0.3s remaining:    0.2s\n",
      "[Parallel(n_jobs=-1)]: Done  10 out of  10 | elapsed:    0.4s finished\n",
      "[Parallel(n_jobs=8)]: Done   6 out of  10 | elapsed:    3.6s remaining:    2.4s\n",
      "[Parallel(n_jobs=8)]: Done  10 out of  10 | elapsed:    5.5s finished\n"
     ]
    },
    {
     "name": "stdout",
     "output_type": "stream",
     "text": [
      "90% of the validation set from Av = 1 has less than:  0.0036889977748109093 error in Av\n",
      "model feature importance in the order: teff, logg, metallicity, lum:  [0.51104007 0.40129229 0.04952683 0.0381408 ]\n"
     ]
    },
    {
     "name": "stderr",
     "output_type": "stream",
     "text": [
      "[Parallel(n_jobs=-1)]: Done   6 out of  10 | elapsed:    0.2s remaining:    0.2s\n",
      "[Parallel(n_jobs=-1)]: Done  10 out of  10 | elapsed:    0.4s finished\n",
      "[Parallel(n_jobs=8)]: Done   6 out of  10 | elapsed:    3.5s remaining:    2.4s\n",
      "[Parallel(n_jobs=8)]: Done  10 out of  10 | elapsed:    5.3s finished\n"
     ]
    },
    {
     "name": "stdout",
     "output_type": "stream",
     "text": [
      "90% of the validation set from Av = 1 has less than:  0.003385136532507538 error in Av\n",
      "model feature importance in the order: teff, logg, metallicity, lum:  [0.4972348  0.42613995 0.04394084 0.03268441]\n"
     ]
    },
    {
     "name": "stderr",
     "output_type": "stream",
     "text": [
      "[Parallel(n_jobs=-1)]: Done   6 out of  10 | elapsed:    0.2s remaining:    0.2s\n",
      "[Parallel(n_jobs=-1)]: Done  10 out of  10 | elapsed:    0.4s finished\n",
      "[Parallel(n_jobs=8)]: Done   6 out of  10 | elapsed:    3.7s remaining:    2.5s\n",
      "[Parallel(n_jobs=8)]: Done  10 out of  10 | elapsed:    5.5s finished\n"
     ]
    },
    {
     "name": "stdout",
     "output_type": "stream",
     "text": [
      "90% of the validation set from Av = 1 has less than:  0.0033450065359477144 error in Av\n",
      "model feature importance in the order: teff, logg, metallicity, lum:  [0.51768024 0.39920754 0.04187826 0.04123395]\n"
     ]
    },
    {
     "name": "stderr",
     "output_type": "stream",
     "text": [
      "[Parallel(n_jobs=-1)]: Done   6 out of  10 | elapsed:    0.2s remaining:    0.2s\n",
      "[Parallel(n_jobs=-1)]: Done  10 out of  10 | elapsed:    0.4s finished\n",
      "[Parallel(n_jobs=8)]: Done   6 out of  10 | elapsed:    3.7s remaining:    2.4s\n",
      "[Parallel(n_jobs=8)]: Done  10 out of  10 | elapsed:    5.3s finished\n"
     ]
    },
    {
     "name": "stdout",
     "output_type": "stream",
     "text": [
      "90% of the validation set from Av = 1 has less than:  0.0033249999999995783 error in Av\n",
      "model feature importance in the order: teff, logg, metallicity, lum:  [0.54573428 0.34094775 0.04401752 0.06930044]\n"
     ]
    }
   ],
   "source": [
    "train_ext(cat,rvs_ext,\"rvs_band\")\n",
    "train_ext(cat,g_ext,\"g_band\")\n",
    "train_ext(cat,bp_ext,\"bpft_band\")\n",
    "train_ext(cat,bpbr_ext,\"bpbr_band\")\n",
    "train_ext(cat,rp_ext,\"rp_band\")"
   ]
  },
  {
   "cell_type": "code",
   "execution_count": 12,
   "metadata": {},
   "outputs": [
    {
     "data": {
      "text/plain": [
       "'\\nmodel = MLPRegressor(hidden_layer_sizes=(100,100,), verbose = 1, activation = \\'tanh\\',\\n                     learning_rate = \\'adaptive\\', tol = 1e-5, max_iter = 50)\\nmodel.fit(X,y)\\ny_pred = model.predict(X_test)\\nprint(np.percentile(np.abs(y_pred[:,1] - y_test[:,1]),95))\\n# Save and reload model\\nfilename = \"ext_model_gaia_g_nn\"\\npickle.dump(model, open(filename, \\'wb\\'))\\n#loaded_model = pickle.load(open(filename, \\'rb\\'))\\n'"
      ]
     },
     "execution_count": 12,
     "metadata": {},
     "output_type": "execute_result"
    }
   ],
   "source": [
    "\"\"\"\n",
    "model = MLPRegressor(hidden_layer_sizes=(100,100,), verbose = 1, activation = 'tanh',\n",
    "                     learning_rate = 'adaptive', tol = 1e-5, max_iter = 50)\n",
    "model.fit(X,y)\n",
    "y_pred = model.predict(X_test)\n",
    "print(np.percentile(np.abs(y_pred[:,1] - y_test[:,1]),95))\n",
    "# Save and reload model\n",
    "filename = \"ext_model_gaia_g_nn\"\n",
    "pickle.dump(model, open(filename, 'wb'))\n",
    "#loaded_model = pickle.load(open(filename, 'rb'))\n",
    "\"\"\""
   ]
  },
  {
   "cell_type": "code",
   "execution_count": 19,
   "metadata": {},
   "outputs": [],
   "source": [
    "# define a function that returns the ext in a band from model, av, and linear or quadratic fitting,\n",
    "def av2ext(band_name,log_teff,log_grav,meh_ini,log_lum,av, av_axis = np.array([0,1,2,3,5,10,20])):\n",
    "    \"\"\"\n",
    "    get extinctions for a specific band for an array of Av,and stellar parameters\n",
    "    INPUT\n",
    "       band_name = specific band (this will load a pre-trained extinction model)\n",
    "       log_teff = teff\n",
    "       log_grav = logg\n",
    "       meh_ini = metallicity\n",
    "       log_lum = luminosity\n",
    "           the above stellar parameters have been used in the trainig\n",
    "       av = av values of the stars\n",
    "       av_axis = model grid of Av values (on these values the extinction model has been trained)\n",
    "    OUTPUT\n",
    "       ext_array are the extinctions in the band for which the model was trained\n",
    "    \"\"\"\n",
    "    from scipy.interpolate import interp1d\n",
    "    # Load the extinction model\n",
    "    filename = \"ext_model_%s_band\" %(band_name)\n",
    "    ext_model = pickle.load(open(filename, 'rb'))\n",
    "    \n",
    "    # prepare the features\n",
    "    X = np.vstack((log_teff,log_grav,meh_ini,log_lum)).T\n",
    "    # predict the extinction grid\n",
    "    prediction = ext_model.predict(X)\n",
    "    #interpolate cubic to a finer grid\n",
    "    x_axis = np.linspace(0,20,41)\n",
    "    f = interp1d(avs,prediction, kind = 'cubic', copy = False, bounds_error=False, fill_value='extrapolate', assume_sorted = True)\n",
    "    result = f(x_axis)\n",
    "    # prepare ext array\n",
    "    ext_array = np.zeros_like(av)\n",
    "    assert(len(ext_array)==len(result)),\"Problem with dimensionality of ext_model input cat and av array\"\n",
    "    # for each star linearly interpolate the av value from the finer grid\n",
    "    for i,item in enumerate(result):\n",
    "        ext_array[i] = np.interp(av[i],x_axis,result[i], left = 0.)\n",
    "    # if av > 20 then extrapolate linearly\n",
    "    cut = (av>20)\n",
    "    ext_array[cut] = ext_array[cut] * (av[cut]/20.)\n",
    "    return(ext_array)"
   ]
  },
  {
   "cell_type": "code",
   "execution_count": 34,
   "metadata": {},
   "outputs": [
    {
     "name": "stderr",
     "output_type": "stream",
     "text": [
      "[Parallel(n_jobs=8)]: Done   6 out of  10 | elapsed:    0.0s remaining:    0.0s\n",
      "[Parallel(n_jobs=8)]: Done  10 out of  10 | elapsed:    0.0s finished\n"
     ]
    },
    {
     "name": "stdout",
     "output_type": "stream",
     "text": [
      "[10.08215801 16.81945013 34.67688968  8.53023001 33.86322642 24.06654956\n",
      " 28.16078411 19.73922703 40.07336631  7.10836086]\n",
      "[ 6.13913947  9.52643981 19.35634892  5.37420862 19.01984551 13.53053073\n",
      " 15.88154498 11.15320647 22.64441405  4.64555588]\n",
      "[ 5.9244531   9.25327254 18.8492206   5.15678895 18.53643384 13.16753126\n",
      " 15.49054332 10.86789454 22.0728109   4.46166101]\n"
     ]
    },
    {
     "name": "stderr",
     "output_type": "stream",
     "text": [
      "[Parallel(n_jobs=8)]: Done   6 out of  10 | elapsed:    0.0s remaining:    0.0s\n",
      "[Parallel(n_jobs=8)]: Done  10 out of  10 | elapsed:    0.0s finished\n"
     ]
    }
   ],
   "source": [
    "# teff, logg, and luminosity are completely covered from the isochrones. \n",
    "# but metallicity is wider in the galaxia catalogue. \n",
    "# But no strong biases to the extinction model occur nor any crazy things are happening even when extrapolating.\n",
    "sample_size = 10\n",
    "av_array = np.random.random_sample(size = sample_size)*41\n",
    "result = av2ext(\"g\",cat[\"log_teff\"][0:sample_size],cat[\"log_grav\"][0:sample_size],cat[\"meh_ini\"][0:sample_size],cat[\"log_lum\"][0:sample_size],av_array)\n",
    "print(av_array)\n",
    "print(result)\n",
    "result = av2ext(\"g\",cat[\"log_teff\"][0:sample_size],cat[\"log_grav\"][0:sample_size],sample_size * [1.5],cat[\"log_lum\"][0:sample_size],av_array)\n",
    "print(result)"
   ]
  },
  {
   "cell_type": "code",
   "execution_count": 32,
   "metadata": {},
   "outputs": [
    {
     "name": "stdout",
     "output_type": "stream",
     "text": [
      "meh_ini [-1.49213 -1.475   -1.45    -1.425   -1.4     -1.375   -1.35    -1.325\n",
      " -1.3     -1.275   -1.25    -1.225   -1.2     -1.175   -1.15    -1.125\n",
      " -1.1     -1.075   -1.05    -1.025   -1.      -0.975   -0.95    -0.925\n",
      " -0.9     -0.875   -0.85    -0.825   -0.8     -0.775   -0.75    -0.725\n",
      " -0.7     -0.675   -0.65    -0.625   -0.6     -0.575   -0.55    -0.525\n",
      " -0.5     -0.475   -0.45    -0.425   -0.4     -0.375   -0.35    -0.325\n",
      " -0.3     -0.275   -0.25    -0.225   -0.2     -0.175   -0.15    -0.125\n",
      " -0.1     -0.075   -0.05    -0.025   -0.       0.025    0.05     0.075\n",
      "  0.1      0.125    0.15     0.175    0.2      0.225    0.25     0.275\n",
      "  0.3      0.325    0.33631]\n",
      "log_age [ 6.6      6.62     6.64     6.66     6.68     6.7      6.72     6.74\n",
      "  6.76     6.78     6.8      6.82     6.84     6.86     6.88     6.9\n",
      "  6.92     6.94     6.96     6.98     7.       7.02     7.04     7.06\n",
      "  7.08     7.1      7.12     7.14     7.16     7.18     7.2      7.22\n",
      "  7.24     7.26     7.28     7.3      7.32     7.34     7.36     7.38\n",
      "  7.4      7.42     7.44     7.46     7.48     7.5      7.52     7.54\n",
      "  7.56     7.58     7.6      7.62     7.64     7.66     7.68     7.7\n",
      "  7.72     7.74     7.76     7.78     7.8      7.82     7.84     7.86\n",
      "  7.88     7.9      7.92     7.94     7.96     7.98     8.       8.02\n",
      "  8.04     8.06     8.08     8.1      8.12     8.14     8.16     8.18\n",
      "  8.2      8.22     8.24     8.26     8.28     8.3      8.32001  8.34001\n",
      "  8.36001  8.38001  8.40001  8.42001  8.44001  8.46001  8.48001  8.50001\n",
      "  8.52001  8.54001  8.56001  8.58001  8.6      8.62     8.64     8.66\n",
      "  8.68     8.7      8.72     8.74     8.76     8.78     8.8      8.82001\n",
      "  8.84001  8.86001  8.88001  8.90001  8.92001  8.94001  8.96001  8.98001\n",
      "  9.00001  9.02001  9.04001  9.06001  9.08001  9.10001  9.12001  9.14001\n",
      "  9.16001  9.18001  9.20001  9.22001  9.24002  9.26002  9.28002  9.30002\n",
      "  9.32002  9.34002  9.36002  9.38002  9.40002  9.42002  9.44002  9.46002\n",
      "  9.48002  9.50002  9.52002  9.54002  9.56002  9.58002  9.60002  9.62002\n",
      "  9.64002  9.66002  9.68003  9.70003  9.72003  9.74003  9.76003  9.78003\n",
      "  9.80003  9.82003  9.84003  9.86003  9.88003  9.90003  9.92003  9.94003\n",
      "  9.96003  9.98003 10.00003 10.02003 10.04003 10.06003 10.08003 10.10003\n",
      " 10.12004]\n",
      "m_ini [ 0.09        0.09        0.09000001 ... 67.57210541 67.5721283\n",
      " 67.59888458]\n",
      "m_act [ 0.09   0.091  0.092 ... 63.753 63.755 63.757]\n",
      "log_lum [-4.604 -4.603 -4.602 ...  6.232  6.237  6.24 ]\n",
      "log_teff [1.666  1.6866 1.6973 ... 5.6826 5.6839 5.6843]\n",
      "log_grav [-7.819 -7.751 -7.674 ...  8.535  8.536  8.537]\n",
      "gaia_g [-10.966 -10.962 -10.941 ... 121.047 125.009 125.129]\n",
      "gaia_bpbr [-10.887 -10.882 -10.86  ... 164.429 169.602 169.755]\n",
      "gaia_bpft [-10.883 -10.877 -10.855 ... 163.133 168.267 168.419]\n",
      "gaia_rp [-11.422 -11.421 -11.42  ... 114.818 118.653 118.769]\n",
      "gaia_rvs [-11.655 -11.653 -11.652 ...  97.008 100.277 100.377]\n"
     ]
    }
   ],
   "source": [
    "import numpy as np\n",
    "for item in cat.dtype.names:\n",
    "    print(item, np.unique(cat[item]))"
   ]
  },
  {
   "cell_type": "code",
   "execution_count": null,
   "metadata": {
    "collapsed": true
   },
   "outputs": [],
   "source": []
  }
 ],
 "metadata": {
  "kernelspec": {
   "display_name": "Python 3",
   "language": "python",
   "name": "python3"
  },
  "language_info": {
   "codemirror_mode": {
    "name": "ipython",
    "version": 3
   },
   "file_extension": ".py",
   "mimetype": "text/x-python",
   "name": "python",
   "nbconvert_exporter": "python",
   "pygments_lexer": "ipython3",
   "version": "3.6.3"
  }
 },
 "nbformat": 4,
 "nbformat_minor": 2
}
