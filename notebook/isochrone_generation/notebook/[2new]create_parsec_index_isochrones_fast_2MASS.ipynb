{
 "cells": [
  {
   "cell_type": "code",
   "execution_count": 1,
   "metadata": {},
   "outputs": [
    {
     "name": "stdout",
     "output_type": "stream",
     "text": [
      "Populating the interactive namespace from numpy and matplotlib\n"
     ]
    }
   ],
   "source": [
    "%pylab inline\n",
    "from numpy.lib.recfunctions import append_fields\n"
   ]
  },
  {
   "cell_type": "code",
   "execution_count": 2,
   "metadata": {},
   "outputs": [
    {
     "name": "stdout",
     "output_type": "stream",
     "text": [
      "8102858 322023\n"
     ]
    }
   ],
   "source": [
    "### Excluding the AGB stars with dust spheres around.\n",
    "x = np.load(\"../data/GDR3/gaiadr3_0ext.npy\")\n",
    "cut = (x['log_lum'] <5.) & (x['log_lum'] >3.) & (x['log_teff'] <3.7) & (x['gaia_g'] > 0.5)\n",
    "print(len(x), len(x[cut]))"
   ]
  },
  {
   "cell_type": "code",
   "execution_count": 3,
   "metadata": {},
   "outputs": [
    {
     "name": "stdout",
     "output_type": "stream",
     "text": [
      "('meh_ini', 'log_age', 'm_ini', 'm_act', 'log_lum', 'log_teff', 'log_grav', 'tmass_j', 'tmass_h', 'tmass_ks')\n"
     ]
    }
   ],
   "source": [
    "x = np.load(\"../data/TMASS/2mass_0ext.npy\")\n",
    "print(x.dtype.names)"
   ]
  },
  {
   "cell_type": "code",
   "execution_count": 4,
   "metadata": {},
   "outputs": [
    {
     "name": "stdout",
     "output_type": "stream",
     "text": [
      "7780835 [('meh_ini', '<f8'), ('log_age', '<f8'), ('m_ini', '<f8'), ('m_act', '<f8'), ('log_lum', '<f8'), ('log_teff', '<f8'), ('log_grav', '<f8'), ('tmass_j', '<f8'), ('tmass_h', '<f8'), ('tmass_ks', '<f8'), ('parsec_index', '<i4')]\n"
     ]
    }
   ],
   "source": [
    "avs = np.array([0,1,2,3,5,10,20])\n",
    "x = []\n",
    "for av in avs:\n",
    "    temp = np.load(\"../data/TMASS/2mass_%dext.npy\" %(av))\n",
    "    # we exclude the AGB dust stars from the averaging\n",
    "    temp = temp[~cut]\n",
    "    temp = append_fields(temp,\"parsec_index\",np.zeros(shape = len(temp),dtype = np.int32),usemask=False)\n",
    "    x.append(temp)\n",
    "print(len(x[0]),x[0].dtype)"
   ]
  },
  {
   "cell_type": "code",
   "execution_count": 5,
   "metadata": {},
   "outputs": [
    {
     "name": "stdout",
     "output_type": "stream",
     "text": [
      "meh_ini [-1.49213 -1.49213 -1.49213 ...  0.33631  0.33631  0.33631] 75\n",
      "log_age [ 6.6      6.6      6.6     ... 10.12004 10.12004 10.12004] 177\n",
      "m_ini [0.09       0.0956148  0.1        ... 5.80000019 5.99999952 6.19999933] 6067091\n",
      "m_act [0.09  0.096 0.1   ... 0.94  0.961 0.962] 53226\n",
      "log_lum [-1.531 -1.502 -1.481 ... -4.601 -4.603 -4.604] 10836\n",
      "log_teff [3.5276 3.5305 3.5326 ... 3.6298 3.6321 3.6319] 25411\n",
      "log_grav [3.986 3.995 4.001 ... 8.484 8.505 8.505] 11069\n",
      "tmass_j [ 6.791  6.727  6.679 ... 14.661 14.671 14.672] 26750\n",
      "tmass_h [ 6.23   6.164  6.114 ... 14.077 14.089 14.09 ] 26609\n",
      "tmass_ks [ 6.019  5.953  5.903 ... 13.931 13.945 13.946] 26531\n",
      "parsec_index [0 0 0 ... 0 0 0] 1\n"
     ]
    }
   ],
   "source": [
    "for name in x[0].dtype.names:\n",
    "    print(name,x[0][name],len(np.unique(x[0][name])))"
   ]
  },
  {
   "cell_type": "code",
   "execution_count": 6,
   "metadata": {},
   "outputs": [
    {
     "name": "stdout",
     "output_type": "stream",
     "text": [
      "teff values in parsec\n",
      "teff min max value:  -1.49213 0.33631\n",
      "teff min max index:  0 36\n",
      "dimension cut into 36 pieces\n",
      "teff values in parsec\n",
      "teff min max value:  2.4484 5.6843\n",
      "teff min max index:  122 284\n",
      "dimension cut into 162 pieces\n",
      "lum values in parsec\n",
      "lum min max value:  -4.604 6.24\n",
      "lum min max index:  7 224\n",
      "dimension cut into 217 pieces\n"
     ]
    }
   ],
   "source": [
    "def return_index_feh(feh):\n",
    "        dfeh = 0.05\n",
    "        offset = 1.5\n",
    "        return(int((feh+offset)/dfeh))\n",
    "min_value = min(x[0]['meh_ini'])\n",
    "max_value = max(x[0]['meh_ini'])\n",
    "min_index_feh = return_index_feh(min_value)\n",
    "max_index_feh = return_index_feh(max_value)\n",
    "stretch = max_index_feh - min_index_feh\n",
    "print('teff values in parsec')\n",
    "print('teff min max value: ', min_value, max_value )\n",
    "print('teff min max index: ', min_index_feh, max_index_feh)\n",
    "print('dimension cut into %d pieces' %(stretch))\n",
    "\n",
    "def return_index_teff(teff):\n",
    "        dteff = 0.02\n",
    "        return(int(teff/dteff))\n",
    "min_value = min(x[0]['log_teff'])\n",
    "max_value = max(x[0]['log_teff'])\n",
    "min_index_teff = return_index_teff(min_value)\n",
    "max_index_teff = return_index_teff(max_value)\n",
    "stretch = max_index_teff - min_index_teff\n",
    "print('teff values in parsec')\n",
    "print('teff min max value: ', min_value, max_value )\n",
    "print('teff min max index: ', min_index_teff, max_index_teff)\n",
    "print('dimension cut into %d pieces' %(stretch))\n",
    "\n",
    "def return_index_lum(lum):\n",
    "        dlum = 0.05\n",
    "        offset = 5.\n",
    "        return(int((lum+offset)/dlum))\n",
    "\n",
    "min_value = min(x[0]['log_lum'])\n",
    "max_value = max(x[0]['log_lum'])\n",
    "min_index_lum = return_index_lum(min_value)\n",
    "max_index_lum = return_index_lum(max_value)\n",
    "stretch = max_index_lum - min_index_lum\n",
    "print('lum values in parsec')\n",
    "print('lum min max value: ', min_value, max_value )\n",
    "print('lum min max index: ', min_index_lum, max_index_lum )\n",
    "print('dimension cut into %d pieces' %(stretch))\n",
    "\n",
    "def return_index(feh,teff,lum):\n",
    "        \"\"\"\n",
    "        feh given in dex\n",
    "        teff given in log teff\n",
    "        lum given in log lum\n",
    "        \"\"\"\n",
    "        index_feh = return_index_feh(feh)\n",
    "        if index_feh < min_index_feh:\n",
    "            index_feh = min_index_feh\n",
    "        elif index_feh > max_index_feh:\n",
    "            index_feh = max_index_feh\n",
    "\n",
    "        index_teff = return_index_teff(teff)\n",
    "        if index_teff < min_index_teff:\n",
    "            index_teff = min_index_teff\n",
    "        elif index_teff > max_index_teff:\n",
    "            index_teff = max_index_teff\n",
    "        index_teff *= 1000\n",
    "\n",
    "        index_lum = return_index_lum(lum)\n",
    "        if index_lum > max_index_lum:\n",
    "            index_lum = max_index_lum\n",
    "        elif index_lum < min_index_lum:\n",
    "            index_lum = min_index_lum\n",
    "        index_lum *= 1000 * 1000\n",
    "        assert(index_feh >= 0)\n",
    "        assert(index_teff >= 0)\n",
    "        assert(index_lum >= 0)\n",
    "        return (index_feh + index_teff + index_lum)"
   ]
  },
  {
   "cell_type": "code",
   "execution_count": 7,
   "metadata": {},
   "outputs": [
    {
     "name": "stdout",
     "output_type": "stream",
     "text": [
      "indexing isochrones\n"
     ]
    }
   ],
   "source": [
    "print('indexing isochrones')\n",
    "for i in range(len(x[0])):\n",
    "    x[0][\"parsec_index\"][i] = return_index(x[0][\"meh_ini\"][i],x[0][\"log_teff\"][i],x[0][\"log_lum\"][i])"
   ]
  },
  {
   "cell_type": "code",
   "execution_count": 8,
   "metadata": {
    "collapsed": true
   },
   "outputs": [],
   "source": [
    "# All need to be sorted by parsec_index\n",
    "sort_ind = np.argsort(x[0]['parsec_index'], kind = 'mergesort')\n",
    "for i in range(len(avs)):\n",
    "    x[i] = x[i][sort_ind]"
   ]
  },
  {
   "cell_type": "code",
   "execution_count": 9,
   "metadata": {},
   "outputs": [
    {
     "name": "stdout",
     "output_type": "stream",
     "text": [
      "0 (-0.625, 10.12004, 5.1476984, 0.979, -4.601, 3.6351, 8.522, 14.711, 14.169, 14.023, 7181017)\n",
      "1 (-0.625, 10.12004, 5.1476984, 0.979, -4.601, 3.6351, 8.522, 15., 14.352, 14.141, 0)\n",
      "2 (-0.625, 10.12004, 5.1476984, 0.979, -4.601, 3.6351, 8.522, 15.289, 14.534, 14.258, 0)\n",
      "3 (-0.625, 10.12004, 5.1476984, 0.979, -4.601, 3.6351, 8.522, 15.576, 14.716, 14.376, 0)\n",
      "4 (-0.625, 10.12004, 5.1476984, 0.979, -4.601, 3.6351, 8.522, 16.15, 15.08, 14.611, 0)\n",
      "5 (-0.625, 10.12004, 5.1476984, 0.979, -4.601, 3.6351, 8.522, 17.575, 15.986, 15.199, 0)\n",
      "6 (-0.625, 10.12004, 5.1476984, 0.979, -4.601, 3.6351, 8.522, 20.386, 17.786, 16.369, 0)\n"
     ]
    }
   ],
   "source": [
    "j_ext = np.zeros(shape=(len(x[0]),len(x)))\n",
    "h_ext = np.zeros(shape=(len(x[0]),len(x)))\n",
    "ks_ext = np.zeros(shape=(len(x[0]),len(x)))\n",
    "for i,item in enumerate(x):\n",
    "    print(i,item[0])\n",
    "    j_ext[:,i] = item[\"tmass_j\"]\n",
    "    h_ext[:,i] = item[\"tmass_h\"]\n",
    "    ks_ext[:,i] = item[\"tmass_ks\"]"
   ]
  },
  {
   "cell_type": "code",
   "execution_count": 10,
   "metadata": {
    "collapsed": true
   },
   "outputs": [],
   "source": [
    "# show the extinction law and on which parameters it is dependent\n",
    "j_ext = j_ext - j_ext[:,0,None]\n",
    "h_ext = h_ext - h_ext[:,0,None]\n",
    "ks_ext = ks_ext - ks_ext[:,0,None]\n"
   ]
  },
  {
   "cell_type": "code",
   "execution_count": 11,
   "metadata": {
    "collapsed": true
   },
   "outputs": [],
   "source": [
    "ext = np.zeros(shape = (len(np.unique(x[0][\"parsec_index\"])),3,6),dtype = np.float32)\n",
    "ext_std = np.zeros_like(ext)\n",
    "parsec = np.zeros(shape =  (len(np.unique(x[0][\"parsec_index\"]))),dtype = x[0].dtype)\n",
    "parsec_std = np.zeros(shape =  (len(np.unique(x[0][\"parsec_index\"]))),dtype = x[0].dtype)"
   ]
  },
  {
   "cell_type": "code",
   "execution_count": 12,
   "metadata": {
    "collapsed": true
   },
   "outputs": [],
   "source": [
    "parsec[\"parsec_index\"] = np.unique(x[0][\"parsec_index\"])\n",
    "parsec_std[\"parsec_index\"] = np.unique(x[0][\"parsec_index\"])"
   ]
  },
  {
   "cell_type": "code",
   "execution_count": 13,
   "metadata": {},
   "outputs": [
    {
     "name": "stdout",
     "output_type": "stream",
     "text": [
      "[      0       1       4 ... 7780833 7780834 7780835]\n",
      "0 243239\n",
      "10000 243239\n",
      "20000 243239\n",
      "30000 243239\n",
      "40000 243239\n",
      "50000 243239\n",
      "60000 243239\n",
      "70000 243239\n",
      "80000 243239\n",
      "90000 243239\n",
      "100000 243239\n",
      "110000 243239\n",
      "120000 243239\n",
      "130000 243239\n",
      "140000 243239\n",
      "150000 243239\n",
      "160000 243239\n",
      "170000 243239\n",
      "180000 243239\n",
      "190000 243239\n",
      "200000 243239\n",
      "210000 243239\n",
      "220000 243239\n",
      "230000 243239\n",
      "240000 243239\n"
     ]
    }
   ],
   "source": [
    "indexing = np.hstack((0,np.searchsorted(x[0]['parsec_index'],parsec['parsec_index'], side='right')))\n",
    "print(indexing)\n",
    "for i in range(len(indexing)-1):\n",
    "    if i%10000==0:\n",
    "        print(i, len(indexing))\n",
    "    lower = indexing[i]\n",
    "    upper = indexing[i+1]\n",
    "    #parsec['parsec_index'][i]\n",
    "    #x[0]['parsec_index'][lower:upper]\n",
    "    temp = x[0][lower:upper]\n",
    "    j_temp = j_ext[lower:upper]\n",
    "    h_temp = h_ext[lower:upper]\n",
    "    ks_temp = ks_ext[lower:upper]\n",
    "    for jtem in parsec.dtype.names:\n",
    "        if jtem == \"parsec_index\":\n",
    "            assert(parsec[\"parsec_index\"][i] == temp[\"parsec_index\"][0])\n",
    "        else:\n",
    "            parsec[jtem][i] = np.median(temp[jtem])\n",
    "            parsec_std[jtem][i] = np.std(temp[jtem])\n",
    "    for t in np.arange(6):\n",
    "        ext[i,0,t] = np.median(j_temp[:,t+1])\n",
    "        ext[i,1,t] = np.median(h_temp[:,t+1])\n",
    "        ext[i,2,t] = np.median(ks_temp[:,t+1])\n",
    "        \n",
    "        ext_std[i,0,t] = np.std(j_temp[:,t+1])\n",
    "        ext_std[i,1,t] = np.std(h_temp[:,t+1])\n",
    "        ext_std[i,2,t] = np.std(ks_temp[:,t+1])\n"
   ]
  },
  {
   "cell_type": "code",
   "execution_count": 14,
   "metadata": {
    "collapsed": true
   },
   "outputs": [],
   "source": [
    "np.save('ext_2mass.npy',ext)\n",
    "np.save('ext_std_2mass.npy', ext_std)\n",
    "np.save('parsec_2mass.npy', parsec)\n",
    "np.save('parsec_std_2mass.npy', parsec_std)"
   ]
  },
  {
   "cell_type": "code",
   "execution_count": 15,
   "metadata": {
    "collapsed": true
   },
   "outputs": [],
   "source": [
    "# check that the stds are small and also that Galaxia falls onto those parsec indexes."
   ]
  }
 ],
 "metadata": {
  "kernelspec": {
   "display_name": "Python 3",
   "language": "python",
   "name": "python3"
  },
  "language_info": {
   "codemirror_mode": {
    "name": "ipython",
    "version": 3
   },
   "file_extension": ".py",
   "mimetype": "text/x-python",
   "name": "python",
   "nbconvert_exporter": "python",
   "pygments_lexer": "ipython3",
   "version": "3.6.3"
  }
 },
 "nbformat": 4,
 "nbformat_minor": 2
}
