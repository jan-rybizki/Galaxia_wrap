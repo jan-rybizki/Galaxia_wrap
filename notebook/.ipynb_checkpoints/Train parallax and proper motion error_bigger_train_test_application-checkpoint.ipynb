{
 "cells": [
  {
   "cell_type": "code",
   "execution_count": 1,
   "metadata": {},
   "outputs": [
    {
     "name": "stdout",
     "output_type": "stream",
     "text": [
      "Populating the interactive namespace from numpy and matplotlib\n"
     ]
    },
    {
     "name": "stderr",
     "output_type": "stream",
     "text": [
      "/home/rybizki/anaconda3/lib/python3.6/importlib/_bootstrap.py:219: RuntimeWarning: numpy.dtype size changed, may indicate binary incompatibility. Expected 96, got 88\n",
      "  return f(*args, **kwds)\n",
      "/home/rybizki/anaconda3/lib/python3.6/importlib/_bootstrap.py:219: RuntimeWarning: numpy.dtype size changed, may indicate binary incompatibility. Expected 96, got 88\n",
      "  return f(*args, **kwds)\n",
      "/home/rybizki/anaconda3/lib/python3.6/site-packages/sklearn/ensemble/weight_boosting.py:29: DeprecationWarning: numpy.core.umath_tests is an internal NumPy module and should not be imported. It will be removed in a future NumPy release.\n",
      "  from numpy.core.umath_tests import inner1d\n"
     ]
    }
   ],
   "source": [
    "%pylab inline\n",
    "from astropy.io import fits\n",
    "from sklearn.ensemble import ExtraTreesRegressor\n",
    "import pickle"
   ]
  },
  {
   "cell_type": "code",
   "execution_count": 2,
   "metadata": {
    "collapsed": true
   },
   "outputs": [],
   "source": [
    "gdr2val = fits.getdata('../output/GDR2_207/GDR2_207_cleaned_0.0025sampling_validation.fits')"
   ]
  },
  {
   "cell_type": "code",
   "execution_count": 3,
   "metadata": {},
   "outputs": [
    {
     "name": "stdout",
     "output_type": "stream",
     "text": [
      "3134770\n",
      "2925796\n",
      "('solution_id', 'designation', 'source_id', 'random_index', 'ref_epoch', 'ra', 'ra_error', 'dec', 'dec_error', 'parallax', 'parallax_error', 'parallax_over_error', 'pmra', 'pmra_error', 'pmdec', 'pmdec_error', 'ra_dec_corr', 'ra_parallax_corr', 'ra_pmra_corr', 'ra_pmdec_corr', 'dec_parallax_corr', 'dec_pmra_corr', 'dec_pmdec_corr', 'parallax_pmra_corr', 'parallax_pmdec_corr', 'pmra_pmdec_corr', 'astrometric_n_obs_al', 'astrometric_n_obs_ac', 'astrometric_n_good_obs_al', 'astrometric_n_bad_obs_al', 'astrometric_gof_al', 'astrometric_chi2_al', 'astrometric_excess_noise', 'astrometric_excess_noise_sig', 'astrometric_params_solved', 'astrometric_primary_flag', 'astrometric_weight_al', 'astrometric_pseudo_colour', 'astrometric_pseudo_colour_error', 'mean_varpi_factor_al', 'astrometric_matched_observations', 'visibility_periods_used', 'astrometric_sigma5d_max', 'frame_rotator_object_type', 'matched_observations', 'duplicated_source', 'phot_g_n_obs', 'phot_g_mean_flux', 'phot_g_mean_flux_error', 'phot_g_mean_flux_over_error', 'phot_g_mean_mag', 'phot_bp_n_obs', 'phot_bp_mean_flux', 'phot_bp_mean_flux_error', 'phot_bp_mean_flux_over_error', 'phot_bp_mean_mag', 'phot_rp_n_obs', 'phot_rp_mean_flux', 'phot_rp_mean_flux_error', 'phot_rp_mean_flux_over_error', 'phot_rp_mean_mag', 'phot_bp_rp_excess_factor', 'phot_proc_mode', 'bp_rp', 'bp_g', 'g_rp', 'radial_velocity', 'radial_velocity_error', 'rv_nb_transits', 'rv_template_teff', 'rv_template_logg', 'rv_template_fe_h', 'phot_variable_flag', 'l', 'b', 'ecl_lon', 'ecl_lat', 'priam_flags', 'teff_val', 'teff_percentile_lower', 'teff_percentile_upper', 'a_g_val', 'a_g_percentile_lower', 'a_g_percentile_upper', 'e_bp_min_rp_val', 'e_bp_min_rp_percentile_lower', 'e_bp_min_rp_percentile_upper', 'flame_flags', 'radius_val', 'radius_percentile_lower', 'radius_percentile_upper', 'lum_val', 'lum_percentile_lower', 'lum_percentile_upper', 'datalink_url', 'epoch_photometry_url')\n"
     ]
    }
   ],
   "source": [
    "gdr2 = fits.getdata(\"../output/GDR2_207/GDR2_207_cleaned_0.0025sampling.fits\")\n",
    "# cleaning nan parallax errors\n",
    "pe = gdr2.parallax_error\n",
    "clean = ~np.isnan(pe)\n",
    "print(len(gdr2))\n",
    "gdr2 = gdr2[clean]\n",
    "print(len(gdr2))\n",
    "print(gdr2.dtype.names)"
   ]
  },
  {
   "cell_type": "code",
   "execution_count": 4,
   "metadata": {
    "collapsed": true
   },
   "outputs": [],
   "source": [
    "def gmagerror(flux,fluxerror):\n",
    "    \"\"\"\n",
    "    calculates the symmetric gmag error from fluxes, only good approximation for low values\n",
    "    \"\"\"\n",
    "    def flux2mag(f):\n",
    "        return(-2.5*np.log10(f)+25.688365)\n",
    "    gp = flux2mag(flux + fluxerror)\n",
    "    gm = flux2mag(flux - fluxerror)\n",
    "    return(np.divide(gm-gp,2))"
   ]
  },
  {
   "cell_type": "code",
   "execution_count": 6,
   "metadata": {},
   "outputs": [],
   "source": [
    "# training vpu and gnobs on l and b\n",
    "\n",
    "g = gdr2.phot_g_mean_mag\n",
    "bprp = gdr2.phot_bp_mean_mag - gdr2.phot_rp_mean_mag\n",
    "l = gdr2.l#gdr2.ecl_lon#gdr2.l\n",
    "b = gdr2.b#gdr2.ecl_lat#np.abs(np.sin(np.divide(gdr2.ecl_lat,np.pi/180.)))#gdr2.b\n",
    "pe = gdr2.parallax_error\n",
    "vp = gdr2.visibility_periods_used\n",
    "gn = gdr2.phot_g_n_obs\n",
    "f = gdr2.phot_g_mean_flux\n",
    "fe = gdr2.phot_g_mean_flux_error\n",
    "ge = gmagerror(f,fe)\n",
    "#rve = gdr2.radial_velocity_error\n",
    "X = np.vstack((l,b)).T\n",
    "y = np.vstack((vp,gn)).T\n",
    "\n",
    "\n",
    "filename = \"errors/lb2vpunobs_model_bigger\"\n",
    "model = pickle.load(open(filename,'rb'))\n",
    "y_pred = model.predict(X)"
   ]
  },
  {
   "cell_type": "code",
   "execution_count": 10,
   "metadata": {},
   "outputs": [
    {
     "data": {
      "text/plain": [
       "array([ 8., 10., 10., ..., 18., 16., 17.])"
      ]
     },
     "execution_count": 10,
     "metadata": {},
     "output_type": "execute_result"
    }
   ],
   "source": [
    "np.round(y_pred[:,0])"
   ]
  },
  {
   "cell_type": "code",
   "execution_count": 8,
   "metadata": {},
   "outputs": [
    {
     "data": {
      "text/plain": [
       "array([[  8,  95],\n",
       "       [ 10, 140],\n",
       "       [ 10, 112],\n",
       "       ...,\n",
       "       [ 18, 317],\n",
       "       [ 18, 260],\n",
       "       [ 18, 744]], dtype=int32)"
      ]
     },
     "execution_count": 8,
     "metadata": {},
     "output_type": "execute_result"
    }
   ],
   "source": [
    "y"
   ]
  },
  {
   "cell_type": "code",
   "execution_count": null,
   "metadata": {
    "collapsed": true
   },
   "outputs": [],
   "source": [
    "break"
   ]
  },
  {
   "cell_type": "code",
   "execution_count": 8,
   "metadata": {},
   "outputs": [
    {
     "name": "stderr",
     "output_type": "stream",
     "text": [
      "/home/rybizki/anaconda3/lib/python3.6/site-packages/sklearn/ensemble/forest.py:724: UserWarning: Some inputs do not have OOB scores. This probably means too few trees were used to compute any reliable oob estimates.\n",
      "  warn(\"Some inputs do not have OOB scores. \"\n"
     ]
    }
   ],
   "source": [
    "# training parallax_error and gmagnitude error on vpu, gnobs, g, bp-rp\n",
    "g = gdr2.phot_g_mean_mag\n",
    "bprp = gdr2.phot_bp_mean_mag - gdr2.phot_rp_mean_mag\n",
    "l = gdr2.ecl_lon#gdr2.l\n",
    "b = gdr2.ecl_lat#np.abs(np.sin(np.divide(gdr2.ecl_lat,np.pi/180.)))#gdr2.b\n",
    "pe = gdr2.parallax_error\n",
    "vp = gdr2.visibility_periods_used\n",
    "gn = gdr2.phot_g_n_obs\n",
    "f = gdr2.phot_g_mean_flux\n",
    "fe = gdr2.phot_g_mean_flux_error\n",
    "ge = gmagerror(f,fe)\n",
    "#rve = gdr2.radial_velocity_error\n",
    "X = np.vstack((g,bprp,vp,gn)).T\n",
    "y = np.vstack((pe,ge)).T\n",
    "model = ExtraTreesRegressor(n_estimators=10, criterion='mse', max_depth=None,\n",
    "                            min_samples_split=5, min_samples_leaf=1, \n",
    "                            min_weight_fraction_leaf=0.0, max_features='auto', \n",
    "                            max_leaf_nodes=None, min_impurity_decrease=0.0, \n",
    "                            min_impurity_split=None, bootstrap=True, oob_score=True,\n",
    "                            n_jobs=1, random_state=None, verbose=0, warm_start=False)\n",
    "model.fit(X,y)\n",
    "filename = \"gbprpvpunobs2pege_model_bigger\"\n",
    "pickle.dump(model,open(filename,'wb'))"
   ]
  },
  {
   "cell_type": "code",
   "execution_count": 9,
   "metadata": {},
   "outputs": [
    {
     "name": "stderr",
     "output_type": "stream",
     "text": [
      "/home/rybizki/anaconda3/lib/python3.6/site-packages/sklearn/ensemble/forest.py:724: UserWarning: Some inputs do not have OOB scores. This probably means too few trees were used to compute any reliable oob estimates.\n",
      "  warn(\"Some inputs do not have OOB scores. \"\n"
     ]
    }
   ],
   "source": [
    "# radial_velocity_error on g, bp-rp, teff\n",
    "gdr2 = fits.getdata('../output/GDR2_207/GDR2_207_rvs_error_training.fits')\n",
    "g = gdr2.phot_g_mean_mag\n",
    "bprp = gdr2.phot_bp_mean_mag - gdr2.phot_rp_mean_mag\n",
    "te = gdr2.teff_val\n",
    "rve = gdr2.radial_velocity_error\n",
    "#rve = gdr2.radial_velocity_error\n",
    "X = np.vstack((g,bprp,te)).T\n",
    "y = rve\n",
    "model = ExtraTreesRegressor(n_estimators=10, criterion='mse', max_depth=None,\n",
    "                            min_samples_split=5, min_samples_leaf=1, \n",
    "                            min_weight_fraction_leaf=0.0, max_features='auto', \n",
    "                            max_leaf_nodes=None, min_impurity_decrease=0.0, \n",
    "                            min_impurity_split=None, bootstrap=True, oob_score=True,\n",
    "                            n_jobs=1, random_state=None, verbose=0, warm_start=False)\n",
    "model.fit(X,y)\n",
    "filename = \"gbprpteff2rvse_model\"\n",
    "pickle.dump(model,open(filename,'wb'))"
   ]
  },
  {
   "cell_type": "code",
   "execution_count": 16,
   "metadata": {},
   "outputs": [
    {
     "data": {
      "text/plain": [
       "0.8043996665398437"
      ]
     },
     "execution_count": 16,
     "metadata": {},
     "output_type": "execute_result"
    }
   ],
   "source": [
    "np.sqrt(22/34)"
   ]
  },
  {
   "cell_type": "code",
   "execution_count": 15,
   "metadata": {},
   "outputs": [
    {
     "data": {
      "text/plain": [
       "1.5454545454545454"
      ]
     },
     "execution_count": 15,
     "metadata": {},
     "output_type": "execute_result"
    }
   ],
   "source": [
    "34/22"
   ]
  },
  {
   "cell_type": "code",
   "execution_count": null,
   "metadata": {
    "collapsed": true
   },
   "outputs": [],
   "source": [
    "g = gdr2.phot_bp_mean_mag\n",
    "f = gdr2.phot_bp_mean_flux\n",
    "fe = gdr2.phot_bp_mean_flux_error\n",
    "t = -2.5*np.log10(f)\n",
    "print(t)\n",
    "print(g)\n",
    "print(t-g)\n",
    "def flux2mag(flux):\n",
    "    return(-2.5*np.log10(flux)+25.351388)\n",
    "gp = flux2mag(f + fe)\n",
    "gm = flux2mag(f - fe)\n",
    "d1 = gp-g\n",
    "d2 = g-gm\n",
    "# assymetry in magnitude error\n",
    "plt.plot(d1,d2,'.', alpha = 0.1)\n",
    "plt.plot([-0.14,0],[-0.14,0])\n",
    "plt.xlim((-0.03,0.0))\n",
    "plt.ylim((-0.03,0.0))\n",
    "bpme = np.divide(gm-gp,2)"
   ]
  },
  {
   "cell_type": "code",
   "execution_count": null,
   "metadata": {
    "collapsed": true
   },
   "outputs": [],
   "source": [
    "g = gdr2.phot_rp_mean_mag\n",
    "f = gdr2.phot_rp_mean_flux\n",
    "fe = gdr2.phot_rp_mean_flux_error\n",
    "t = -2.5*np.log10(f)\n",
    "print(t)\n",
    "print(g)\n",
    "print(t-g)\n",
    "def flux2mag(flux):\n",
    "    return(-2.5*np.log10(flux)+24.7619)\n",
    "gp = flux2mag(f + fe)\n",
    "gm = flux2mag(f - fe)\n",
    "d1 = gp-g\n",
    "d2 = g-gm\n",
    "# assymetry in magnitude error\n",
    "plt.plot(d1,d2,'.', alpha = 0.1)\n",
    "plt.plot([-0.14,0],[-0.14,0])\n",
    "plt.xlim((-0.03,0.0))\n",
    "plt.ylim((-0.03,0.0))\n",
    "rpme = np.divide(gm-gp,2)"
   ]
  },
  {
   "cell_type": "code",
   "execution_count": null,
   "metadata": {
    "collapsed": true
   },
   "outputs": [],
   "source": [
    "plt.plot(rpme,g,',', alpha = 0.1)\n",
    "plt.yscale('log')\n",
    "plt.xscale('log')"
   ]
  },
  {
   "cell_type": "code",
   "execution_count": null,
   "metadata": {
    "collapsed": true
   },
   "outputs": [],
   "source": [
    "nobs = np.genfromtxt('errors/nobs.txt', names = True)\n",
    "scaling_factor_dr2 = 0.37\n",
    "number_obs = np.round(scaling_factor_dr2*np.interp(np.abs(np.sin(gdr2.ecl_lat)),nobs['sinbeta'],nobs['N_obs']))\n",
    "plt.plot(number_obs,gdr2.phot_g_n_obs,'.',alpha = 0.01)\n",
    "plt.plot([6,22],[6,22],)\n",
    "plt.xlabel('_real')\n",
    "plt.ylabel('_predicted')\n",
    "plt.yscale(\"log\")\n",
    "plt.xscale(\"log\")\n",
    "plt.show()\n",
    "plt.close()"
   ]
  }
 ],
 "metadata": {
  "kernelspec": {
   "display_name": "Python 3",
   "language": "python",
   "name": "python3"
  },
  "language_info": {
   "codemirror_mode": {
    "name": "ipython",
    "version": 3
   },
   "file_extension": ".py",
   "mimetype": "text/x-python",
   "name": "python",
   "nbconvert_exporter": "python",
   "pygments_lexer": "ipython3",
   "version": "3.6.3"
  }
 },
 "nbformat": 4,
 "nbformat_minor": 2
}
