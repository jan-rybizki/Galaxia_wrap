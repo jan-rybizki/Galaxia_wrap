{
 "cells": [
  {
   "cell_type": "code",
   "execution_count": 1,
   "metadata": {
    "collapsed": true
   },
   "outputs": [],
   "source": [
    "import numpy as np\n",
    "from astropy.io import fits\n",
    "import os, sys\n",
    "path = os.path.abspath('../library/')\n",
    "if path not in sys.path:\n",
    "    sys.path.append(path)\n",
    "from cumhpx import delete_sources_below_maglim, do_likelihood, delete_magellanic_clouds"
   ]
  },
  {
   "cell_type": "code",
   "execution_count": 2,
   "metadata": {
    "collapsed": true
   },
   "outputs": [],
   "source": [
    "#x = fits.getdata(\"../output/GDR2_207/GDR2_207_0.0025sampling.fits\")\n",
    "#x = delete_magellanic_clouds(x, True)"
   ]
  },
  {
   "cell_type": "code",
   "execution_count": 3,
   "metadata": {},
   "outputs": [
    {
     "name": "stdout",
     "output_type": "stream",
     "text": [
      "GDR2mock\n",
      "nstar before cleaning: 656194\n",
      "nstar after g-band cleaning: 528789\n",
      "nstar before cleaning: 528789\n",
      "nstar after rp-band cleaning: 388166\n",
      "388166\n",
      "after smc cut: 388034\n",
      "after lmc cut: 387241\n",
      "GDR2\n",
      "nstar before cleaning: 313477\n",
      "nstar after g-band cleaning: 276803\n",
      "nstar before cleaning: 276803\n",
      "nstar after rp-band cleaning: 233013\n",
      "233013\n",
      "after smc cut: 232668\n",
      "after lmc cut: 230225\n"
     ]
    },
    {
     "ename": "AssertionError",
     "evalue": "more cumhpx for single hpx, cumhppointer_len = 0",
     "output_type": "error",
     "traceback": [
      "\u001b[0;31m---------------------------------------------------------------------------\u001b[0m",
      "\u001b[0;31mAssertionError\u001b[0m                            Traceback (most recent call last)",
      "\u001b[0;32m<ipython-input-3-6401e0481c46>\u001b[0m in \u001b[0;36m<module>\u001b[0;34m()\u001b[0m\n\u001b[1;32m      1\u001b[0m \u001b[0moutputDir\u001b[0m \u001b[0;34m=\u001b[0m \u001b[0;34m'../output/mockcat_new_SFR_new_more_thick_0.00025_sampling_new_model_maglim'\u001b[0m\u001b[0;34m\u001b[0m\u001b[0m\n\u001b[1;32m      2\u001b[0m \u001b[0mfSample\u001b[0m \u001b[0;34m=\u001b[0m \u001b[0;36m0.00025\u001b[0m\u001b[0;34m\u001b[0m\u001b[0m\n\u001b[0;32m----> 3\u001b[0;31m \u001b[0mdo_likelihood\u001b[0m\u001b[0;34m(\u001b[0m\u001b[0moutputDir\u001b[0m\u001b[0;34m,\u001b[0m\u001b[0mfSample\u001b[0m\u001b[0;34m=\u001b[0m \u001b[0mfSample\u001b[0m\u001b[0;34m)\u001b[0m\u001b[0;34m\u001b[0m\u001b[0m\n\u001b[0m",
      "\u001b[0;32m~/Desktop/Galaxia_wrap-master/library/cumhpx.py\u001b[0m in \u001b[0;36mdo_likelihood\u001b[0;34m(outputDir, outputFile, fSample)\u001b[0m\n\u001b[1;32m    353\u001b[0m     \u001b[0mx\u001b[0m \u001b[0;34m=\u001b[0m \u001b[0mdelete_magellanic_clouds\u001b[0m\u001b[0;34m(\u001b[0m\u001b[0mx\u001b[0m\u001b[0;34m)\u001b[0m\u001b[0;34m\u001b[0m\u001b[0m\n\u001b[1;32m    354\u001b[0m     \u001b[0mprint\u001b[0m\u001b[0;34m(\u001b[0m\u001b[0;34m'GDR2'\u001b[0m\u001b[0;34m)\u001b[0m\u001b[0;34m\u001b[0m\u001b[0m\n\u001b[0;32m--> 355\u001b[0;31m     \u001b[0mcumhpx_like\u001b[0m\u001b[0;34m,\u001b[0m\u001b[0mhpx_like\u001b[0m\u001b[0;34m,\u001b[0m\u001b[0mhpx_dens\u001b[0m\u001b[0;34m,\u001b[0m\u001b[0mlengdr2data\u001b[0m \u001b[0;34m=\u001b[0m \u001b[0mlikelihood_assessment\u001b[0m\u001b[0;34m(\u001b[0m\u001b[0mx\u001b[0m\u001b[0;34m,\u001b[0m\u001b[0mfSample\u001b[0m\u001b[0;34m)\u001b[0m\u001b[0;34m\u001b[0m\u001b[0m\n\u001b[0m\u001b[1;32m    356\u001b[0m     \u001b[0mprint\u001b[0m\u001b[0;34m(\u001b[0m\u001b[0mlen\u001b[0m\u001b[0;34m(\u001b[0m\u001b[0mx\u001b[0m\u001b[0;34m)\u001b[0m\u001b[0;34m,\u001b[0m\u001b[0mlengdr2data\u001b[0m\u001b[0;34m)\u001b[0m\u001b[0;34m\u001b[0m\u001b[0m\n\u001b[1;32m    357\u001b[0m     \u001b[0;31m# add the numbers into the plot.\u001b[0m\u001b[0;34m\u001b[0m\u001b[0;34m\u001b[0m\u001b[0m\n",
      "\u001b[0;32m~/Desktop/Galaxia_wrap-master/library/cumhpx.py\u001b[0m in \u001b[0;36mlikelihood_assessment\u001b[0;34m(x, fSample, nside, threshold, cmd_bins)\u001b[0m\n\u001b[1;32m    313\u001b[0m     \u001b[0mdata\u001b[0m \u001b[0;34m=\u001b[0m \u001b[0mdelete_magellanic_clouds\u001b[0m\u001b[0;34m(\u001b[0m\u001b[0mdata\u001b[0m\u001b[0;34m)\u001b[0m\u001b[0;34m\u001b[0m\u001b[0m\n\u001b[1;32m    314\u001b[0m     \u001b[0;31m# assess likelihood and prepare arrays for plotting\u001b[0m\u001b[0;34m\u001b[0m\u001b[0;34m\u001b[0m\u001b[0m\n\u001b[0;32m--> 315\u001b[0;31m     \u001b[0mdata\u001b[0m\u001b[0;34m,\u001b[0m \u001b[0mcumhpx_like_new\u001b[0m \u001b[0;34m=\u001b[0m \u001b[0massess_likelihood\u001b[0m\u001b[0;34m(\u001b[0m\u001b[0mdata\u001b[0m\u001b[0;34m,\u001b[0m\u001b[0mx\u001b[0m\u001b[0;34m,\u001b[0m \u001b[0mthreshold\u001b[0m \u001b[0;34m=\u001b[0m \u001b[0mthreshold\u001b[0m\u001b[0;34m,\u001b[0m \u001b[0mcmd_bins\u001b[0m \u001b[0;34m=\u001b[0m \u001b[0mcmd_bins\u001b[0m\u001b[0;34m)\u001b[0m\u001b[0;34m\u001b[0m\u001b[0m\n\u001b[0m\u001b[1;32m    316\u001b[0m     \u001b[0mprint\u001b[0m\u001b[0;34m(\u001b[0m\u001b[0;34m'likelihood: '\u001b[0m\u001b[0;34m,\u001b[0m \u001b[0msum\u001b[0m\u001b[0;34m(\u001b[0m\u001b[0mcumhpx_like_new\u001b[0m\u001b[0;34m)\u001b[0m\u001b[0;34m)\u001b[0m\u001b[0;34m\u001b[0m\u001b[0m\n\u001b[1;32m    317\u001b[0m     \u001b[0mhpx_like\u001b[0m\u001b[0;34m,\u001b[0m \u001b[0mhpx_dens\u001b[0m \u001b[0;34m=\u001b[0m \u001b[0mget_hpx_structure_for_plotting\u001b[0m\u001b[0;34m(\u001b[0m\u001b[0mcumhpx_like_new\u001b[0m\u001b[0;34m,\u001b[0m\u001b[0mdata\u001b[0m\u001b[0;34m)\u001b[0m\u001b[0;34m\u001b[0m\u001b[0m\n",
      "\u001b[0;32m~/Desktop/Galaxia_wrap-master/library/cumhpx.py\u001b[0m in \u001b[0;36massess_likelihood\u001b[0;34m(data, model, threshold, cmd_bins)\u001b[0m\n\u001b[1;32m    256\u001b[0m         \u001b[0mprint\u001b[0m\u001b[0;34m(\u001b[0m\u001b[0;34m'model already has cumhpx structure, might be incompatible with data'\u001b[0m\u001b[0;34m)\u001b[0m\u001b[0;34m\u001b[0m\u001b[0m\n\u001b[1;32m    257\u001b[0m     \u001b[0;32melse\u001b[0m\u001b[0;34m:\u001b[0m\u001b[0;34m\u001b[0m\u001b[0m\n\u001b[0;32m--> 258\u001b[0;31m         \u001b[0mmodel\u001b[0m \u001b[0;34m=\u001b[0m \u001b[0mtransfer_cumhpx_structure\u001b[0m\u001b[0;34m(\u001b[0m\u001b[0mdata\u001b[0m\u001b[0;34m,\u001b[0m\u001b[0mmodel\u001b[0m\u001b[0;34m)\u001b[0m\u001b[0;34m\u001b[0m\u001b[0m\n\u001b[0m\u001b[1;32m    259\u001b[0m     \u001b[0mcumhpx_like\u001b[0m \u001b[0;34m=\u001b[0m \u001b[0mhess_likelihood_per_cumhpx\u001b[0m\u001b[0;34m(\u001b[0m\u001b[0mdata\u001b[0m\u001b[0;34m,\u001b[0m\u001b[0mmodel\u001b[0m\u001b[0;34m,\u001b[0m\u001b[0mbins\u001b[0m \u001b[0;34m=\u001b[0m \u001b[0mcmd_bins\u001b[0m\u001b[0;34m)\u001b[0m\u001b[0;34m\u001b[0m\u001b[0m\n\u001b[1;32m    260\u001b[0m     \u001b[0;32mreturn\u001b[0m\u001b[0;34m(\u001b[0m\u001b[0mdata\u001b[0m\u001b[0;34m,\u001b[0m\u001b[0mcumhpx_like\u001b[0m\u001b[0;34m)\u001b[0m\u001b[0;34m\u001b[0m\u001b[0m\n",
      "\u001b[0;32m~/Desktop/Galaxia_wrap-master/library/cumhpx.py\u001b[0m in \u001b[0;36mtransfer_cumhpx_structure\u001b[0;34m(data_with_cumhpx, new_cat)\u001b[0m\n\u001b[1;32m    137\u001b[0m     \"\"\"\n\u001b[1;32m    138\u001b[0m     \u001b[0;31m# Extract the structure from old cat\u001b[0m\u001b[0;34m\u001b[0m\u001b[0;34m\u001b[0m\u001b[0m\n\u001b[0;32m--> 139\u001b[0;31m     \u001b[0mcumhpx_array\u001b[0m \u001b[0;34m=\u001b[0m \u001b[0mhpx2cumhpx\u001b[0m\u001b[0;34m(\u001b[0m\u001b[0mdata_with_cumhpx\u001b[0m\u001b[0;34m)\u001b[0m \u001b[0;31m## corresponding cumhpx\u001b[0m\u001b[0;34m\u001b[0m\u001b[0m\n\u001b[0m\u001b[1;32m    140\u001b[0m     \u001b[0mhpx_array\u001b[0m \u001b[0;34m=\u001b[0m \u001b[0mnp\u001b[0m\u001b[0;34m.\u001b[0m\u001b[0munique\u001b[0m\u001b[0;34m(\u001b[0m\u001b[0mdata_with_cumhpx\u001b[0m\u001b[0;34m.\u001b[0m\u001b[0mhpx\u001b[0m\u001b[0;34m)\u001b[0m \u001b[0;31m## hpx from 0 to hpx_max\u001b[0m\u001b[0;34m\u001b[0m\u001b[0m\n\u001b[1;32m    141\u001b[0m     \u001b[0mhealpix_level\u001b[0m \u001b[0;34m=\u001b[0m \u001b[0mhighest_hpx_level_from_largest_hpx\u001b[0m\u001b[0;34m(\u001b[0m\u001b[0mmax\u001b[0m\u001b[0;34m(\u001b[0m\u001b[0mdata_with_cumhpx\u001b[0m\u001b[0;34m.\u001b[0m\u001b[0mhpx\u001b[0m\u001b[0;34m)\u001b[0m\u001b[0;34m)\u001b[0m\u001b[0;34m\u001b[0m\u001b[0m\n",
      "\u001b[0;32m~/Desktop/Galaxia_wrap-master/library/cumhpx.py\u001b[0m in \u001b[0;36mhpx2cumhpx\u001b[0;34m(cat)\u001b[0m\n\u001b[1;32m    118\u001b[0m         \u001b[0;31m# taking the unique cumhpx per hpx pixel\u001b[0m\u001b[0;34m\u001b[0m\u001b[0;34m\u001b[0m\u001b[0m\n\u001b[1;32m    119\u001b[0m         \u001b[0mcumhpx_pointer\u001b[0m \u001b[0;34m=\u001b[0m \u001b[0mnp\u001b[0m\u001b[0;34m.\u001b[0m\u001b[0munique\u001b[0m\u001b[0;34m(\u001b[0m\u001b[0mtemp\u001b[0m\u001b[0;34m.\u001b[0m\u001b[0mcumhpx\u001b[0m\u001b[0;34m)\u001b[0m\u001b[0;34m\u001b[0m\u001b[0m\n\u001b[0;32m--> 120\u001b[0;31m         \u001b[0;32massert\u001b[0m\u001b[0;34m(\u001b[0m\u001b[0mlen\u001b[0m\u001b[0;34m(\u001b[0m\u001b[0mcumhpx_pointer\u001b[0m\u001b[0;34m)\u001b[0m\u001b[0;34m==\u001b[0m\u001b[0;36m1\u001b[0m\u001b[0;34m)\u001b[0m\u001b[0;34m,\u001b[0m\u001b[0;34m\"more cumhpx for single hpx, cumhppointer_len = %d\"\u001b[0m \u001b[0;34m%\u001b[0m\u001b[0;34m(\u001b[0m\u001b[0mlen\u001b[0m\u001b[0;34m(\u001b[0m\u001b[0mcumhpx_pointer\u001b[0m\u001b[0;34m)\u001b[0m\u001b[0;34m)\u001b[0m\u001b[0;34m\u001b[0m\u001b[0m\n\u001b[0m\u001b[1;32m    121\u001b[0m         \u001b[0mresult\u001b[0m\u001b[0;34m.\u001b[0m\u001b[0mappend\u001b[0m\u001b[0;34m(\u001b[0m\u001b[0mcumhpx_pointer\u001b[0m\u001b[0;34m[\u001b[0m\u001b[0;36m0\u001b[0m\u001b[0;34m]\u001b[0m\u001b[0;34m)\u001b[0m\u001b[0;34m\u001b[0m\u001b[0m\n\u001b[1;32m    122\u001b[0m     \u001b[0mresult\u001b[0m \u001b[0;34m=\u001b[0m \u001b[0mnp\u001b[0m\u001b[0;34m.\u001b[0m\u001b[0mhstack\u001b[0m\u001b[0;34m(\u001b[0m\u001b[0mresult\u001b[0m\u001b[0;34m)\u001b[0m\u001b[0;34m\u001b[0m\u001b[0m\n",
      "\u001b[0;31mAssertionError\u001b[0m: more cumhpx for single hpx, cumhppointer_len = 0"
     ]
    }
   ],
   "source": [
    "outputDir = '../output/mockcat_new_SFR_new_more_thick_0.00025_sampling_new_model_maglim'\n",
    "fSample = 0.00025\n",
    "do_likelihood(outputDir,fSample= fSample)"
   ]
  },
  {
   "cell_type": "code",
   "execution_count": null,
   "metadata": {
    "collapsed": true
   },
   "outputs": [],
   "source": []
  }
 ],
 "metadata": {
  "kernelspec": {
   "display_name": "Python 3",
   "language": "python",
   "name": "python3"
  },
  "language_info": {
   "codemirror_mode": {
    "name": "ipython",
    "version": 3
   },
   "file_extension": ".py",
   "mimetype": "text/x-python",
   "name": "python",
   "nbconvert_exporter": "python",
   "pygments_lexer": "ipython3",
   "version": "3.6.3"
  }
 },
 "nbformat": 4,
 "nbformat_minor": 2
}
