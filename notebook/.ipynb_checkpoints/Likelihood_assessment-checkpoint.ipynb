{
 "cells": [
  {
   "cell_type": "code",
   "execution_count": 1,
   "metadata": {
    "collapsed": true
   },
   "outputs": [],
   "source": [
    "import numpy as np\n",
    "import os, sys\n",
    "path = os.path.abspath('../library/')\n",
    "if path not in sys.path:\n",
    "    sys.path.append(path)\n",
    "from cumhpx import do_likelihood, local_normalisation\n",
    "name = 'raster_0.7_1.2'"
   ]
  },
  {
   "cell_type": "code",
   "execution_count": null,
   "metadata": {
    "scrolled": false
   },
   "outputs": [
    {
     "name": "stdout",
     "output_type": "stream",
     "text": [
      "(25.910147711235833, 4.467184215036124, 313826)\n",
      "GDR2mock\n",
      "nstar before cleaning: 1506672\n",
      "nstar after g-band cleaning: 1161038\n",
      "nstar before cleaning: 1161038\n",
      "nstar after rp-band cleaning: 844364\n",
      "844364\n",
      "after smc cut: 844040\n",
      "after lmc cut: 842305\n",
      "GDR2\n",
      "nstar before cleaning: 1253908\n",
      "nstar after g-band cleaning: 1106539\n",
      "nstar before cleaning: 1106539\n",
      "nstar after rp-band cleaning: 930786\n",
      "930786\n",
      "after smc cut: 929405\n",
      "after lmc cut: 919862\n",
      "hpx 2055 is empty\n",
      "hpx 2064 is empty\n",
      "hpx 2065 is empty\n",
      "hpx 2066 is empty\n",
      "hpx 2067 is empty\n",
      "hpx 2068 is empty\n",
      "hpx 2069 is empty\n",
      "hpx 2070 is empty\n",
      "hpx 2071 is empty\n",
      "hpx 2072 is empty\n",
      "hpx 2073 is empty\n",
      "hpx 2080 is empty\n",
      "hpx 2081 is empty\n",
      "hpx 2082 is empty\n",
      "hpx 2088 is empty\n",
      "hpx 2112 is empty\n",
      "hpx 2336 is empty\n",
      "hpx 2338 is empty\n",
      "hpx 2344 is empty\n",
      "hpx 2346 is empty\n",
      "likelihood:  -328108.99258733296\n",
      "total diff:  131017\n",
      "too many: 26730, too little: -104287\n",
      "hpx 2055 is empty\n",
      "hpx 2064 is empty\n",
      "hpx 2065 is empty\n",
      "hpx 2066 is empty\n",
      "hpx 2067 is empty\n",
      "hpx 2068 is empty\n",
      "hpx 2069 is empty\n",
      "hpx 2070 is empty\n",
      "hpx 2071 is empty\n",
      "hpx 2072 is empty\n",
      "hpx 2073 is empty\n",
      "hpx 2080 is empty\n",
      "hpx 2081 is empty\n",
      "hpx 2082 is empty\n",
      "hpx 2088 is empty\n",
      "hpx 2112 is empty\n",
      "hpx 2336 is empty\n",
      "hpx 2338 is empty\n",
      "hpx 2344 is empty\n",
      "hpx 2346 is empty\n",
      "hpx 2055 is empty\n",
      "hpx 2064 is empty\n",
      "hpx 2065 is empty\n",
      "hpx 2066 is empty\n",
      "hpx 2067 is empty\n",
      "hpx 2068 is empty\n",
      "hpx 2069 is empty\n",
      "hpx 2070 is empty\n",
      "hpx 2071 is empty\n",
      "hpx 2072 is empty\n",
      "hpx 2073 is empty\n",
      "hpx 2080 is empty\n",
      "hpx 2081 is empty\n",
      "hpx 2082 is empty\n",
      "hpx 2088 is empty\n",
      "hpx 2112 is empty\n",
      "hpx 2336 is empty\n",
      "hpx 2338 is empty\n",
      "hpx 2344 is empty\n",
      "hpx 2346 is empty\n",
      "842305 919862\n"
     ]
    },
    {
     "name": "stderr",
     "output_type": "stream",
     "text": [
      "/home/rybizki/anaconda3/lib/python3.6/site-packages/healpy/pixelfunc.py:304: RuntimeWarning: invalid value encountered in less_equal\n",
      "  return np.absolute(m - badval) <= atol + rtol * np.absolute(badval)\n",
      "/home/rybizki/anaconda3/lib/python3.6/site-packages/healpy/projaxes.py:1053: RuntimeWarning: invalid value encountered in less\n",
      "  result.data[result.data<0]=0.0\n",
      "/home/rybizki/anaconda3/lib/python3.6/site-packages/healpy/projaxes.py:1054: RuntimeWarning: invalid value encountered in greater\n",
      "  result.data[result.data>1]=1.0\n"
     ]
    },
    {
     "name": "stdout",
     "output_type": "stream",
     "text": [
      "(842305, -328108.99258733296, 26730, 104287)\n"
     ]
    },
    {
     "name": "stderr",
     "output_type": "stream",
     "text": [
      "/home/rybizki/anaconda3/lib/python3.6/site-packages/matplotlib/colors.py:1031: RuntimeWarning: invalid value encountered in less_equal\n",
      "  mask |= resdat <= 0\n"
     ]
    }
   ],
   "source": [
    "print(local_normalisation(name, verbose = True))\n",
    "outputDir = '../output/%s_0.001' %name\n",
    "fSample = 0.001\n",
    "print(do_likelihood(outputDir,fSample= fSample))"
   ]
  },
  {
   "cell_type": "code",
   "execution_count": null,
   "metadata": {
    "scrolled": false
   },
   "outputs": [
    {
     "name": "stdout",
     "output_type": "stream",
     "text": [
      "GDR2mock\n"
     ]
    }
   ],
   "source": [
    "name_comp = 'raster_0.7_1.0'\n",
    "compDir = '../output/%s_0.001/GDR2mock_20.7Gmag.fits' %name_comp\n",
    "fSample = 0.0025\n",
    "do_likelihood(outputDir,fSample= fSample, comp_file = compDir, savefile=False)"
   ]
  },
  {
   "cell_type": "code",
   "execution_count": null,
   "metadata": {
    "collapsed": true
   },
   "outputs": [],
   "source": []
  }
 ],
 "metadata": {
  "kernelspec": {
   "display_name": "Python 3",
   "language": "python",
   "name": "python3"
  },
  "language_info": {
   "codemirror_mode": {
    "name": "ipython",
    "version": 3
   },
   "file_extension": ".py",
   "mimetype": "text/x-python",
   "name": "python",
   "nbconvert_exporter": "python",
   "pygments_lexer": "ipython3",
   "version": "3.6.3"
  }
 },
 "nbformat": 4,
 "nbformat_minor": 2
}
