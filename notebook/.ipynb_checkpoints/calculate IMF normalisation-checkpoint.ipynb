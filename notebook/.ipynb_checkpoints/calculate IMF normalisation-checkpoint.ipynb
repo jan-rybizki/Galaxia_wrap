{
 "cells": [
  {
   "cell_type": "code",
   "execution_count": 1,
   "metadata": {},
   "outputs": [
    {
     "name": "stdout",
     "output_type": "stream",
     "text": [
      "Populating the interactive namespace from numpy and matplotlib\n"
     ]
    }
   ],
   "source": [
    "%pylab inline"
   ]
  },
  {
   "cell_type": "code",
   "execution_count": 40,
   "metadata": {
    "collapsed": true
   },
   "outputs": [],
   "source": [
    "def imf1(x):\n",
    "    m1 = 0.5\n",
    "    m2 = 1.39\n",
    "    m3 = 6\n",
    "    a0 = -1.26\n",
    "    a1 = -1.49\n",
    "    a2 = -3.02\n",
    "    a3 = -2.28\n",
    "    #normalising factors\n",
    "    c1 = m1**a0/m1**a1\n",
    "    c2 = (c1*m2**a1)/m2**a2\n",
    "    c3 = (c2*m3**a2)/m3**a3\n",
    "    \n",
    "    y = np.zeros_like(x)\n",
    "    \n",
    "    y[x<m1] = np.power(x[x<m1],a0)\n",
    "    y[(x>=m1) & (x<m2)] = c1*np.power(x[(x>=m1) & (x<m2)],a1)\n",
    "    y[(x>=m2) & (x<m3)] = c2*np.power(x[(x>=m2) & (x<m3)],a2)\n",
    "    y[x>=m3] = c3*np.power(x[x>=m3],a3)\n",
    "    return(y)"
   ]
  },
  {
   "cell_type": "code",
   "execution_count": 41,
   "metadata": {
    "collapsed": true
   },
   "outputs": [],
   "source": [
    "x = np.linspace(0.09,120,1000)"
   ]
  },
  {
   "cell_type": "code",
   "execution_count": 42,
   "metadata": {},
   "outputs": [],
   "source": [
    "y = imf1(x)"
   ]
  },
  {
   "cell_type": "code",
   "execution_count": 43,
   "metadata": {},
   "outputs": [
    {
     "data": {
      "image/png": "[encoded data removed]",
      "text/plain": [
       "<Figure size 432x288 with 1 Axes>"
      ]
     },
     "metadata": {},
     "output_type": "display_data"
    }
   ],
   "source": [
    "plt.plot(x,y)\n",
    "plt.yscale(\"log\")\n",
    "plt.xscale(\"log\")"
   ]
  },
  {
   "cell_type": "code",
   "execution_count": 28,
   "metadata": {
    "collapsed": true
   },
   "outputs": [],
   "source": [
    "m1 = 0.5\n",
    "m2 = 1.39\n",
    "m3 = 6\n",
    "a0 = -1.26\n",
    "a1 = -1.49\n",
    "a2 = -3.02\n",
    "a3 = -2.28"
   ]
  },
  {
   "cell_type": "code",
   "execution_count": 31,
   "metadata": {},
   "outputs": [
    {
     "data": {
      "text/plain": [
       "0.8526348917679566"
      ]
     },
     "execution_count": 31,
     "metadata": {},
     "output_type": "execute_result"
    }
   ],
   "source": [
    "m1**a0/m1**a1"
   ]
  },
  {
   "cell_type": "code",
   "execution_count": 30,
   "metadata": {},
   "outputs": [
    {
     "data": {
      "text/plain": [
       "2.8088897514759945"
      ]
     },
     "execution_count": 30,
     "metadata": {},
     "output_type": "execute_result"
    }
   ],
   "source": []
  },
  {
   "cell_type": "code",
   "execution_count": null,
   "metadata": {
    "collapsed": true
   },
   "outputs": [],
   "source": []
  }
 ],
 "metadata": {
  "kernelspec": {
   "display_name": "Python 3",
   "language": "python",
   "name": "python3"
  },
  "language_info": {
   "codemirror_mode": {
    "name": "ipython",
    "version": 3
   },
   "file_extension": ".py",
   "mimetype": "text/x-python",
   "name": "python",
   "nbconvert_exporter": "python",
   "pygments_lexer": "ipython3",
   "version": "3.6.3"
  }
 },
 "nbformat": 4,
 "nbformat_minor": 2
}
