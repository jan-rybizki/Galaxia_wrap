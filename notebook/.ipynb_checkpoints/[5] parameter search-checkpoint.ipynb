{
 "cells": [
  {
   "cell_type": "code",
   "execution_count": 1,
   "metadata": {
    "collapsed": true
   },
   "outputs": [],
   "source": [
    "import numpy as np\n",
    "import os, sys\n",
    "path = os.path.abspath('../library/')\n",
    "if path not in sys.path:\n",
    "    sys.path.append(path)\n",
    "from convert_to_recarray import create_gdr2mock_mag_limited_survey\n",
    "import ebf, subprocess"
   ]
  },
  {
   "cell_type": "code",
   "execution_count": 2,
   "metadata": {
    "scrolled": false
   },
   "outputs": [
    {
     "name": "stdout",
     "output_type": "stream",
     "text": [
      "1.0\n",
      "#######################################\n",
      "Galaxia spawns new BHtree\n",
      "b'Galaxia-v0.81\\nCODEDATAPATH=/home/rybizki/Programme/GalaxiaData/\\nReading tabulated values from file- /home/rybizki/Programme/GalaxiaData/Model/vcirc.dat\\nfeh=-0.17 sig_feh=0.27\\nThick disc sigma_v=[67, 51, 42, 0.33, 0.33]\\n    [feh, dfeh, age, dage]=[-0.48, 0.3, 1.1e+10, 1e+09]\\nThickDisk:\\nMaking Tree\\nAge=1.1e+10 lAge=0\\n Total Nodes=318553 leafs=278734\\nCompleted %  <1..10..20..30..40..50..60..70..80..90..100..>\\nMass=1.16564e+10 Leafs=278734 Total Nodes=318553 1.16685e+10 20372.9\\nWriting tree to file:               /home/rybizki/Programme/GalaxiaData/BHTree-2.3/bhtree_with_wf/bhtree_7_E0.ebf....Done\\nTime Tree generation/reading =      12.7056     \\nTotal Time=                         12.7337     \\n'\n"
     ]
    },
    {
     "ename": "ValueError",
     "evalue": "unsupported format character ',' (0x2c) at index 17",
     "output_type": "error",
     "traceback": [
      "\u001b[0;31m---------------------------------------------------------------------------\u001b[0m",
      "\u001b[0;31mValueError\u001b[0m                                Traceback (most recent call last)",
      "\u001b[0;32m<ipython-input-2-0d1f3ccb6263>\u001b[0m in \u001b[0;36m<module>\u001b[0;34m()\u001b[0m\n\u001b[1;32m     24\u001b[0m \u001b[0;34m\u001b[0m\u001b[0m\n\u001b[1;32m     25\u001b[0m     \u001b[0;31m### calculate mock catalogue\u001b[0m\u001b[0;34m\u001b[0m\u001b[0;34m\u001b[0m\u001b[0m\n\u001b[0;32m---> 26\u001b[0;31m     \u001b[0mname\u001b[0m \u001b[0;34m=\u001b[0m \u001b[0;34m'thick_disk_norm_%,1f'\u001b[0m \u001b[0;34m%\u001b[0m\u001b[0;34m(\u001b[0m\u001b[0mthick_norm\u001b[0m\u001b[0;34m)\u001b[0m\u001b[0;34m\u001b[0m\u001b[0m\n\u001b[0m\u001b[1;32m     27\u001b[0m     create_gdr2mock_mag_limited_survey(nside = 512, outputDir = '../output/%s_100pc' %(name),\n\u001b[1;32m     28\u001b[0m                                        \u001b[0muse_previous\u001b[0m \u001b[0;34m=\u001b[0m \u001b[0;32mFalse\u001b[0m\u001b[0;34m,\u001b[0m \u001b[0mdelete_ebf\u001b[0m \u001b[0;34m=\u001b[0m \u001b[0;32mTrue\u001b[0m\u001b[0;34m,\u001b[0m\u001b[0;34m\u001b[0m\u001b[0m\n",
      "\u001b[0;31mValueError\u001b[0m: unsupported format character ',' (0x2c) at index 17"
     ]
    }
   ],
   "source": [
    "### change files\n",
    "'''\n",
    "default start = 0\n",
    "default end = 10\n",
    "0-6 == thin disk\n",
    "7 = thick disk\n",
    "8 = halo\n",
    "9 = bulge\n",
    "what can be changed:\n",
    "/norm_thin_disk\n",
    "/norm_thick_disk\n",
    "/norm_halo\n",
    "/norm_bulge\n",
    "'''\n",
    "for thick_norm in [1.0,1.2,1.4]:\n",
    "    print(thick_norm)\n",
    "    print('#######################################')\n",
    "    modelFile = '/home/rybizki/Programme/GalaxiaData/Model/population_parameters_BGM_update.ebf'\n",
    "    ebf.update_ind(modelFile, '/popidstart', 7, ind=0)\n",
    "    ebf.update_ind(modelFile, '/popidend', 8, ind=0)\n",
    "    ebf.update_ind(modelFile, '/norm_thick_disk', thick_norm, ind=0)\n",
    "    ### make new bhtree\n",
    "    args = ['galaxia', '-s', 'warp']\n",
    "    p = subprocess.Popen(args, stdout=subprocess.PIPE, stderr=subprocess.PIPE)\t\n",
    "    print(\"Galaxia spawns new BHtree\")\n",
    "    (output, err) = p.communicate()\n",
    "    if True:\n",
    "        print(output)\n",
    "\n",
    "    ### calculate mock catalogue\n",
    "    name = 'thick_disk_norm_%.1f' %(thick_norm)\n",
    "    create_gdr2mock_mag_limited_survey(nside = 512, outputDir = '../output/%s_100pc' %(name),\n",
    "                                       use_previous = False, delete_ebf = True,\n",
    "                                      fSample = 1, make_likelihood_asessment=False, r_max = 0.1,\n",
    "                                      verbose = False)\n",
    "    create_gdr2mock_mag_limited_survey(nside = 512, outputDir = '../output/%s_0.001' %(name),\n",
    "                                       use_previous = False, delete_ebf = True,\n",
    "                                      fSample = 0.001, make_likelihood_asessment=False)"
   ]
  },
  {
   "cell_type": "code",
   "execution_count": null,
   "metadata": {
    "collapsed": true
   },
   "outputs": [],
   "source": []
  }
 ],
 "metadata": {
  "kernelspec": {
   "display_name": "Python 3",
   "language": "python",
   "name": "python3"
  },
  "language_info": {
   "codemirror_mode": {
    "name": "ipython",
    "version": 3
   },
   "file_extension": ".py",
   "mimetype": "text/x-python",
   "name": "python",
   "nbconvert_exporter": "python",
   "pygments_lexer": "ipython3",
   "version": "3.6.3"
  }
 },
 "nbformat": 4,
 "nbformat_minor": 2
}
