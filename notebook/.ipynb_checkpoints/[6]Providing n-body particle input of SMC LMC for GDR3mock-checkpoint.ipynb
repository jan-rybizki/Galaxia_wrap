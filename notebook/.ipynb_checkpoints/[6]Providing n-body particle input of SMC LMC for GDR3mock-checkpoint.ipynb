{
 "cells": [
  {
   "cell_type": "code",
   "execution_count": 1,
   "metadata": {},
   "outputs": [
    {
     "data": {
      "text/plain": [
       "'\\nWe will produce a simple n-body version of the LMC/SMC. We model it as a simple 3d Gaussian distribution.\\nData that we put in:\\nSIMBAD:\\nsmc_l = 302.8\\nsmc_b = -44.3\\nlmc_l = 280.5\\nlmc_b = -32.9\\nGUMS paper:\\nsmc_depth = 1.48 kpc\\nlmc_depth = 0.75 kpc\\nsmc_diameter = 2.1kpc\\nlmc_diameter = 4.3 kpc\\ndistance_lmc = 48.1 kpc\\ndistance_smc = 60.6 kpc\\nmu_alpha_smc = 0.95 mas/yr\\nmu_delta_smc = -1.14 mas/yr\\nmu_alpha_lmc = 1.95 mas/yr\\nmu_delta_lmc = 0.43 mas/yr\\nvlos_smc = 158 km/s\\nvlos_lmc = 283 km/s\\nfeh_smc = -1.2 +- 0.2 dex\\nfeh_lmc = -0.75 +- 0.5\\nsfr_smc = constant\\nsfr_lmc = constant\\nmass_smc = (5.31 ± 0.05) × 10^8 Msun (stellar mass) https://ui.adsabs.harvard.edu/abs/2018MNRAS.478.5017R/abstract (total mass: 2.4 × 10^9 Msun)\\nmass_lmc = 5x10^9 Msun (same ratio as SMC total to stellar mass would be 5e9) total mass 1e11 Msun\\n# Scaling to GDR2 counts\\nmass_smc = (5.31 ± 0.05) × 10^8 Msun (stellar mass) https://ui.adsabs.harvard.edu/abs/2018MNRAS.478.5017R/abstract (total mass: 2.4 × 10^9 Msun)\\nmass_lmc = 2.5x10^9 Msun (we scale to GDR2 starcounts) (same ratio as SMC total to stellar mass would be 5e9) total mass 1e11 Msun\\n\\ndiameter_smc = 7000 lyr\\ndiameter_lmc = 14000 lyr\\nvelocity_dispersion_smc = 2 km/s guess\\n\\nSMC = (x, y, z) in kpc\\n    (15.41505773, -36.45615675, -42.3529639)\\n (v_x, v_y, v_z) in km / s\\n    (-30.27567249, -195.93860278, 132.71019931)>\\nLMC = (x, y, z) in kpc\\n    (-0.68927397, -39.70942142, -26.12549237)\\n (v_x, v_y, v_z) in km / s\\n    (-79.46073554, -250.78236772, 205.32537167)>\\n'"
      ]
     },
     "execution_count": 1,
     "metadata": {},
     "output_type": "execute_result"
    }
   ],
   "source": [
    "#Here we illustrate how to sample n-body particles with Galaxia.\n",
    "\"\"\"\n",
    "We will produce a simple n-body version of the LMC/SMC. We model it as a simple 3d Gaussian distribution.\n",
    "Data that we put in:\n",
    "SIMBAD:\n",
    "smc_l = 302.8\n",
    "smc_b = -44.3\n",
    "lmc_l = 280.5\n",
    "lmc_b = -32.9\n",
    "GUMS paper:\n",
    "smc_depth = 1.48 kpc\n",
    "lmc_depth = 0.75 kpc\n",
    "smc_diameter = 2.1kpc\n",
    "lmc_diameter = 4.3 kpc\n",
    "distance_lmc = 48.1 kpc\n",
    "distance_smc = 60.6 kpc\n",
    "mu_alpha_smc = 0.95 mas/yr\n",
    "mu_delta_smc = -1.14 mas/yr\n",
    "mu_alpha_lmc = 1.95 mas/yr\n",
    "mu_delta_lmc = 0.43 mas/yr\n",
    "vlos_smc = 158 km/s\n",
    "vlos_lmc = 283 km/s\n",
    "feh_smc = -1.2 +- 0.2 dex\n",
    "feh_lmc = -0.75 +- 0.5\n",
    "sfr_smc = constant\n",
    "sfr_lmc = constant\n",
    "mass_smc = (5.31 ± 0.05) × 10^8 Msun (stellar mass) https://ui.adsabs.harvard.edu/abs/2018MNRAS.478.5017R/abstract (total mass: 2.4 × 10^9 Msun)\n",
    "mass_lmc = 5x10^9 Msun (same ratio as SMC total to stellar mass would be 5e9) total mass 1e11 Msun\n",
    "# Scaling to GDR2 counts\n",
    "mass_smc = (5.31 ± 0.05) × 10^8 Msun (stellar mass) https://ui.adsabs.harvard.edu/abs/2018MNRAS.478.5017R/abstract (total mass: 2.4 × 10^9 Msun)\n",
    "mass_lmc = 2.5x10^9 Msun (we scale to GDR2 starcounts) (same ratio as SMC total to stellar mass would be 5e9) total mass 1e11 Msun\n",
    "\n",
    "diameter_smc = 7000 lyr\n",
    "diameter_lmc = 14000 lyr\n",
    "velocity_dispersion_smc = 2 km/s guess\n",
    "\n",
    "SMC = (x, y, z) in kpc\n",
    "    (15.41505773, -36.45615675, -42.3529639)\n",
    " (v_x, v_y, v_z) in km / s\n",
    "    (-30.27567249, -195.93860278, 132.71019931)>\n",
    "LMC = (x, y, z) in kpc\n",
    "    (-0.68927397, -39.70942142, -26.12549237)\n",
    " (v_x, v_y, v_z) in km / s\n",
    "    (-79.46073554, -250.78236772, 205.32537167)>\n",
    "\"\"\""
   ]
  },
  {
   "cell_type": "code",
   "execution_count": 2,
   "metadata": {
    "collapsed": true
   },
   "outputs": [],
   "source": [
    "from astropy.coordinates import SkyCoord, ICRS, CartesianRepresentation, CartesianDifferential, Galactic, Galactocentric\n",
    "import astropy.units as u"
   ]
  },
  {
   "cell_type": "code",
   "execution_count": 3,
   "metadata": {},
   "outputs": [
    {
     "name": "stdout",
     "output_type": "stream",
     "text": [
      "ra in deg: 13.17927729718147\n",
      "dec in deg: -72.82792474314047\n"
     ]
    },
    {
     "data": {
      "text/plain": [
       "<SkyCoord (Galactocentric: galcen_coord=<ICRS Coordinate: (ra, dec) in deg\n",
       "    (266.4051, -28.936175)>, galcen_distance=8.0 kpc, galcen_v_sun=(11.1, 239.08, 7.25) km / s, z_sun=15.0 pc, roll=0.0 deg): (x, y, z) in kpc\n",
       "    (15.41505773, -36.45615675, -42.3529639)\n",
       " (v_x, v_y, v_z) in km / s\n",
       "    (-30.27567249, -195.93860278, 132.71019931)>"
      ]
     },
     "execution_count": 3,
     "metadata": {},
     "output_type": "execute_result"
    }
   ],
   "source": [
    "#SMC\n",
    "c1 = SkyCoord(l = 302.8*u.degree, b = -44.3*u.degree, frame='galactic')\n",
    "ra = c1.icrs.ra.value\n",
    "dec = c1.icrs.dec.value\n",
    "print(\"ra in deg:\",ra)\n",
    "print(\"dec in deg:\",dec)\n",
    "c = SkyCoord(ra=ra*u.degree, dec=dec*u.degree, distance=60.6*u.kpc, frame='icrs',\n",
    "             pm_ra_cosdec = 0.95*u.mas/u.yr, pm_dec = -1.14*u.mas/u.yr, radial_velocity = 158*u.km/u.s,\n",
    "             galcen_distance = 8.0*u.kpc, z_sun = 15.0*u.pc,\n",
    "             galcen_v_sun=CartesianDifferential(d_x=11.1*u.km/u.s, d_y=239.08*u.km/u.s, d_z=7.25*u.km/u.s))\n",
    "c.galactocentric"
   ]
  },
  {
   "cell_type": "code",
   "execution_count": 4,
   "metadata": {},
   "outputs": [
    {
     "name": "stdout",
     "output_type": "stream",
     "text": [
      "ra in deg: 80.8456130588062\n",
      "dec in deg: -69.78267074987376\n"
     ]
    },
    {
     "data": {
      "text/plain": [
       "<SkyCoord (Galactocentric: galcen_coord=<ICRS Coordinate: (ra, dec) in deg\n",
       "    (266.4051, -28.936175)>, galcen_distance=8.0 kpc, galcen_v_sun=(11.1, 239.08, 7.25) km / s, z_sun=15.0 pc, roll=0.0 deg): (x, y, z) in kpc\n",
       "    (-0.68927397, -39.70942142, -26.12549237)\n",
       " (v_x, v_y, v_z) in km / s\n",
       "    (-79.46073554, -250.78236772, 205.32537167)>"
      ]
     },
     "execution_count": 4,
     "metadata": {},
     "output_type": "execute_result"
    }
   ],
   "source": [
    "#LMC\n",
    "c1 = SkyCoord(l = 280.5*u.degree, b = -32.9*u.degree, frame='galactic')\n",
    "ra = c1.icrs.ra.value\n",
    "dec = c1.icrs.dec.value\n",
    "print(\"ra in deg:\",ra)\n",
    "print(\"dec in deg:\",dec)\n",
    "c = SkyCoord(ra=ra*u.degree, dec=dec*u.degree, distance=48.1*u.kpc, frame='icrs',\n",
    "             pm_ra_cosdec = 1.95*u.mas/u.yr, pm_dec = 0.43*u.mas/u.yr, radial_velocity = 283*u.km/u.s,\n",
    "             galcen_distance = 8.0*u.kpc, z_sun = 15.0*u.pc,\n",
    "             galcen_v_sun=CartesianDifferential(d_x=11.1*u.km/u.s, d_y=239.08*u.km/u.s, d_z=7.25*u.km/u.s))\n",
    "c.galactocentric"
   ]
  },
  {
   "cell_type": "code",
   "execution_count": 5,
   "metadata": {},
   "outputs": [
    {
     "name": "stdout",
     "output_type": "stream",
     "text": [
      "Populating the interactive namespace from numpy and matplotlib\n"
     ]
    }
   ],
   "source": [
    "%pylab inline\n",
    "import ebf\n",
    "import shutil\n",
    "import subprocess\n",
    "from astropy.io import fits\n",
    "import os, sys\n",
    "path = os.path.abspath('../library/')\n",
    "if path not in sys.path:\n",
    "    sys.path.append(path)\n",
    "from convert_to_recarray import create_gdr2mock_mag_limited_survey_from_nbody"
   ]
  },
  {
   "cell_type": "code",
   "execution_count": 6,
   "metadata": {
    "collapsed": true
   },
   "outputs": [],
   "source": [
    "# Need to specify where the GalaxiaData folder is and how to name the new simulation\n",
    "\n",
    "nbody_folder = '/home/rybizki/Programme/GalaxiaData/'\n",
    "folder = 'LSMC/'\n",
    "nbody_filename = 'MCs'\n",
    "folder_cat = '../output/MCs'"
   ]
  },
  {
   "cell_type": "code",
   "execution_count": 7,
   "metadata": {
    "collapsed": true
   },
   "outputs": [],
   "source": [
    "def create_n_body(nbody_folder,folder,filename):\n",
    "    '''\n",
    "    VERY IMPORTANT: NEEDS AN AGE-METALLICITY RELATION!\n",
    "    '''\n",
    "    # 2 input files for Galaxia need to be created\n",
    "    folder_create = nbody_folder + 'nbody1/' + folder\n",
    "    if os.path.exists(folder_create):\n",
    "        shutil.rmtree(folder_create)\n",
    "        os.mkdir(folder_create)\n",
    "        print(folder_create, \"existed and was recreated\")\n",
    "    else:\n",
    "        os.mkdir(folder_create)\n",
    "\n",
    "    # Age metallicity distribution is specified in this input file, using Model A from Just&Jahreiß 2010\n",
    "    #fehdex = np.log10(zfe)\n",
    "    # Here we can specify the AMR according to our needs\n",
    "    stellar_masses = [6e8,3.8e9]\n",
    "    particles_spawned = [10000,100000]\n",
    "    feh_mean = [-1.2,-0.75]\n",
    "    feh_disperson = [0.2,0.5]\n",
    "    extends = [2.1,4.3]\n",
    "    velocity_dispersion = [10,20]\n",
    "    pos_x = [15.41505773,-0.68927397]\n",
    "    pos_y = [-36.45615675,-39.70942142]\n",
    "    pos_z = [-42.3529639,-26.12549237]\n",
    "    vel_x = [-30.27567249,-79.46073554]\n",
    "    vel_y = [-195.93860278,-250.78236772]\n",
    "    vel_z = [132.71019931,205.32537167]\n",
    "    names = ['smc','lmc']\n",
    "    for j,name in enumerate(names):\n",
    "        print(j,name)\n",
    "        total_stellar_mass = stellar_masses[j]\n",
    "        particles = particles_spawned[j]\n",
    "        age = np.linspace(0,13.5,num = particles+1)[1:]\n",
    "        fehdex = np.sort(np.random.normal(feh_mean[j],feh_disperson[j],particles))\n",
    "        #ohdex = np.log10(zox)\n",
    "        enhancement = np.zeros(len(age))\n",
    "        mass = np.ones_like(age)*(total_stellar_mass/particles)\n",
    "        age = age[::-1]\n",
    "        depth = extends[j]\n",
    "        vel_disp = velocity_dispersion[j]\n",
    "        #################################\n",
    "\n",
    "        # Here the ebf nbody input file is created\n",
    "        pos = np.zeros((len(age),3))\n",
    "        vel = np.zeros((len(age),3))\n",
    "        for i in range(0,len(pos)):\n",
    "            pos[i] = np.array([pos_x[j] + np.random.normal(0,depth/4), pos_y[j] + np.random.normal(0,depth/4), pos_z[j] + np.random.normal(0,depth/4)])\n",
    "            vel[i] = np.array([vel_x[j] + np.random.normal(0,vel_disp), vel_y[j] + np.random.normal(0,vel_disp), vel_z[j] + np.random.normal(0,vel_disp)])\n",
    "        print(\"median pos_x: \",np.median(pos[:,0]))\n",
    "        ebf.write(nbody_folder + 'nbody1/' + folder + filename + name + '.ebf', '/mass', mass,'w')\t\n",
    "        ebf.write(nbody_folder + 'nbody1/' + folder + filename + name + '.ebf', '/feh', fehdex,'a')\n",
    "        ebf.write(nbody_folder + 'nbody1/' + folder + filename + name + '.ebf', '/id', 1,'a')\n",
    "        ebf.write(nbody_folder + 'nbody1/' + folder + filename + name + '.ebf', '/alpha', enhancement,'a')\n",
    "        ebf.write(nbody_folder + 'nbody1/' + folder + filename + name + '.ebf', '/age', age,'a')\n",
    "        ebf.write(nbody_folder + 'nbody1/' + folder + filename + name + '.ebf', '/pos3', pos,'a')\n",
    "        ebf.write(nbody_folder + 'nbody1/' + folder + filename + name + '.ebf', '/vel3', vel,'a')\n",
    "\n",
    "        # Preparing file for Enbid\n",
    "        ps = np.concatenate((pos,vel),axis = 1)\n",
    "        enbid_filename = '%s.dat' %(name)\n",
    "        np.savetxt(enbid_filename,ps,fmt='%.6f')\n",
    "        # Making the parameterfile for Enbid\n",
    "        filedata = 'InitCondFile     %s\\nICFormat                  0     \\nSnapshotFileBase        _ph3\\nSpatialScale            1 \\nPartBoundary            7   \\nNodeSplittingCriterion  1   \\nCubicCells              1   \\nMedianSplittingOn       0   \\nTypeOfSmoothing      3\\nDesNumNgb            64   \\nVolCorr              1   \\nTypeOfKernel           3 \\nKernelBiasCorrection   1    \\nAnisotropicKernel      0   \\nAnisotropy             0   \\nDesNumNgbA             128 \\nTypeListOn        0\\nPeriodicBoundaryOn 0 \\n\\n' %(enbid_filename)\n",
    "        myparameterfile = \"myparameterfile3\"\n",
    "        file = open(myparameterfile, \"w\")\n",
    "        file.write(filedata)\n",
    "        file.close()\n",
    "        #Running Enbid\n",
    "        args = ['./Enbid', myparameterfile]\n",
    "        p = subprocess.Popen(args, stdout=subprocess.PIPE, stderr=subprocess.PIPE)\t\n",
    "        print(\"Enbid calculates smoothing length\")\n",
    "        (output, err) = p.communicate()\n",
    "        # Writing to nbody smoothing length file \n",
    "        t = np.genfromtxt(enbid_filename + \"_ph3.est\",skip_header=1)\n",
    "        d6 = np.zeros((len(pos),2))\n",
    "        d6[:,0] = t[:,1]\n",
    "        d6[:,1] = t[:,2]\n",
    "        print(d6.shape,t.shape)\n",
    "        ebf.write(nbody_folder + 'nbody1/' + folder + filename + name + '_d6n64_den.ebf', '/h_cubic', d6, 'w')\n",
    "\n",
    "        # Same for 3d\n",
    "        # Preparing file for Enbid\n",
    "        enbid_filename = '%s3d.dat' %(name)\n",
    "        np.savetxt(enbid_filename,pos,fmt='%.6f')\n",
    "        # Making the parameterfile for Enbid\n",
    "        filedata = 'InitCondFile     %s\\nICFormat                  0     \\nSnapshotFileBase        _ph3\\nSpatialScale            1 \\nPartBoundary            7   \\nNodeSplittingCriterion  1   \\nCubicCells              1   \\nMedianSplittingOn       0   \\nTypeOfSmoothing      3\\nDesNumNgb            64   \\nVolCorr              1   \\nTypeOfKernel           3 \\nKernelBiasCorrection   1    \\nAnisotropicKernel      0   \\nAnisotropy             0   \\nDesNumNgbA             128 \\nTypeListOn        0\\nPeriodicBoundaryOn 0 \\n\\n' %(enbid_filename)\n",
    "        myparameterfile = \"myparameterfile3\"\n",
    "        file = open(myparameterfile, \"w\")\n",
    "        file.write(filedata)\n",
    "        file.close()\n",
    "        #Running Enbid\n",
    "        args = ['./Enbid3d', myparameterfile]\n",
    "        p = subprocess.Popen(args, stdout=subprocess.PIPE, stderr=subprocess.PIPE)\t\n",
    "        print(\"Enbid calculates smoothing length\")\n",
    "        (output, err) = p.communicate()\n",
    "        # Writing to nbody smoothing length file \n",
    "        t = np.genfromtxt(enbid_filename + \"_ph3.est\",skip_header=1)\n",
    "        d3 = np.zeros((len(pos)))\n",
    "        d3 = t[:,1]\n",
    "        print(d3.shape,t.shape)\n",
    "        ebf.write(nbody_folder + 'nbody1/' + folder + filename + name + '_d3n64_den.ebf', '/h_cubic', d3, 'w')\n",
    "\n",
    "    # Here the file which tells Galaxia where to find the input file is created\n",
    "    filedata = 'nbody1/%s\\n         %d       1\\n%s.ebf\\n%s.ebf\\n' %(folder,len(names), filename + names[0], filename + names[1])\n",
    "    #filedata = 'nbody1/%s\\n         %d       1\\n%s.ebf\\n' %(folder,1, filename + names[1])\n",
    "    file = open(nbody_folder + \"nbody1/filenames/\" + filename + \".txt\", \"w\")\n",
    "    file.write(filedata)\n",
    "    file.close()"
   ]
  },
  {
   "cell_type": "code",
   "execution_count": null,
   "metadata": {},
   "outputs": [
    {
     "name": "stdout",
     "output_type": "stream",
     "text": [
      "/home/rybizki/Programme/GalaxiaData/nbody1/LSMC/ existed and was recreated\n",
      "0 smc\n",
      "median pos_x:  15.417296816963976\n",
      "Enbid calculates smoothing length\n",
      "(10000, 2) (10000, 3)\n",
      "Enbid calculates smoothing length\n",
      "(10000,) (10000, 3)\n",
      "1 lmc\n",
      "median pos_x:  -0.6872082856228522\n",
      "Enbid calculates smoothing length\n",
      "(100000, 2) (100000, 3)\n",
      "Enbid calculates smoothing length\n",
      "(100000,) (100000, 3)\n"
     ]
    }
   ],
   "source": [
    "create_n_body(nbody_folder,folder,nbody_filename)"
   ]
  },
  {
   "cell_type": "markdown",
   "metadata": {},
   "source": [
    "Preparing a CMD of constant SFR to see what the age distribution of a specific population is"
   ]
  },
  {
   "cell_type": "code",
   "execution_count": null,
   "metadata": {
    "scrolled": false
   },
   "outputs": [
    {
     "name": "stdout",
     "output_type": "stream",
     "text": [
      "0\n"
     ]
    },
    {
     "name": "stderr",
     "output_type": "stream",
     "text": [
      "/home/rybizki/anaconda3/lib/python3.6/importlib/_bootstrap.py:219: RuntimeWarning: numpy.dtype size changed, may indicate binary incompatibility. Expected 96, got 88\n",
      "  return f(*args, **kwds)\n",
      "/home/rybizki/anaconda3/lib/python3.6/importlib/_bootstrap.py:219: RuntimeWarning: numpy.dtype size changed, may indicate binary incompatibility. Expected 96, got 88\n",
      "  return f(*args, **kwds)\n",
      "/home/rybizki/anaconda3/lib/python3.6/site-packages/sklearn/ensemble/weight_boosting.py:29: DeprecationWarning: numpy.core.umath_tests is an internal NumPy module and should not be imported. It will be removed in a future NumPy release.\n",
      "  from numpy.core.umath_tests import inner1d\n"
     ]
    },
    {
     "name": "stdout",
     "output_type": "stream",
     "text": [
      "../output/MCs_d/ existed and was recreated\n",
      "Galaxia spawns catalogue\n"
     ]
    }
   ],
   "source": [
    "for seed in np.arange(1):\n",
    "    print(seed)\n",
    "    create_gdr2mock_mag_limited_survey_from_nbody(nbody_filename = nbody_filename,nside = 512,\n",
    "                                              outputDir = folder_cat + \"_%d\" %(seed),\n",
    "                                   use_previous = False, delete_ebf = True,\n",
    "                                  fSample = 0.1, make_likelihood_asessment=False, seed = seed)"
   ]
  },
  {
   "cell_type": "code",
   "execution_count": null,
   "metadata": {
    "collapsed": true
   },
   "outputs": [],
   "source": []
  },
  {
   "cell_type": "code",
   "execution_count": null,
   "metadata": {
    "collapsed": true
   },
   "outputs": [],
   "source": []
  }
 ],
 "metadata": {
  "kernelspec": {
   "display_name": "Python 3",
   "language": "python",
   "name": "python3"
  },
  "language_info": {
   "codemirror_mode": {
    "name": "ipython",
    "version": 3
   },
   "file_extension": ".py",
   "mimetype": "text/x-python",
   "name": "python",
   "nbconvert_exporter": "python",
   "pygments_lexer": "ipython3",
   "version": "3.6.3"
  }
 },
 "nbformat": 4,
 "nbformat_minor": 1
}
