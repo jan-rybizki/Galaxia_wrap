{
 "cells": [
  {
   "cell_type": "code",
   "execution_count": 1,
   "metadata": {
    "collapsed": true
   },
   "outputs": [],
   "source": [
    "from astropy.coordinates import SkyCoord, ICRS, CartesianRepresentation, CartesianDifferential, Galactic, Galactocentric\n",
    "import astropy.units as u\n",
    "import numpy as np\n",
    "import healpy as hp"
   ]
  },
  {
   "cell_type": "code",
   "execution_count": 6,
   "metadata": {
    "scrolled": true
   },
   "outputs": [
    {
     "name": "stdout",
     "output_type": "stream",
     "text": [
      "ra in deg: 250.57034810778302\n",
      "dec in deg: 3.1817096947567327\n",
      "lower and larger source_id value\n",
      "4433793833146253312\n",
      "4433934570634608639\n"
     ]
    }
   ],
   "source": [
    "#low density\n",
    "c1 = SkyCoord(l = 20.0*u.degree, b = 30*u.degree, frame='galactic')\n",
    "ra = c1.icrs.ra.value\n",
    "dec = c1.icrs.dec.value\n",
    "print(\"ra in deg:\",ra)\n",
    "print(\"dec in deg:\",dec)\n",
    "c = SkyCoord(ra=ra*u.degree, dec=dec*u.degree, distance=48.1*u.kpc, frame='icrs',\n",
    "             pm_ra_cosdec = 1.95*u.mas/u.yr, pm_dec = 0.43*u.mas/u.yr, radial_velocity = 283*u.km/u.s,\n",
    "             galcen_distance = 8.0*u.kpc, z_sun = 15.0*u.pc,\n",
    "             galcen_v_sun=CartesianDifferential(d_x=11.1*u.km/u.s, d_y=239.08*u.km/u.s, d_z=7.25*u.km/u.s))\n",
    "c.galactocentric\n",
    "\n",
    "hpxlevel = 6\n",
    "nside = 64\n",
    "hpx_number = hp.ang2pix(nside = nside, theta = ra, phi = dec, nest=True, lonlat=True)\n",
    "print(\"lower and larger source_id value\")\n",
    "print(2**35*np.power(4,12-hpxlevel)*hpx_number)\n",
    "print(2**35*np.power(4,12-hpxlevel)*(hpx_number+1)-1)"
   ]
  },
  {
   "cell_type": "code",
   "execution_count": 7,
   "metadata": {},
   "outputs": [
    {
     "name": "stdout",
     "output_type": "stream",
     "text": [
      "ra in deg: 80.8456130588062\n",
      "dec in deg: -69.78267074987376\n",
      "lower and larger source_id value\n",
      "4657847914607935488\n",
      "4657988652096290815\n"
     ]
    }
   ],
   "source": [
    "#LMC\n",
    "c1 = SkyCoord(l = 280.5*u.degree, b = -32.9*u.degree, frame='galactic')\n",
    "ra = c1.icrs.ra.value\n",
    "dec = c1.icrs.dec.value\n",
    "print(\"ra in deg:\",ra)\n",
    "print(\"dec in deg:\",dec)\n",
    "c = SkyCoord(ra=ra*u.degree, dec=dec*u.degree, distance=48.1*u.kpc, frame='icrs',\n",
    "             pm_ra_cosdec = 1.95*u.mas/u.yr, pm_dec = 0.43*u.mas/u.yr, radial_velocity = 283*u.km/u.s,\n",
    "             galcen_distance = 8.0*u.kpc, z_sun = 15.0*u.pc,\n",
    "             galcen_v_sun=CartesianDifferential(d_x=11.1*u.km/u.s, d_y=239.08*u.km/u.s, d_z=7.25*u.km/u.s))\n",
    "c.galactocentric\n",
    "\n",
    "hpxlevel = 6\n",
    "nside = 64\n",
    "hpx_number = hp.ang2pix(nside = nside, theta = ra, phi = dec, nest=True, lonlat=True)\n",
    "print(\"lower and larger source_id value\")\n",
    "print(2**35*np.power(4,12-hpxlevel)*hpx_number)\n",
    "print(2**35*np.power(4,12-hpxlevel)*(hpx_number+1)-1)"
   ]
  },
  {
   "cell_type": "code",
   "execution_count": 8,
   "metadata": {},
   "outputs": [
    {
     "name": "stdout",
     "output_type": "stream",
     "text": [
      "ra in deg: 270.8692734479971\n",
      "dec in deg: -30.01680074334423\n",
      "lower and larger source_id value\n",
      "4050143439889629184\n",
      "4050284177377984511\n"
     ]
    }
   ],
   "source": [
    "#Baades Window\n",
    "c1 = SkyCoord(l = 1.03*u.degree, b = -03.9*u.degree, frame='galactic')\n",
    "ra = c1.icrs.ra.value\n",
    "dec = c1.icrs.dec.value\n",
    "print(\"ra in deg:\",ra)\n",
    "print(\"dec in deg:\",dec)\n",
    "c = SkyCoord(ra=ra*u.degree, dec=dec*u.degree, distance=48.1*u.kpc, frame='icrs',\n",
    "             pm_ra_cosdec = 1.95*u.mas/u.yr, pm_dec = 0.43*u.mas/u.yr, radial_velocity = 283*u.km/u.s,\n",
    "             galcen_distance = 8.0*u.kpc, z_sun = 15.0*u.pc,\n",
    "             galcen_v_sun=CartesianDifferential(d_x=11.1*u.km/u.s, d_y=239.08*u.km/u.s, d_z=7.25*u.km/u.s))\n",
    "c.galactocentric\n",
    "\n",
    "hpxlevel = 6\n",
    "nside = 64\n",
    "hpx_number = hp.ang2pix(nside = nside, theta = ra, phi = dec, nest=True, lonlat=True)\n",
    "print(\"lower and larger source_id value\")\n",
    "print(2**35*np.power(4,12-hpxlevel)*hpx_number)\n",
    "print(2**35*np.power(4,12-hpxlevel)*(hpx_number+1)-1)"
   ]
  },
  {
   "cell_type": "code",
   "execution_count": null,
   "metadata": {
    "collapsed": true
   },
   "outputs": [],
   "source": []
  }
 ],
 "metadata": {
  "kernelspec": {
   "display_name": "Python 3",
   "language": "python",
   "name": "python3"
  },
  "language_info": {
   "codemirror_mode": {
    "name": "ipython",
    "version": 3
   },
   "file_extension": ".py",
   "mimetype": "text/x-python",
   "name": "python",
   "nbconvert_exporter": "python",
   "pygments_lexer": "ipython3",
   "version": "3.6.3"
  }
 },
 "nbformat": 4,
 "nbformat_minor": 2
}
