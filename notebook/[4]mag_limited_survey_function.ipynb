{
 "cells": [
  {
   "cell_type": "code",
   "execution_count": 1,
   "metadata": {
    "collapsed": true
   },
   "outputs": [],
   "source": [
    "import numpy as np\n",
    "import os, sys\n",
    "path = os.path.abspath('../library/')\n",
    "if path not in sys.path:\n",
    "    sys.path.append(path)\n",
    "from convert_to_recarray import create_gdr2mock_mag_limited_survey"
   ]
  },
  {
   "cell_type": "code",
   "execution_count": 2,
   "metadata": {
    "scrolled": false
   },
   "outputs": [
    {
     "name": "stderr",
     "output_type": "stream",
     "text": [
      "/home/rybizki/anaconda3/lib/python3.6/importlib/_bootstrap.py:219: RuntimeWarning: numpy.dtype size changed, may indicate binary incompatibility. Expected 96, got 88\n",
      "  return f(*args, **kwds)\n",
      "/home/rybizki/anaconda3/lib/python3.6/importlib/_bootstrap.py:219: RuntimeWarning: numpy.dtype size changed, may indicate binary incompatibility. Expected 96, got 88\n",
      "  return f(*args, **kwds)\n",
      "/home/rybizki/anaconda3/lib/python3.6/site-packages/sklearn/ensemble/weight_boosting.py:29: DeprecationWarning: numpy.core.umath_tests is an internal NumPy module and should not be imported. It will be removed in a future NumPy release.\n",
      "  from numpy.core.umath_tests import inner1d\n"
     ]
    },
    {
     "name": "stdout",
     "output_type": "stream",
     "text": [
      "Galaxia spawns catalogue\n",
      "########################################################################################\n",
      "############################# GALAXIA OUTPUT END ##################\n",
      "########################################################################################\n",
      "339560\n",
      "('rad', 'teff', 'vx', 'vy', 'vz', 'pz', 'px', 'py', 'feh', 'exbv_schlegel', 'lum', 'glon', 'glat', 'smass', 'age', 'grav', 'gaia_g', 'gaia_bpft', 'gaia_bpbr', 'gaia_rp', 'gaia_rvs', 'popid', 'mact')\n",
      "converting to npy and appending ra and dec took 1.9 sec\n",
      "0 339560\n",
      "converting time and applying extinction map for 339560 sources in nside = 512 took 1.6 sec\n",
      "indexing and remapping to isochrones took 2.7 sec\n",
      "calculating extinction curve for all bands took 8.4 sec\n",
      "339560\n",
      "339467\n",
      "calculated healpix\n",
      "calculated pmdec pmra and rv\n",
      "cleaning of data took 2.8 sec\n",
      "plotting time took 1.5 sec\n",
      "Total time in minutes: 0.7\n",
      "Galaxia spawns catalogue\n",
      "b'Galaxia-v0.81\\nCODEDATAPATH=/home/rybizki/Programme/GalaxiaData/\\nReading Parameter file-             ../output/final2_0.001/GDR2mock_20.7Gmag.log\\n--------------------------------------------------------\\noutputFile               GDR2mock_20.7Gmag       \\nmodelFile                Model/population_parameters_BGM_update.ebf\\ncodeDataDir              /home/rybizki/Programme/GalaxiaData\\noutputDir                ../output/final2_0.001  \\nphotoSys                 parsec1/GAIADR3         \\nmagcolorNames            gaia_g,gaia_bpft-gaia_rp\\nappMagLimits[0]          -1000.000000            \\nappMagLimits[1]          20.700000               \\nabsMagLimits[0]          -1000.000000            \\nabsMagLimits[1]          1000.000000             \\ncolorLimits[0]           -1000.000000            \\ncolorLimits[1]           1000.000000             \\ngeometryOption           0                       \\nlongitude                0.000000                \\nlatitude                 90.000000               \\nsurveyArea               1000.000000             \\nfSample                  0.001000                \\npopID                    -1                      \\nwarpFlareOn              1                       \\nseed                     1                       \\nr_max                    1000.000000             \\nstarType                 0                       \\nphotoError               0                       \\n--------------------------------------------------------\\nReading tabulated values from file- /home/rybizki/Programme/GalaxiaData/Model/vcirc.dat\\nUsing geometry:                     All Sky\\nReading Isochrones from dir-        /home/rybizki/Programme/GalaxiaData/Isochrones/padova/parsec1/GAIADR3\\nzsol=0.0152\\n/home/rybizki/Programme/GalaxiaData/Isochrones/padova/parsec1/GAIADR3\\n13275 75 177\\nIsochrone Grid Size:                (Age bins=177,Feh bins=75,Alpha bins=1)\\nTime Isochrone Reading              1.19058     \\nGenerating populations................\\n--------------------------------------------------------\\nThin disc sigma_v=[50, 32.3, 21, 0.33, 0.33]\\n    [feh, dfeh]=[0.01, -0.12], [0.01, 0.18]\\nThin Disk,ID=0:\\nReading tree from file-             /home/rybizki/Programme/GalaxiaData/BHTree-2.3/bhtree_with_wf/bhtree_0_E1.ebf\\nTime Tree generation/reading =      0.618453    \\nCompleted % <0..10..20..30..40..50..60..70..80..90..>\\nStars spawned =                     68930       \\nTime Spawning=                      16.4761     \\n--------------------------------------------------------\\nThin disc sigma_v=[50, 32.3, 21, 0.33, 0.33]\\n    [feh, dfeh]=[0.01, -0.12], [0.01, 0.18]\\nThin Disk,ID=1:\\nReading tree from file-             /home/rybizki/Programme/GalaxiaData/BHTree-2.3/bhtree_with_wf/bhtree_1_E1.ebf\\nTime Tree generation/reading =      0.536435    \\nCompleted % <0..9..19..29..39..49..59..69..79..89..99..>\\nStars spawned =                     305163      \\nTime Spawning=                      20.3407     \\n--------------------------------------------------------\\nThin disc sigma_v=[50, 32.3, 21, 0.33, 0.33]\\n    [feh, dfeh]=[0.01, -0.12], [0.01, 0.18]\\nThin Disk,ID=2:\\nReading tree from file-             /home/rybizki/Programme/GalaxiaData/BHTree-2.3/bhtree_with_wf/bhtree_2_E1.ebf\\nTime Tree generation/reading =      0.820608    \\nCompleted % <0..9..19..29..39..49..59..69..79..89..99..>\\nStars spawned =                     357248      \\nTime Spawning=                      21.3554     \\n--------------------------------------------------------\\nThin disc sigma_v=[50, 32.3, 21, 0.33, 0.33]\\n    [feh, dfeh]=[0.01, -0.12], [0.01, 0.18]\\nThin Disk,ID=3:\\nReading tree from file-             /home/rybizki/Programme/GalaxiaData/BHTree-2.3/bhtree_with_wf/bhtree_3_E1.ebf\\nTime Tree generation/reading =      0.789569    \\nCompleted % <0..9..19..29..39..49..59..69..79..89..99..>\\nStars spawned =                     349059      \\nTime Spawning=                      18.908      \\n--------------------------------------------------------\\nThin disc sigma_v=[50, 32.3, 21, 0.33, 0.33]\\n    [feh, dfeh]=[0.01, -0.12], [0.01, 0.18]\\nThin Disk,ID=4:\\nReading tree from file-             /home/rybizki/Programme/GalaxiaData/BHTree-2.3/bhtree_with_wf/bhtree_4_E1.ebf\\nTime Tree generation/reading =      0.917977    \\nCompleted % <0..9..19..29..39..49..59..69..79..89..99..>\\nStars spawned =                     704890      \\nTime Spawning=                      23.6713     \\n--------------------------------------------------------\\nThin disc sigma_v=[50, 32.3, 21, 0.33, 0.33]\\n    [feh, dfeh]=[0.01, -0.12], [0.01, 0.18]\\nThin Disk,ID=5:\\nReading tree from file-             /home/rybizki/Programme/GalaxiaData/BHTree-2.3/bhtree_with_wf/bhtree_5_E1.ebf\\nTime Tree generation/reading =      0.97111     \\nCompleted % <0..9..19..29..39..49..59..69..79..89..99..>\\nStars spawned =                     752237      \\nTime Spawning=                      26.3531     \\n--------------------------------------------------------\\nThin disc sigma_v=[50, 32.3, 21, 0.33, 0.33]\\n    [feh, dfeh]=[0.01, -0.12], [0.01, 0.18]\\nThin Disk,ID=6:\\nReading tree from file-             /home/rybizki/Programme/GalaxiaData/BHTree-2.3/bhtree_with_wf/bhtree_6_E1.ebf\\nTime Tree generation/reading =      1.37715     \\nCompleted % <0..10..20..30..40..50..60..70..80..90..>\\nStars spawned =                     1045511     \\nTime Spawning=                      42.1939     \\n--------------------------------------------------------\\nfeh=-0.17 sig_feh=0.27\\nThick disc sigma_v=[67, 51, 42, 0.33, 0.33]\\n    [feh, dfeh, age, dage]=[-0.48, 0.3, 1.1e+10, 1e+09]\\nThickDisk:\\nReading tree from file-             /home/rybizki/Programme/GalaxiaData/BHTree-2.3/bhtree_with_wf/bhtree_7_E0.ebf\\nTime Tree generation/reading =      0.098519    \\nCompleted % <0..9..19..29..39..49..59..69..79..89..99..>\\nStars spawned =                     1419213     \\nTime Spawning=                      11.5703     \\n--------------------------------------------------------\\nSpheroid sigma_v=[131, 106, 85]\\n    [feh, dfeh, age, dage]=[-1.5, 0.5, 1.3e+10, 0]\\nSpheroid:\\nReading tree from file-             /home/rybizki/Programme/GalaxiaData/BHTree-2.3/bhtree_with_wf/bhtree_8_E0.ebf\\nTime Tree generation/reading =      0.068506    \\nCompleted % <0..9..19..29..39..49..59..69..79..89..99..>\\nStars spawned =                     57762       \\nTime Spawning=                      5.55339     \\n--------------------------------------------------------\\nBulge sigma_v=[113, 115, 100, 71.62]\\n    [feh, dfeh, age, dage]=[0, 0.2, 1e+10, 0]\\nBulge:\\nReading tree from file-             /home/rybizki/Programme/GalaxiaData/BHTree-2.3/bhtree_with_wf/bhtree_9_E0.ebf\\nTime Tree generation/reading =      1.03323     \\nCompleted % <0..9..19..29..39..49..59..69..79..89..99..>\\nStars spawned =                     1191829     \\nTime Spawning=                      33.0249     \\n--------------------------------------------------------\\nTotal stars written                 6251842                 \\nFile written-                       ../output/final2_0.001//GDR2mock_20.7Gmag.ebf\\nCalulating magnitudes................\\nReading Isochrones from dir-        /home/rybizki/Programme/GalaxiaData/Isochrones/padova/parsec1/GAIADR3\\nzsol=0.0152\\n/home/rybizki/Programme/GalaxiaData/Isochrones/padova/parsec1/GAIADR3\\n13275 75 177\\nIsochrone Grid Size:                (Age bins=177,Feh bins=75,Alpha bins=1)\\nTime Isochrone Reading              1.80954     \\ngaia_g\\ngaia_bpbr\\ngaia_bpft\\ngaia_rp\\ngaia_rvs\\nCalulating Extinction................\\nTime for extinction calculation     2.2807      \\nTotal Time=                         235.095     \\n'\n",
      "########################################################################################\n",
      "############################# GALAXIA OUTPUT END ##################\n",
      "########################################################################################\n"
     ]
    },
    {
     "name": "stdout",
     "output_type": "stream",
     "text": [
      "6251842\n",
      "('rad', 'teff', 'vx', 'vy', 'vz', 'pz', 'px', 'py', 'feh', 'exbv_schlegel', 'lum', 'glon', 'glat', 'smass', 'age', 'grav', 'gaia_g', 'gaia_bpft', 'gaia_bpbr', 'gaia_rp', 'gaia_rvs', 'popid', 'mact')\n",
      "converting to npy and appending ra and dec took 35.0 sec\n",
      "0 6251842\n",
      "1000000 6251842\n",
      "2000000 6251842\n",
      "3000000 6251842\n",
      "4000000 6251842\n",
      "5000000 6251842\n",
      "6000000 6251842\n",
      "converting time and applying extinction map for 6251842 sources in nside = 512 took 20.7 sec\n",
      "indexing and remapping to isochrones took 48.8 sec\n",
      "calculating extinction curve for all bands took 168.3 sec\n",
      "6251842\n",
      "1636456\n",
      "calculated healpix\n",
      "calculated pmdec pmra and rv\n",
      "cleaning of data took 15.8 sec\n"
     ]
    },
    {
     "name": "stderr",
     "output_type": "stream",
     "text": [
      "/home/rybizki/Desktop/Galaxia_wrap-master/library/defaults.py:9: UserWarning: \n",
      "This call to matplotlib.use() has no effect because the backend has already\n",
      "been chosen; matplotlib.use() must be called *before* pylab, matplotlib.pyplot,\n",
      "or matplotlib.backends is imported for the first time.\n",
      "\n",
      "The backend was *originally* set to 'module://ipykernel.pylab.backend_inline' by the following code:\n",
      "  File \"/home/rybizki/anaconda3/lib/python3.6/runpy.py\", line 193, in _run_module_as_main\n",
      "    \"__main__\", mod_spec)\n",
      "  File \"/home/rybizki/anaconda3/lib/python3.6/runpy.py\", line 85, in _run_code\n",
      "    exec(code, run_globals)\n",
      "  File \"/home/rybizki/anaconda3/lib/python3.6/site-packages/ipykernel_launcher.py\", line 16, in <module>\n",
      "    app.launch_new_instance()\n",
      "  File \"/home/rybizki/anaconda3/lib/python3.6/site-packages/traitlets/config/application.py\", line 658, in launch_instance\n",
      "    app.start()\n",
      "  File \"/home/rybizki/anaconda3/lib/python3.6/site-packages/ipykernel/kernelapp.py\", line 477, in start\n",
      "    ioloop.IOLoop.instance().start()\n",
      "  File \"/home/rybizki/anaconda3/lib/python3.6/site-packages/zmq/eventloop/ioloop.py\", line 177, in start\n",
      "    super(ZMQIOLoop, self).start()\n",
      "  File \"/home/rybizki/anaconda3/lib/python3.6/site-packages/tornado/ioloop.py\", line 888, in start\n",
      "    handler_func(fd_obj, events)\n",
      "  File \"/home/rybizki/anaconda3/lib/python3.6/site-packages/tornado/stack_context.py\", line 277, in null_wrapper\n",
      "    return fn(*args, **kwargs)\n",
      "  File \"/home/rybizki/anaconda3/lib/python3.6/site-packages/zmq/eventloop/zmqstream.py\", line 440, in _handle_events\n",
      "    self._handle_recv()\n",
      "  File \"/home/rybizki/anaconda3/lib/python3.6/site-packages/zmq/eventloop/zmqstream.py\", line 472, in _handle_recv\n",
      "    self._run_callback(callback, msg)\n",
      "  File \"/home/rybizki/anaconda3/lib/python3.6/site-packages/zmq/eventloop/zmqstream.py\", line 414, in _run_callback\n",
      "    callback(*args, **kwargs)\n",
      "  File \"/home/rybizki/anaconda3/lib/python3.6/site-packages/tornado/stack_context.py\", line 277, in null_wrapper\n",
      "    return fn(*args, **kwargs)\n",
      "  File \"/home/rybizki/anaconda3/lib/python3.6/site-packages/ipykernel/kernelbase.py\", line 283, in dispatcher\n",
      "    return self.dispatch_shell(stream, msg)\n",
      "  File \"/home/rybizki/anaconda3/lib/python3.6/site-packages/ipykernel/kernelbase.py\", line 235, in dispatch_shell\n",
      "    handler(stream, idents, msg)\n",
      "  File \"/home/rybizki/anaconda3/lib/python3.6/site-packages/ipykernel/kernelbase.py\", line 399, in execute_request\n",
      "    user_expressions, allow_stdin)\n",
      "  File \"/home/rybizki/anaconda3/lib/python3.6/site-packages/ipykernel/ipkernel.py\", line 196, in do_execute\n",
      "    res = shell.run_cell(code, store_history=store_history, silent=silent)\n",
      "  File \"/home/rybizki/anaconda3/lib/python3.6/site-packages/ipykernel/zmqshell.py\", line 533, in run_cell\n",
      "    return super(ZMQInteractiveShell, self).run_cell(*args, **kwargs)\n",
      "  File \"/home/rybizki/anaconda3/lib/python3.6/site-packages/IPython/core/interactiveshell.py\", line 2698, in run_cell\n",
      "    interactivity=interactivity, compiler=compiler, result=result)\n",
      "  File \"/home/rybizki/anaconda3/lib/python3.6/site-packages/IPython/core/interactiveshell.py\", line 2808, in run_ast_nodes\n",
      "    if self.run_code(code, result):\n",
      "  File \"/home/rybizki/anaconda3/lib/python3.6/site-packages/IPython/core/interactiveshell.py\", line 2862, in run_code\n",
      "    exec(code_obj, self.user_global_ns, self.user_ns)\n",
      "  File \"<ipython-input-2-33bfb5ad75d9>\", line 8, in <module>\n",
      "    fSample = 0.001, make_likelihood_asessment=False)\n",
      "  File \"/home/rybizki/Desktop/Galaxia_wrap-master/library/convert_to_recarray.py\", line 198, in create_gdr2mock_mag_limited_survey\n",
      "    plot_sky_map(x,nside,fSample,appMagLimits1,outputDir,outputFile)\n",
      "  File \"/home/rybizki/Desktop/Galaxia_wrap-master/library/util.py\", line 249, in plot_sky_map\n",
      "    import matplotlib.pylab as plt\n",
      "  File \"/home/rybizki/anaconda3/lib/python3.6/site-packages/matplotlib/pylab.py\", line 252, in <module>\n",
      "    from matplotlib import cbook, mlab, pyplot as plt\n",
      "  File \"/home/rybizki/anaconda3/lib/python3.6/site-packages/matplotlib/pyplot.py\", line 71, in <module>\n",
      "    from matplotlib.backends import pylab_setup\n",
      "  File \"/home/rybizki/anaconda3/lib/python3.6/site-packages/matplotlib/backends/__init__.py\", line 16, in <module>\n",
      "    line for line in traceback.format_stack()\n",
      "\n",
      "\n",
      "  matplotlib.use('Agg') ## use a non-interactive Agg background\n"
     ]
    },
    {
     "name": "stdout",
     "output_type": "stream",
     "text": [
      "total number of stars = 1636456000\n",
      "0.0\n",
      "1636456000.0128925\n",
      "124787178144.8272\n",
      "plotting time took 8.2 sec\n",
      "Total time in minutes: 8.9\n"
     ]
    }
   ],
   "source": [
    "name = 'final2'\n",
    "create_gdr2mock_mag_limited_survey(nside = 512, outputDir = '../output/%s_100pc' %(name),\n",
    "                                   use_previous = False, delete_ebf = True,\n",
    "                                  fSample = 1, make_likelihood_asessment=False, r_max = 0.1,\n",
    "                                  verbose = False)\n",
    "create_gdr2mock_mag_limited_survey(nside = 512, outputDir = '../output/%s_0.001' %(name),\n",
    "                                   use_previous = False, delete_ebf = True,\n",
    "                                  fSample = 0.001, make_likelihood_asessment=False)"
   ]
  },
  {
   "cell_type": "code",
   "execution_count": null,
   "metadata": {
    "collapsed": true
   },
   "outputs": [],
   "source": []
  }
 ],
 "metadata": {
  "kernelspec": {
   "display_name": "Python 3",
   "language": "python",
   "name": "python3"
  },
  "language_info": {
   "codemirror_mode": {
    "name": "ipython",
    "version": 3
   },
   "file_extension": ".py",
   "mimetype": "text/x-python",
   "name": "python",
   "nbconvert_exporter": "python",
   "pygments_lexer": "ipython3",
   "version": "3.6.3"
  }
 },
 "nbformat": 4,
 "nbformat_minor": 2
}
